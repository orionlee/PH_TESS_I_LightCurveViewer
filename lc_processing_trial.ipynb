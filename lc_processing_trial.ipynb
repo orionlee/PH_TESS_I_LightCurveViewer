{
 "cells": [
  {
   "cell_type": "code",
   "execution_count": null,
   "metadata": {},
   "outputs": [],
   "source": [
    "%matplotlib inline\n",
    "import lightkurve as lk\n",
    "from lightkurve_ext import download_lightcurvefiles\n",
    "import tic_plot as tplt\n",
    "\n",
    "import numpy as np\n",
    "import matplotlib.pyplot as plt\n",
    "import matplotlib as matplotlib\n",
    "\n",
    "import pandas as pd\n",
    "import astropy as astropy\n",
    "from astropy.io import fits"
   ]
  },
  {
   "cell_type": "code",
   "execution_count": null,
   "metadata": {},
   "outputs": [],
   "source": [
    "# Try to plot that handles discontinuity\n",
    "\n",
    "x = np.array([0, 0.5, 1, 1.5, 3, 3.5, 4, 4.5])\n",
    "y = np.array([2, 3, 2, 3, 4, 5, 4, 5])\n",
    "x_diff = np.diff(x, prepend=-0.4)\n"
   ]
  },
  {
   "cell_type": "code",
   "execution_count": null,
   "metadata": {},
   "outputs": [],
   "source": [
    "from IPython.core.interactiveshell import InteractiveShell\n",
    "# show all outputs, not just the last expression\n",
    "# see https://ipython.readthedocs.io/en/stable/config/options/terminal.html#configtrait-InteractiveShell.ast_node_interactivity\n",
    "InteractiveShell.ast_node_interactivity = \"all\""
   ]
  },
  {
   "cell_type": "code",
   "execution_count": null,
   "metadata": {},
   "outputs": [],
   "source": [
    "x_diff\n",
    "y\n",
    "y_masked = np.ma.masked_where(x_diff > 0.5, y)\n",
    "y_masked\n",
    "\n",
    "def mask_discontinous(x, y, min_x_diff):\n",
    "    x_diff = np.diff(x, prepend=-min_x_diff)\n",
    "    return np.ma.masked_where(x_diff > min_x_diff, y)\n",
    "\n",
    "plt.plot(x, mask_discontinous(x, y, 0.6))"
   ]
  },
  {
   "cell_type": "code",
   "execution_count": null,
   "metadata": {},
   "outputs": [],
   "source": [
    "# restore default\n",
    "InteractiveShell.ast_node_interactivity = \"last_expr\""
   ]
  },
  {
   "cell_type": "code",
   "execution_count": null,
   "metadata": {
    "scrolled": true
   },
   "outputs": [],
   "source": [
    "# Possible Candidates, not a TOI yet\n",
    "# the dips look a tad V-shape though.\n",
    "tic1 = 232612416\n",
    "\n",
    "# Load the light_curves into collection\n",
    "lcf_coll = download_lightcurvefiles(f\"TIC{tic1}\", mission='TESS', download_dir='./data')\n",
    "print(len(lcf_coll))\n"
   ]
  },
  {
   "cell_type": "code",
   "execution_count": null,
   "metadata": {},
   "outputs": [],
   "source": [
    "# lcf_coll.PDCSAP_FLUX.plot()\n",
    "\n",
    "lcf14 = lcf_coll[0]\n",
    "lc14 = lcf14.PDCSAP_FLUX\n",
    "lc14.scatter()\n",
    "\n",
    "fig = plt.figure(figsize=(12, 6))\n",
    "fig.gca().scatter(lc14.time, lc14.flux)\n",
    "\n",
    "lcf_coll\n",
    "\n",
    "# foo = lk.search.search_lightcurvefile(target='TIC232612416', mission='TESS').download_all()\n",
    "# foo"
   ]
  },
  {
   "cell_type": "code",
   "execution_count": null,
   "metadata": {},
   "outputs": [],
   "source": [
    "lc14.quality_bitmask\n",
    "print('unit=_{}_'.format(lc14.normalize().flux_unit))"
   ]
  },
  {
   "cell_type": "code",
   "execution_count": null,
   "metadata": {},
   "outputs": [],
   "source": [
    "time_s = np.nanmin(lc14.time)\n",
    "lc14.time_orig = lc14.time\n",
    "lc14.time_rel = lc14.time_orig - time_s\n",
    "lc14.time = lc14.time_rel\n",
    "ax = lc14.plot()\n",
    "ax.set_xlabel('Time, relative [BTJD days]')\n",
    "\n",
    "# Proposed new method\n",
    "# LC being a LightCurve\n",
    "# lc14.plot(use_relative_time=True)\n",
    "\n",
    "fig = plt.figure(figsize=(8,8))\n",
    "st=9000\n",
    "end=10000\n",
    "fig.gca().scatter(lc14.cadenceno[st:end], lc14.time[st:end])\n",
    "len(lc14.cadenceno)\n",
    "# lc14.time_format\n",
    "\n",
    "lc14.cadenceno[13] - lc14.cadenceno[0]\n",
    "(lc14.time[13] - lc14.time[0]) * 24 * 60 # in minutes\n"
   ]
  },
  {
   "cell_type": "code",
   "execution_count": null,
   "metadata": {},
   "outputs": [],
   "source": [
    "lk.__version__"
   ]
  },
  {
   "cell_type": "code",
   "execution_count": null,
   "metadata": {},
   "outputs": [],
   "source": [
    "tplt.plot_all(lcf_coll)"
   ]
  },
  {
   "cell_type": "code",
   "execution_count": null,
   "metadata": {},
   "outputs": [],
   "source": []
  },
  {
   "cell_type": "code",
   "execution_count": null,
   "metadata": {},
   "outputs": [],
   "source": [
    "if False: \n",
    "    fig = plt.figure(figsize=(30,15))\n",
    "    tplt.plot_lcf_flux_delta(tplt.lcf_of_sector(lcf_coll, 15), fig.gca()\n",
    "                     , xmin=1734.5, xmax=1735.5\n",
    "                       )\n"
   ]
  },
  {
   "cell_type": "code",
   "execution_count": null,
   "metadata": {
    "scrolled": false
   },
   "outputs": [],
   "source": [
    "def plot_selected(lcf_coll):                      \n",
    "    matplotlib.rcParams.update({'font.size':18}) \n",
    "    matplotlib.rcParams.update({'font.family':'sans-serif'})\n",
    "    ax = tplt.plot_n_annotate_lcf(tplt.lcf_of_sector(lcf_coll, 14), ax=tplt.lcf_fig().gca()\n",
    "                        , t0=1687.13, t_start=1687.06, t_end=1687.21\n",
    "#                         , t0=1704.58, t_start=1704.51, t_end=1704.65\n",
    "                       )\n",
    "    tplt.plot_n_annotate_lcf(tplt.lcf_of_sector(lcf_coll, 15), ax=tplt.lcf_fig().gca()\n",
    "                        , t0=1735.10, t_start=1735.03, t_end=1735.17\n",
    "                       )\n",
    "#     print(f\"Period ~= {as_4decimal(1622.5 - 1538.6)} days\")\n",
    "    return \n",
    "\n",
    "plot_selected(lcf_coll)\n",
    "\n",
    "print(\"Sectors: \" + str(list(map(lambda lcf: lcf.header()['SECTOR'], lcf_coll))))\n"
   ]
  },
  {
   "cell_type": "code",
   "execution_count": null,
   "metadata": {},
   "outputs": [],
   "source": [
    "# show more properties of one lightcurve\n",
    "\n",
    "print(list(map(lambda lc: lc.header()['SECTOR'], lcf_coll)))\n",
    "print(list(map(lambda lc: lc.header()['CAMERA'], lcf_coll)))\n",
    "print(list(map(lambda lc: lc.header()['DATE-OBS'], lcf_coll)))\n",
    "\n",
    "lcf14 = tplt.lcf_of_sector(lcf_coll, 14)\n",
    "lc14 = lcf14.PDCSAP_FLUX.normalize(unit='percent')\n",
    "\n",
    "lc14.show_properties()\n",
    "\n",
    "# noise estimates\n",
    "# transit_duration=90, 90 cadence, roughly 3 hours with in data with 2-min cadence\n",
    "print (f\"CDPP: {lc14.estimate_cdpp(transit_duration=90)}\")\n",
    "print (f\"CDPP - flatten: {lc14.flatten().estimate_cdpp(transit_duration=90)}\")\n",
    "print (f\"CDPP - remove outlines: {lc14.remove_outliers().estimate_cdpp(transit_duration=90)}\")\n",
    "\n"
   ]
  },
  {
   "cell_type": "code",
   "execution_count": null,
   "metadata": {},
   "outputs": [],
   "source": [
    "def newplot(title):\n",
    "    fig = plt.figure(figsize=(15, 6))\n",
    "    fig.gca().set_title(title)\n",
    "    return fig\n",
    "\n",
    "fig = newplot('Base plot, no processing')\n",
    "lc14.scatter(ax=fig.gca())\n"
   ]
  },
  {
   "cell_type": "code",
   "execution_count": null,
   "metadata": {},
   "outputs": [],
   "source": [
    "# default 5 sigma seems to be okay\n",
    "fig = newplot('remove_outliers()')\n",
    "lc14.remove_outliers().scatter(ax=fig.gca())\n"
   ]
  },
  {
   "cell_type": "code",
   "execution_count": null,
   "metadata": {},
   "outputs": [],
   "source": [
    "fig = newplot('flatten() - too aggressive')\n",
    "lc14.flatten().scatter(ax=fig.gca())\n"
   ]
  },
  {
   "cell_type": "code",
   "execution_count": null,
   "metadata": {},
   "outputs": [],
   "source": [
    "corrector = lc14.to_corrector(method='sff') # SFFCorrector\n",
    "lc_corr = corrector.correct()\n",
    "fig = newplot('w/ SFFCorrector - not much difference')\n",
    "lc_corr.scatter(ax=fig.gca())\n"
   ]
  },
  {
   "cell_type": "code",
   "execution_count": null,
   "metadata": {},
   "outputs": [],
   "source": [
    "# SFFCorrector relies on centroid, show centroid\n",
    "\n",
    "fig = plt.figure(figsize=(12,12))\n",
    "fig.gca().scatter(lc14.centroid_col, lc14.centroid_row)\n",
    "fig.gca().set_title('Centroids')\n"
   ]
  },
  {
   "cell_type": "code",
   "execution_count": null,
   "metadata": {},
   "outputs": [],
   "source": [
    "lcf15 = tplt.lcf_of_sector(download_lightcurvefiles(f\"TIC232526073\", mission='TESS', download_dir='./data')\n",
    "                          , 15)\n"
   ]
  },
  {
   "cell_type": "code",
   "execution_count": null,
   "metadata": {
    "scrolled": true
   },
   "outputs": [],
   "source": [
    "tplt.animate_centroids(lcf15\n",
    "                       , fig=plt.figure(figsize=(8,8))\n",
    "                       , num_obs_per_frame = 480\n",
    "#                        , frames=list(map(lambda n: int(n), np.linspace(720, 720 + 720, num=24, endpoint=True)))\n",
    "                       , interval=750\n",
    "                       , c='blue', accumulative=False, use_relative_time=True)\n"
   ]
  },
  {
   "cell_type": "code",
   "execution_count": null,
   "metadata": {
    "scrolled": false
   },
   "outputs": [],
   "source": [
    "# binsize 15 is approximately half an hour, so it's roughly the same as mooving average of 30minues\n",
    "lc14.bin(binsize=15).plot(title=\"Binned, size=15\")\n"
   ]
  },
  {
   "cell_type": "code",
   "execution_count": null,
   "metadata": {},
   "outputs": [],
   "source": [
    "fig = newplot('Folded Lightcurve (1 sector), outliers removed')\n",
    "# t0, period by eyeballing the lightcurve\n",
    "t0 = 1687.13\n",
    "period = 4.3625\n",
    "lc14.remove_outliers().fold(period, t0=t0).scatter(ax=fig.gca())\n",
    "\n",
    "fig = newplot('Folded Lightcurve (all sectors), outliers removed')\n",
    "lcf_coll.PDCSAP_FLUX.stitch().normalize().remove_outliers().fold(period, t0=t0).scatter(ax=fig.gca())\n"
   ]
  },
  {
   "cell_type": "code",
   "execution_count": null,
   "metadata": {},
   "outputs": [],
   "source": [
    "# Detrending, with moving average as the fit\n",
    "# - based on https://oldtalk.planethunters.org/science/discussions/DPH100ht7b\n",
    "\n",
    "df14_ma = tplt.add_flux_moving_average(lc14, '30min')\n",
    "df14_ma['flux_detrended'] = df14_ma['flux'] - df14_ma['flux_mavg'] + 100.0\n",
    "\n",
    "# OPEN: I am not quite sure how to interpret / use detrended flux \n",
    "if True:\n",
    "    plt.figure(figsize=(15,10))\n",
    "    plt.scatter(df14_ma['time'], df14_ma['flux'], label=\"base\")\n",
    "    plt.scatter(df14_ma['time'], df14_ma['flux_mavg'], label=\"moving avg\")\n",
    "    plt.legend()\n",
    "    plt.figure(figsize=(15,10))\n",
    "    plt.scatter(df14_ma['time'], df14_ma['flux_detrended'], label='detrended')\n",
    "    plt.legend()\n",
    "\n"
   ]
  },
  {
   "cell_type": "code",
   "execution_count": null,
   "metadata": {},
   "outputs": [],
   "source": [
    "# show details of one dip\n",
    "df14 = lcf14.PDCSAP_FLUX.normalize(unit='percent').to_pandas(columns=['time', 'flux', 'centroid_row', 'centroid_col'])\n",
    "df14[(df14.time >= 1704.51) & (df14.time <= 1704.65)]\n"
   ]
  },
  {
   "cell_type": "code",
   "execution_count": null,
   "metadata": {
    "scrolled": true
   },
   "outputs": [],
   "source": [
    "print(\"Sector Observation time range:\")\n",
    "for i in range(0, len(lcf_coll)):\n",
    "    lc_cur = lcf_coll[i].get_lightcurve('PDCSAP_FLUX')\n",
    "    print(f\"  Sector {lcf_coll[i].header()['SECTOR']}: {lc_cur.time.min()} - {lc_cur.time.max()}\")\n",
    "\n",
    "# use the interactive transit period detection\n",
    "#   caveat: un-sure if combining observations over time make sense for the algorithm\n",
    "lcf_coll.PDCSAP_FLUX.stitch().interact_bls()\n"
   ]
  },
  {
   "cell_type": "code",
   "execution_count": null,
   "metadata": {},
   "outputs": [],
   "source": []
  }
 ],
 "metadata": {
  "kernelspec": {
   "display_name": "Python 3",
   "language": "python",
   "name": "python3"
  },
  "language_info": {
   "codemirror_mode": {
    "name": "ipython",
    "version": 3
   },
   "file_extension": ".py",
   "mimetype": "text/x-python",
   "name": "python",
   "nbconvert_exporter": "python",
   "pygments_lexer": "ipython3",
   "version": "3.7.3"
  }
 },
 "nbformat": 4,
 "nbformat_minor": 2
}
