{
 "cells": [
  {
   "cell_type": "code",
   "execution_count": null,
   "id": "f3947b93-4220-4a29-a7f7-d9fcde3d35ba",
   "metadata": {},
   "outputs": [],
   "source": [
    "import sys\n",
    "if \"../\" not in sys.path:  # to get my usual helpers at base dir\n",
    "    sys.path.append(\"../\")\n",
    "\n",
    "import lightkurve as lk\n",
    "from lightkurve_ext import of_sector, of_sectors, of_2min_cadences\n",
    "import lightkurve_ext as lke\n",
    "from lightkurve_ext import TransitTimeSpec, TransitTimeSpecList\n",
    "import lightkurve_ext_tess as lket\n",
    "import lightkurve_ext_pg as lke_pg\n",
    "import lightkurve_ext_pg_runner as lke_pg_runner\n",
    "import tic_plot as tplt\n",
    "\n",
    "import asyncio_compat\n",
    "\n",
    "import math\n",
    "import re\n",
    "import warnings\n",
    "\n",
    "import numpy as np\n",
    "import matplotlib.pyplot as plt\n",
    "import matplotlib as matplotlib\n",
    "\n",
    "import pandas as pd\n",
    "import astropy as astropy\n",
    "from astropy import units as u\n",
    "from astropy.coordinates import SkyCoord\n",
    "from astropy.time import Time, TimeDelta\n",
    "from astropy.io import fits\n",
    "\n",
    "from matplotlib.ticker import (FormatStrFormatter, AutoMinorLocator)\n",
    "\n",
    "from importlib import reload # useful during development to reload packages\n",
    "\n",
    "from IPython.display import display, HTML, Javascript, clear_output\n",
    "\n",
    "display(HTML(\"<style>.container { width:99% !important; }</style>\"))  # Jupyter 6\n",
    "display(HTML(\"<style>.jp-Notebook { --jp-notebook-max-width: 98%; }</style>\"))  # Jupyter 7\n",
    "\n",
    "\n",
    "# No longer works in Jupyter 7+\n",
    "display(Javascript(\"\"\"\n",
    "// export notebook url to Python for bokeh-based interactive features\n",
    "if (window[\"IPython\"] != null) {\n",
    "  IPython.notebook.kernel.execute(`notebook_url = \"${window.location.origin}\"`);\n",
    "} else {\n",
    "  console.warn(\"IPython js object not available (in Jupyter 7). Hardcode notebook_url in the notebook itself instead.\")\n",
    "}\n",
    "\"\"\"));\n",
    "notebook_url = \"localhost:8888\"\n",
    "\n",
    "%matplotlib inline\n",
    "\n",
    "# data cache config\n",
    "lk_download_dir = '../data'\n",
    "if hasattr(lk, \"conf\"):  # default download dir\n",
    "    lk.conf.cache_dir = lk_download_dir\n",
    "\n",
    "# make markdown table aligned to the left of the cell output (instead of center)\n",
    "display(HTML(\"<style>table {margin-left: 4ch;}</style>\"))"
   ]
  },
  {
   "cell_type": "markdown",
   "id": "a104afd7-5ac4-4a11-8682-ef9fbda08525",
   "metadata": {},
   "source": [
    "# TIC 400621146 Analysis (EA)\n",
    "\n",
    "Meant to replace the entry for ASASSN-V J062350.06+314059.7\n",
    "\n",
    "VSX Entry: https://www.aavso.org/vsx/index.php?view=detail.top&oid=727741\n",
    "\n",
    "3 stars in questions.\n",
    "Star A / TIC 400621146, has  ready lightcurves from TESS\n",
    "Star B / TIC 400621142, or ASASSN-V J062350.06+314059.7, is the one identified in VSX \n",
    "Star C / TIC 721936129, is the actual variability source based on this analysis\n",
    " \n",
    "\n",
    "| Star | ZTF DR19 oid   | TESS          | Gaia                       | GMag | Separation |\n",
    "| ---- | -------------- | ------------- | -------------------------- | ---- | ---------- |\n",
    "| A    |                | TIC 400621146 | Gaia DR3 3438744335522402944 | 13.1 | 0\"         |\n",
    "| B    | 660106400019014 | TIC 400621142 | Gaia DR3 3438744331224091648 | 12.3 | 17.8\"       |\n",
    "| C    | 660106400019009 | TIC 721936129 | Gaia DR3 3438744335522400896 | 14.9 | 19.1\"       |\n",
    "\n",
    "\n",
    "TODO:\n",
    "\n",
    "- TESS TCE centroid offset analysis suggests star A is not the source, C is likely to be the source.\n",
    "https://exo.mast.stsci.edu/exomast_planet.html?planet=TIC400621146S0014S0060TCE1\n",
    "\n",
    "- ZTF DR 19 data concurs\n",
    "https://irsa.ipac.caltech.edu/cgi-bin/Gator/nph-scan?submit=Select&projshort=ZTF\n",
    "\n",
    "- Gaia DR3 Variable also concurs (period there does not match though)\n",
    "\n",
    "- Get an updated epoch / period, from TESS (possibly ZTF and ASAS-SN as well, need to scale the data)\n",
    "  \n",
    "- Get updated amplitude, maybe use ZTF data?\n",
    "\n",
    "- ZTF data time span: ~663 d, HJD 2458204.6 to 2458867.7\n",
    "- TESS data time span: ~1442 d, BTJD 1842.5 to 3285.5, or HJD 2458842.5 to 2460285.6 , largely after ZTF data\n",
    "\n",
    "See also: https://www.zooniverse.org/projects/nora-dot-eisner/planet-hunters-tess/talk/2112/3210327?comment=5282083\n"
   ]
  },
  {
   "cell_type": "markdown",
   "id": "0ee1ab59-ba65-4a95-95ce-028ef512a037",
   "metadata": {},
   "source": [
    "## Centroid Offset Analysis from TESS\n",
    "\n",
    "TODO:  update with the correct info.\n",
    "\n",
    "TESS TCEs suggest similar offset, e.g. from the [TCE for sectors 42 - 44](https://mast.stsci.edu/api/v0.1/Download/file?uri=mast:TESS/product/tess2021233042500-s0042-s0046-0000000242942524-00550_dvm.pdf), i.e., 2021 Aug 20 to Nov 06.\n",
    "\n",
    "\n",
    "TESS Sector observation date for reference:  https://heasarc.gsfc.nasa.gov/docs/tess/sector.html"
   ]
  },
  {
   "cell_type": "code",
   "execution_count": null,
   "id": "25cd4db3",
   "metadata": {},
   "outputs": [],
   "source": [
    "display(HTML(lket.get_tic_meta_in_html(400621146, download_dir=lk_download_dir)))"
   ]
  },
  {
   "cell_type": "markdown",
   "id": "90d01f5e-e401-4f91-93d2-86cbae2a0f88",
   "metadata": {},
   "source": [
    "---"
   ]
  },
  {
   "cell_type": "markdown",
   "id": "4f7f7cf9",
   "metadata": {},
   "source": [
    "## Gaia DR3 info (coordinate, etc.)"
   ]
  },
  {
   "cell_type": "code",
   "execution_count": null,
   "id": "83ceeb07",
   "metadata": {},
   "outputs": [],
   "source": [
    "rs_all_cols, rs, rs_html  = lket.search_gaiadr3_of_tics(721936129)\n",
    "display(HTML(rs_html))\n",
    "\n",
    "# from Gaia DR3\n",
    "target_coord = SkyCoord(95.95788108134, 31.68409665935, unit=(u.deg, u.deg), frame=\"icrs\")\n",
    "target_coord_dict = dict(target_coord.ra.value, target_coord.dec.value)\n",
    "primary_name = \"TIC 721936129\""
   ]
  },
  {
   "cell_type": "markdown",
   "id": "940d6260-7be1-4751-ad4b-4f262a470c54",
   "metadata": {},
   "source": [
    "## TODO: Get K2 / TESS Data for the nearby star TIC 400621146\n",
    "\n",
    "primary for epoch / period"
   ]
  },
  {
   "cell_type": "code",
   "execution_count": null,
   "id": "eac79e20-fd49-4955-b78f-b90120aabf63",
   "metadata": {},
   "outputs": [],
   "source": [
    "sr = lk.search_lightcurve(\"EPIC 210666756\")\n",
    "display(sr)\n",
    "\n",
    "lc_k2 = sr[sr.author == \"K2\"].download()\n",
    "ax = lc_k2.normalize().scatter();\n",
    "ax.set_ylim(0.999, 1.001);"
   ]
  },
  {
   "cell_type": "code",
   "execution_count": null,
   "id": "9d2fdb15",
   "metadata": {},
   "outputs": [],
   "source": [
    "sr = lk.search_lightcurve(\"TIC242942524\", cadence=\"short\")\n",
    "display(sr)\n",
    "\n",
    "lcc_tess = sr.download_all()  # a collection of LCs\n",
    "# Note: SAP_FLUX will be used as the basis for crowding correction, see crowding correction section below.\n",
    "# Here, SAP_FLUX is also used to avoid any confusion.\n",
    "# To keep the LC clean, problematic cadences (mostly due to scattered lights)\n",
    "# are avoided by using `.remove_nans()` on PDCSAP_FLUX\n",
    "#\n",
    "# `lc_k2` above still uses PDCSAP_FLUX, because SAP_FLUX is not usable for K2.\n",
    "# Furthermore, K2 data is not used for crowding correction anyway. So it's not critical to be in SAP_FLUX\n",
    "lc_tess = lke.stitch(lcc_tess, corrector_func=lambda lc: lc.remove_nans().select_flux(\"sap_flux\").normalize())\n",
    "axs = tplt.plot_skip_data_gap(lc_tess, figsize=(30,5), s=4, alpha=0.9);\n",
    "[ax.set_ylim(0.98, 1.02) for ax in axs];\n",
    "print(\"TESS flux origin:\", lc_tess.flux_origin)"
   ]
  },
  {
   "cell_type": "code",
   "execution_count": null,
   "id": "b0861112",
   "metadata": {},
   "outputs": [],
   "source": [
    "#\n",
    "# Eclipse parameters\n",
    "#\n",
    "\n",
    "# epoch from s0042-s0046:TCE1 below, period from Sebatsian (based on TESS + K2)\n",
    "epoch_time_btjd = 2448.5286\n",
    "epoch_time_bkjd = Time(epoch_time_btjd, format=\"btjd\").to_value(\"bkjd\")\n",
    "epoch_time_hjd = lke.to_hjd_utc(Time(epoch_time_btjd, format=\"btjd\"), target_coord).value\n",
    "epoch_time_hjd = round(epoch_time_hjd, 3)  # for VSX reporting, 3 digit precision (~1.44 min) is more than enough\n",
    "period = 1.396455\n",
    "duration_hr = 1.6  # based on TESS TCEs"
   ]
  },
  {
   "cell_type": "markdown",
   "id": "5658ad96",
   "metadata": {},
   "source": [
    "Convert TESS / K2 data to be in HJD/UTC and magnitude"
   ]
  },
  {
   "cell_type": "code",
   "execution_count": null,
   "id": "009ce4de",
   "metadata": {},
   "outputs": [],
   "source": [
    "# Convert the data to magnitude and HJD/UTC\n",
    "\n",
    "import lightkurve_ext_multi_sources as lkem\n",
    "reload(lkem)\n",
    "reload(lke)\n",
    "\n",
    "\n",
    "lc_k2 = lke.convert_lc_time_to_hjd_utc(lc_k2, target_coord=target_coord, cache_dir=lk_download_dir)\n",
    "lc_k2 = lke.to_flux_in_mag_by_normalization(lc_k2)\n",
    "lc_tess = lke.convert_lc_time_to_hjd_utc(lc_tess, target_coord=target_coord, cache_dir=lk_download_dir)\n",
    "lc_tess = lke.to_flux_in_mag_by_normalization(lc_tess)\n",
    "\n",
    "lc_combined_dict = lkem.combine_tess_n_k2(lc_tess, lc_k2)\n",
    "for k in lc_combined_dict.keys():\n",
    "    print(f\"{k} # data points:\", len(lc_combined_dict[k]))\n",
    "\n",
    "ax = lkem.plot_tess_n_k2(lc_combined_dict, figsize=(24, 10), target_name=\"Nearby EPIC 210666756\");\n",
    "ax.set_ylim(None, 12.25);"
   ]
  },
  {
   "cell_type": "markdown",
   "id": "941982cd",
   "metadata": {},
   "source": [
    "## Crowding correction (on TESS data)\n",
    "\n",
    "- Use TESS data only as it has less spatial resolution. So the aperture of the contaminated lightcurve has proportionally more flux from the actual target."
   ]
  },
  {
   "cell_type": "code",
   "execution_count": null,
   "id": "9d4faa6d",
   "metadata": {},
   "outputs": [],
   "source": [
    "sr_tpf = lk.search_targetpixelfile(\"TIC242942524\")\n",
    "display(sr_tpf)\n",
    "tpf = sr_tpf[0].download();\n",
    "\n",
    "tpf.interact_sky(notebook_url=notebook_url, aperture_mask=\"pipeline\");"
   ]
  },
  {
   "cell_type": "markdown",
   "id": "e62f171e-8a77-43ad-994d-ceda0e4c4848",
   "metadata": {},
   "source": [
    "The 3 stars in the TESS aperture\n",
    "\n",
    "![skyview](https://i.gyazo.com/22d7a82f5c04ff29c524deea9cb4bb20.png)"
   ]
  },
  {
   "cell_type": "code",
   "execution_count": null,
   "id": "867642e8-ca32-4385-83c9-c92177a21227",
   "metadata": {},
   "outputs": [],
   "source": [
    "t0 = epoch_time_btjd  + period * 1  # choose a dip that is\n",
    "tpf_trunc = lke.truncate(tpf,  t0 - duration_hr / 24 * 2, t0 + duration_hr / 24 * 2)\n",
    "tpf_trunc.to_lightcurve().scatter();\n",
    "\n",
    "pixel_size_inches, markersize = 0.6, 1\n",
    "ax = tplt.lk_ax(figsize=(tpf_trunc.flux[0].shape[1] * pixel_size_inches, tpf_trunc.flux[0].shape[0] * pixel_size_inches))\n",
    "tpf_trunc.plot_pixels(ax=ax, markersize=markersize, show_flux=True, aperture_mask=\"pipeline\");"
   ]
  },
  {
   "cell_type": "markdown",
   "id": "8a6f3e63",
   "metadata": {},
   "source": [
    "### Determine the relative flux of the target in the aperture, and construct crowding corrected Lightcurve"
   ]
  },
  {
   "cell_type": "code",
   "execution_count": null,
   "id": "d8d60471",
   "metadata": {},
   "outputs": [],
   "source": [
    "# The 3 TICs in the aperture\n",
    "\n",
    "tics = [ 242942524,   # the TESS lc's target\n",
    "        640392006,  # the other star\n",
    "        242942527,  # the actual variability source to be reported\n",
    "]\n",
    "\n",
    "tic_rs = lket.catalog_info_of_tics(tics)\n",
    "# 12.3083: Tmag of TIC 242942524, the brightest one with pre-built lightcurves in TESS / K2\n",
    "tic_rs[\"Relative_Flux\"] = 1 / 2.51 **(tic_rs[\"Tmag\"] - 12.3083)\n",
    "\n",
    "display(HTML(\"\"\"Column Descriptions in:\n",
    "<a href=\"https://outerspace.stsci.edu/display/TESS/TIC+v8.2+and+CTL+v8.xx+Data+Release+Notes\" target=\"_tic_columns_doc\">Data Release Notes</a> |\n",
    "<a href=\"https://vizier.cds.unistra.fr/viz-bin/VizieR?-source=IV/39\" target=\"_tic_vizier\" title=\"Vizier seems to have more complete information about various flag values.\">Vizier table</a>\n",
    "\"\"\"))\n",
    "display(\n",
    "    tic_rs['ID',\n",
    "           'Tmag',\n",
    "           'Relative_Flux',\n",
    "           'Vmag',\n",
    "           'VmagFlag',  # source of Vmag\n",
    "           'GAIA', 'TWOMASS', 'disposition', 'duplicate_id',\n",
    "          ]\n",
    ")"
   ]
  },
  {
   "cell_type": "code",
   "execution_count": null,
   "id": "9a559aec",
   "metadata": {},
   "outputs": [],
   "source": [
    "# estimate the ratio of the flux in the contaminated aperture that belongs to the target\n",
    "# and construct a corrected lightcurve\n",
    "target_flux_ratio_in_aperture = 0.2165 / (0.1394 + 0.2165 + 1)\n",
    "print(target_flux_ratio_in_aperture)\n",
    "\n",
    "# create a crowding corrected LC based on flux ratio in aperture (akin to CROWSAP in TESS)\n",
    "def correct_crowding(lc, crowdsap, flfrcsap, normalize=True):\n",
    "    # based on: https://heasarc.gsfc.nasa.gov/docs/tess/UnderstandingCrowding.html\n",
    "    median_flux = np.median(lc.flux)\n",
    "    excess_flux = (1 - crowdsap) * median_flux\n",
    "    flux_removed = lc.flux  - excess_flux  # note: a **constant** amount of flux is removed, so a dip would be proportionally deeper\n",
    "    flux_corr = flux_removed / flfrcsap\n",
    "    lc_corr = lk.LightCurve(time=lc.time, flux=flux_corr)\n",
    "    lc_corr.meta.update(lc.meta)\n",
    "    lc_corr.meta[\"CROWDSAP\"] = crowdsap\n",
    "    lc_corr.meta[\"FLFRCSAP\"] = flfrcsap\n",
    "    if normalize:\n",
    "        lc_corr = lc_corr.normalize()\n",
    "    return lc_corr\n",
    "\n",
    "# Note: we use SAP_FLUX as the basis for crowding correction, but\n",
    "# SAP_FLUX covers fair amount of problematic cadences (mostly due to scattered light)\n",
    "# To make the lightcurve cleaner, the problematic cadences\n",
    "# via `.remove_nans()` on PDCSAP_FLUX.\n",
    "lc_tess_contaminated = lke.stitch(lcc_tess, corrector_func=lambda lc: lc.remove_nans().select_flux(\"sap_flux\").normalize())\n",
    "lc_tess_contaminated_f = lc_tess_contaminated.fold(epoch_time=epoch_time_btjd, period=period)\n",
    "ax = tplt.scatter(lc_tess_contaminated_f)\n",
    "ax.set_ylim(0.98, 1.02);\n",
    "\n",
    "lc_tess_target = correct_crowding(lc_tess_contaminated, target_flux_ratio_in_aperture, 1)\n",
    "lc_tess_target.label = primary_name\n",
    "lc_tess_target.meta['TESSMAG'] = 13.971\n",
    "ax = lc_tess_target.fold(epoch_time=epoch_time_btjd, period=period).scatter();\n",
    "ax.set_ylim(0.85, 1.12);\n",
    "\n",
    "# Now convert them to magnitude\n",
    "\n",
    "lc_tess_contaminated = lke.to_flux_in_mag_by_normalization(lc_tess_contaminated)\n",
    "lc_tess_contaminated_f = lc_tess_contaminated.fold(epoch_time=epoch_time_btjd, period=period)\n",
    "ax = tplt.scatter(lc_tess_contaminated_f);\n",
    "ax.set_ylim(None, 12.29);\n",
    "\n",
    "\n",
    "lc_tess_target = lke.to_flux_in_mag_by_normalization(lc_tess_target)\n",
    "lc_tess_target_f = lc_tess_target.fold(epoch_time=epoch_time_btjd, period=period)\n",
    "ax = tplt.scatter(lc_tess_target_f);\n",
    "ax.set_ylim(None, 13.85);\n",
    "\n",
    "# Zoom-in Show the duration\n",
    "ax = tplt.scatter(lc_tess_target_f);\n",
    "ax.set_ylim(None, 13.85);\n",
    "ax.set_xlim(0 - 1.5 * duration_hr / 24, 0 + 1.5 * duration_hr / 24 );\n",
    "ax.axvline(0 - duration_hr / 24 / 2, c=\"b\", linestyle=\"--\");\n",
    "ax.axvline(0 + duration_hr / 24 / 2, c=\"b\", linestyle=\"--\");"
   ]
  },
  {
   "cell_type": "code",
   "execution_count": null,
   "id": "dab53d39",
   "metadata": {},
   "outputs": [],
   "source": [
    "# Depth of the contaminated LC\n",
    "min_flux_sample = lc_tess_contaminated_f.truncate(0 - 1/24/60, 0 + 1/24/60).flux\n",
    "min_flux_mag = np.nanmedian(min_flux_sample)\n",
    "print(min_flux_mag, \", # data points:\", len(min_flux_sample))\n",
    "\n",
    "mag_diff_contaminated = (min_flux_mag - np.nanmedian(lc_tess_contaminated_f.flux)).value\n",
    "print(\"Dip's depth, contaminated LC:\", mag_diff_contaminated)"
   ]
  },
  {
   "cell_type": "code",
   "execution_count": null,
   "id": "ccd31b01",
   "metadata": {},
   "outputs": [],
   "source": [
    "min_flux_sample = lc_tess_target_f.truncate(0 - 1/24/60, 0 + 1/24/60).flux\n",
    "min_flux_mag = np.nanmedian(min_flux_sample)\n",
    "print(min_flux_mag, \", # data points:\", len(min_flux_sample))\n",
    "\n",
    "mag_diff_target = (min_flux_mag - np.nanmedian(lc_tess_target.flux)).value\n",
    "print(\"Dip's depth, corrected:\", mag_diff_target)"
   ]
  },
  {
   "cell_type": "markdown",
   "id": "f2f98e6a",
   "metadata": {},
   "source": [
    "## Plots for VSX"
   ]
  },
  {
   "cell_type": "code",
   "execution_count": null,
   "id": "cc0cc4bb",
   "metadata": {},
   "outputs": [],
   "source": [
    "ax, lc_f_res = lkem.fold_n_plot_tess_n_k2(\n",
    "    lc_combined_dict,\n",
    "    period=period,\n",
    "    epoch=Time(epoch_time_hjd, format=\"jd\", scale=\"utc\"),\n",
    "    phase_scale=2,  #  fold at  period, i.e., plot from phase -1 to +1\n",
    "    target_coord=target_coord,\n",
    "    figsize=(24, 10),\n",
    "    target_name=\"Nearby EPIC 210666756\", # This is the LC of the nearby star, not the target\n",
    ");\n",
    "ax.set_title(ax.get_title() + \"TESS: from SAP_FLUX\");\n",
    "ax.set_ylim(12.33, 12.29);"
   ]
  },
  {
   "cell_type": "code",
   "execution_count": null,
   "id": "90cc2778",
   "metadata": {},
   "outputs": [],
   "source": [
    "ax, lc_f_res = lkem.fold_n_plot_tess_n_k2(\n",
    "    lc_combined_dict,\n",
    "    period=period,\n",
    "    epoch=Time(epoch_time_hjd, format=\"jd\", scale=\"utc\"),\n",
    "    phase_scale=2,  #  fold at  period, i.e., plot from phase -1 to +1\n",
    "    target_coord=target_coord,\n",
    "    figsize=(8, 4),\n",
    "    target_name=\"Nearby EPIC 210666756\", # This is the LC of the nearby star, not the target\n",
    ");\n",
    "ax.set_title(ax.get_title() + \"TESS: from SAP_FLUX\");\n",
    "ax.set_ylim(12.33, 12.29);\n",
    "ax.set_xlim(-0.1, 0.1);"
   ]
  },
  {
   "cell_type": "code",
   "execution_count": null,
   "id": "9853095a",
   "metadata": {},
   "outputs": [],
   "source": [
    "ax, lc_f_res = lkem.fold_n_plot_tess_n_k2(\n",
    "    # the code expected LC in HJD\n",
    "    dict(TESS=lke.convert_lc_time_to_hjd_utc(lc_tess_target, target_coord, cache_dir=lk_download_dir, cache_key=\"hjd_TIC_242942527_corrected.txt\")),\n",
    "    period=period,\n",
    "    epoch=Time(epoch_time_hjd, format=\"jd\", scale=\"utc\"),\n",
    "    phase_scale=2,  #  fold at  period, i.e., plot from phase -1 to +1\n",
    "    target_coord=target_coord,\n",
    "    figsize=(24, 10),\n",
    "    target_name=\"TIC 242942527, crowding corrected\", # This is the LC of the target, with crowding correction\n",
    ");\n",
    "ax.set_ylim(14.10, 13.85);"
   ]
  },
  {
   "cell_type": "markdown",
   "id": "14c9c329",
   "metadata": {},
   "source": [
    "## VSX Report Table"
   ]
  },
  {
   "cell_type": "code",
   "execution_count": null,
   "id": "07c4bf3a",
   "metadata": {},
   "outputs": [],
   "source": [
    "def report_to_df(report):\n",
    "    df = pd.DataFrame()\n",
    "    df[\"Field\"] = report.keys()\n",
    "    df[\"Value\"] = report.values()\n",
    "    return df"
   ]
  },
  {
   "cell_type": "code",
   "execution_count": null,
   "id": "c3b41ec7",
   "metadata": {},
   "outputs": [],
   "source": [
    "import bibs_utils\n",
    "reload(bibs_utils)\n",
    "\n",
    "\n",
    "other_names = \"2MASS J03534499+1754019\"  # 2MASSS in both TIC and Gaia DR3\n",
    "# No GSC, https://vizier.cds.unistra.fr/viz-bin/VizieR-3?-source=I/255/out\n",
    "other_names += \",EPIC 210666756\"  #  the nearby star with the contaminated lightcurve  in TESS / K2\n",
    "# No need to re-add existing names # other_names = \",ASASSN-V J074356.31-602347.0,TYC 8911-718-1,WISEA J074356.30-602347.2\" + other_names  # prepend existing other names in the VSX record\n",
    "\n",
    "remarks = f\"Nearby EPIC 210666756 / TIC 242942524 lightcurves from K2 / TESS are contaminated. The target is determined to be the source per 2019AJ....157..124K and TCE . Amplitude is based on crowding-corrected TIC 242942524. Contaminated amplitude: {mag_diff_contaminated:.3f} TESS (SAP_FLUX) .\"\n",
    "revision_comment = \"Type, period, epoch, duration from TESS and K2. Amplitude from TESS. Spectral type and position from Gaia DR3.\"\n",
    "\n",
    "BIBS = bibs_utils.BIBS\n",
    "\n",
    "vsx_report = dict(\n",
    "    Position=f\"{target_coord.ra.value}, {target_coord.dec.value}\",\n",
    "    Primary_Name=primary_name,\n",
    "    Other_Names=other_names,\n",
    "    Variable_Type=\"EA\",\n",
    "    Spectral_Type=\"K\",  # from Gaia DR3 astrophysical parameters\n",
    "    Spectral_Type_Uncertain=False,\n",
    "    Maximum_Magnitude=f\"{lc_tess_target.TESSMAG:.2f}\",\n",
    "    Maximum_Magnitude_band=\"TESS\",\n",
    "    Minimum_Magnitude=f\"{mag_diff_target:.3f}\",\n",
    "    Minimum_Magnitude_band=\"TESS\",\n",
    "    Minimum_Is_Amplitude=True,\n",
    "    Period=period,\n",
    "    Epoch=epoch_time_hjd,\n",
    "    Rise_Duration_Pct=f\"{100 * duration_hr / 24 / period:.0f}\",\n",
    "    Discoverer=\"\",  #  The original entry https://www.aavso.org/vsx/index.php?view=detail.top&oid=625480 has no discoverer\n",
    "    Remarks=remarks,\n",
    "    Revision_Comment=revision_comment,\n",
    "    # Centroid Offset references\n",
    "    Reference1_Name=BIBS.K2_N,\n",
    "    Reference1_Bib=BIBS.K2_B,\n",
    "    Reference2_Name=BIBS.TESS_N,\n",
    "    Reference2_Bib=BIBS.TESS_B,\n",
    "    Reference11_Name=\"Kostov, V. B.; et al., 2019, Discovery and Vetting of Exoplanets. I. Benchmarking K2 Vetting Tools\",\n",
    "    Reference11_Bib=\"2019AJ....157..124K\",\n",
    "    Reference12_Name=\"Kostov, V. B.; et al., 2019, Discovery and Vetting of Exoplanets. I. Benchmarking K2 Vetting Tools (online data)\",\n",
    "    Reference12_Link=\"https://keplertcert.seti.org/DAVE/K2/Output/210666756/\",\n",
    "    Reference13_Name=BIBS.TCE_N(2022),   # The sector 42-46 TCE published in 2022 https://archive.stsci.edu/missions/tess/doc/tess_drn/tess_multisector_42_46_drn68_v02.pdf\n",
    "    Reference13_Link=\"https://exo.mast.stsci.edu/exomast_planet.html?planet=TIC242942524S0042S0046TCE1\",\n",
    ")\n",
    "\n",
    "def print_long_fields(report):\n",
    "    other_names_list = report[\"Other_Names\"].split(\",\")\n",
    "    print(\"Other Names (1 line each):\")\n",
    "    print(\"\\n\".join(other_names_list))\n",
    "    print(\"\")\n",
    "    print(report[\"Remarks\"])\n",
    "    print(\"\")\n",
    "    print(report[\"Revision_Comment\"])\n",
    "\n",
    "print_long_fields(vsx_report)\n",
    "with pd.option_context('display.max_colwidth', None):\n",
    "    display(report_to_df(vsx_report))\n",
    "\n",
    "# Uploaded plots with  descriptions\n",
    "print(\"\"\"\n",
    "epic210666756_phase_plot_eclipses.png : Phase Plot, contaminated - Phase Plot of nearby EPIC 210666756 from K2 and TESS (SAP_FLUX), shifted to TESS\n",
    "tic242942527_phase_plot_eclipses.png : Phase Plot, crowding corrected - Phase Plot of the target from TESS, with crowding correction (3 stars in the aperture).\n",
    "\"\"\")\n"
   ]
  },
  {
   "cell_type": "markdown",
   "id": "e191bba6",
   "metadata": {},
   "source": [
    "# Scratch"
   ]
  },
  {
   "cell_type": "code",
   "execution_count": null,
   "id": "ac9b3558-1003-4265-826d-4ba9f669f4e0",
   "metadata": {},
   "outputs": [],
   "source": [
    "sr_tpf = lk.search_targetpixelfile(\"EPIC 210666756\")\n",
    "display(sr_tpf)\n",
    "tpf = sr_tpf.download();\n",
    "\n",
    "# tpf.interact_sky(notebook_url=notebook_url, aperture_mask=\"pipeline\");"
   ]
  },
  {
   "cell_type": "markdown",
   "id": "6ea43879-267b-4dd0-8ba4-c0bb6e4f479c",
   "metadata": {},
   "source": [
    "Per-pixel plot also seems to suggest the centroid is near Star C.\n",
    "\n",
    "Caveat: I don't know how much trustowrthy the per-pixel plot for K2 data though."
   ]
  },
  {
   "cell_type": "code",
   "execution_count": null,
   "id": "aef261a9-408b-4ee3-8fb1-2f8f52880012",
   "metadata": {},
   "outputs": [],
   "source": [
    "t0 = epoch_time_bkjd - period * 1700  # pick one of the dips in , * 1705 also looks okay\n",
    "tpf_trunc = lke.truncate(tpf, t0 - 0.2, t0 + 0.2);\n",
    "# ax = tpf_trunc.to_lightcurve().scatter(label=f\"t0: {t0}\");\n",
    "\n",
    "pixel_size_inches, markersize = 0.6, 2\n",
    "ax = tplt.lk_ax(figsize=(tpf_trunc.flux[0].shape[1] * pixel_size_inches, tpf_trunc.flux[0].shape[0] * pixel_size_inches))\n",
    "tpf_trunc.plot_pixels(ax=ax, markersize=markersize, show_flux=True, aperture_mask=\"pipeline\");"
   ]
  }
 ],
 "metadata": {
  "kernelspec": {
   "display_name": "Python 3 (ipykernel)",
   "language": "python",
   "name": "python3"
  },
  "language_info": {
   "codemirror_mode": {
    "name": "ipython",
    "version": 3
   },
   "file_extension": ".py",
   "mimetype": "text/x-python",
   "name": "python",
   "nbconvert_exporter": "python",
   "pygments_lexer": "ipython3",
   "version": "3.10.13"
  }
 },
 "nbformat": 4,
 "nbformat_minor": 5
}
