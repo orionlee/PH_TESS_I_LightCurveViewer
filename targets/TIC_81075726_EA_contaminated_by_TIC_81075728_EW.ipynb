{
 "cells": [
  {
   "cell_type": "code",
   "execution_count": 3,
   "id": "ba4fcd51-6784-4c26-ad73-4fba979b8bbb",
   "metadata": {},
   "outputs": [],
   "source": [
    "import sys\n",
    "if \"../\" not in sys.path:  # to get my usual helpers at base dir\n",
    "    sys.path.append(\"../\")\n",
    "\n",
    "import pandas as pd\n"
   ]
  },
  {
   "cell_type": "markdown",
   "id": "e5761e92-d170-49f8-987c-7a3a6ddff27c",
   "metadata": {},
   "source": [
    "# TIC 81075726 / Gaia DR3 1035639627224864128  Analysis (EA) (No longer the target of the revision) \n",
    "\n",
    "- for revising https://vsx.aavso.org/index.php?view=detail.top&oid=1505677 (ASASSN-V J081749.20+585421.7) , based on ASAS-SN Variable\n",
    "- TESS and ASAS-SN photometry is blended with nearby TIC 81075728 / Gaia DR3 1035639627224864000, identified as an EB with ~0.253 d in Gaia DR3\n",
    "\n",
    "- Current VSX entries basically describes the variability of the nearby 1035639627224864000, based on ASAS-SN Variable ( T. Jayasinghe; et al., 2020 (in preparation) ) The info:\n",
    "    - 12.93 - 13.04 V ; 26 Nov 2018 (HJD 2458449.077) ; 0.253271 d  (6.0785 h)\n",
    " \n",
    "**Revison feedback**: keep the existing VSX entry for the EW variability. Adjust the cooridinate, cross IDs, etc.\n",
    "i.e., **the revision will be for the nearby TIC 81075728 / Gaia DR3 1035639627224864000**.\n",
    "\n",
    "VSX team will add the EA variability as a separate entry.\n"
   ]
  },
  {
   "cell_type": "markdown",
   "id": "95279c82-d241-49fd-ba58-bffc183b84de",
   "metadata": {},
   "source": [
    "For now we simply use Gaia DR3 / Gaia DR3 info for revision\n",
    "(the dips are too blended)\n",
    "\n",
    "- [Gaia DR3 Main](https://vizier.cds.unistra.fr/viz-bin/VizieR-4?-ref=VIZ6813b1f517eac3&-to=-4b&-from=-3&-this=-4&%2F%2Fsource=%2BI%2F355%2Fgaiadr3%2BI%2F355%2Fparamp&%2F%2Fc=08%3A17%3A49.62+%2B58%3A54%3A23.37&%2F%2Ftables=I%2F355%2Fgaiadr3&%2F%2Ftables=I%2F355%2Fparamp&-out.max=50&%2F%2FCDSportal=http%3A%2F%2Fcdsportal.u-strasbg.fr%2FStoreVizierData.html&-out.form=HTML+Table&-out.add=_r&-out.add=_p&%2F%2Foutaddvalue=default&-sort=_r&-order=I&-oc.form=sexa&-out.src=I%2F355%2Fgaiadr3%2CI%2F355%2Fparamp&-nav=cat%3AI%2F355%26tab%3A%7BI%2F355%2Fgaiadr3%7D%26tab%3A%7BI%2F355%2Fparamp%7D%26key%3Asource%3D%2BI%2F355%2Fgaiadr3%2BI%2F355%2Fparamp%26key%3Ac%3D08%3A17%3A49.62+%2B58%3A54%3A23.37%26pos%3A08%3A17%3A49.62+%2B58%3A54%3A23.37%28+15+arcsec%29%26HTTPPRM%3A&-c=08%3A17%3A49.62+%2B58%3A54%3A23.37&-c.eq=J2000&-c.r=+15&-c.u=arcsec&-c.geom=r&-source=&-x.rs=10&-source=I%2F355%2Fgaiadr3+I%2F355%2Fparamp&-out.orig=standard&-out=Source&-out=Plx&-out=PM&-out=pmRA&-out=pmDE&-out=sepsi&-out=IPDfmp&-out=RUWE&-out=Dup&-out=Gmag&-out=BPmag&-out=RPmag&-out=BP-RP&-out=RV&-out=e_RV&-out=VarFlag&-out=NSS&-out=XPcont&-out=XPsamp&-out=RVS&-out=EpochPh&-out=EpochRV&-out=MCMCGSP&-out=MCMCMSC&-out=Teff&-out=logg&-out=%5BFe%2FH%5D&-out=Dist&-out=A0&-out=HIP&-out=PS1&-out=SDSS13&-out=SKYM2&-out=TYC2&-out=URAT1&-out=AllWISE&-out=APASS9&-out=GSC23&-out=RAVE5&-out=2MASS&-out=RAVE6&-out=RAJ2000&-out=DEJ2000&-out=Pstar&-out=PWD&-out=Pbin&-out=ABP&-out=ARP&-out=GMAG&-out=Rad&-out=SpType-ELS&-out=Rad-Flame&-out=Lum-Flame&-out=Mass-Flame&-out=Age-Flame&-out=Flags-Flame&-out=Evol&-out=z-Flame&-meta.ucd=2&-meta=1&-meta.foot=1&-usenav=1&-bmark=GET)\n",
    "- [Gaia DR3 Variable](https://vizier.cds.unistra.fr/viz-bin/VizieR-4?-ref=VIZ6813b1f517eaa4&-to=-4b&-from=-3&-this=-4&%2F%2Fsource=%2BI%2F358%2Fvarisum%2BI%2F358%2Fvclassre%2BI%2F358%2Fveb%2BI%2F358%2Fvcc%2BI%2F358%2Fvst&%2F%2Fc=08%3A17%3A49.62+%2B58%3A54%3A23.37&%2F%2Ftables=I%2F358%2Fvarisum&%2F%2Ftables=I%2F358%2Fvclassre&%2F%2Ftables=I%2F358%2Fvcc&%2F%2Ftables=I%2F358%2Fveb&%2F%2Ftables=I%2F358%2Fvst&-out.max=50&%2F%2FCDSportal=http%3A%2F%2Fcdsportal.u-strasbg.fr%2FStoreVizierData.html&-out.form=HTML+Table&-out.add=_r&-out.add=_p&%2F%2Foutaddvalue=default&-sort=_r&-order=I&-oc.form=sexa&-out.src=I%2F358%2Fvarisum%2CI%2F358%2Fvclassre%2CI%2F358%2Fveb%2CI%2F358%2Fvcc%2CI%2F358%2Fvst&-nav=cat%3AI%2F358%26tab%3A%7BI%2F358%2Fvarisum%7D%26tab%3A%7BI%2F358%2Fvclassre%7D%26tab%3A%7BI%2F358%2Fvcc%7D%26tab%3A%7BI%2F358%2Fveb%7D%26tab%3A%7BI%2F358%2Fvst%7D%26key%3Asource%3D%2BI%2F358%2Fvarisum%2BI%2F358%2Fvclassre%2BI%2F358%2Fveb%2BI%2F358%2Fvcc%2BI%2F358%2Fvst%26key%3Ac%3D08%3A17%3A49.62+%2B58%3A54%3A23.37%26pos%3A08%3A17%3A49.62+%2B58%3A54%3A23.37%28+60+arcsec%29%26HTTPPRM%3A&-c=08%3A17%3A49.62+%2B58%3A54%3A23.37&-c.eq=J2000&-c.r=+60&-c.u=arcsec&-c.geom=r&-source=&-x.rs=10&-source=I%2F358%2Fvarisum+I%2F358%2Fvclassre+I%2F358%2Fveb+I%2F358%2Fvcc+I%2F358%2Fvst&-out.orig=standard&-out=Source&-out=RA_ICRS&-out=DE_ICRS&-out=TimeG&-out=DurG&-out=Gmagmean&-out=TimeBP&-out=DurBP&-out=BPmagmean&-out=TimeRP&-out=DurRP&-out=RPmagmean&-out=VCR&-out=VRRLyr&-out=VCep&-out=VPN&-out=VST&-out=VLPV&-out=VEB&-out=VRM&-out=VMSO&-out=VAGN&-out=Vmicro&-out=VCC&-out=SolID&-out=Classifier&-out=Class&-out=ClassSc&-out=Rank&-out=TimeRef&-out=Freq&-out=magModRef&-out=PhaseGauss1&-out=sigPhaseGauss1&-out=DepthGauss1&-out=PhaseGauss2&-out=sigPhaseGauss2&-out=DepthGauss2&-out=AmpCHP&-out=PhaseCHP&-out=ModelType&-out=Nparam&-out=rchi2&-out=PhaseE1&-out=DurE1&-out=DepthE1&-out=PhaseE2&-out=DurE2&-out=DepthE2&-out=Per&-out=T0G&-out=T0BP&-out=T0RP&-out=HG0&-out=HG1&-out=HG2&-out=HG3&-out=HG4&-out=HG5&-out=HBP0&-out=HBP1&-out=HBP2&-out=HBP3&-out=HBP4&-out=HBP5&-out=HRP0&-out=HRP1&-out=HRP2&-out=HRP3&-out=HRP4&-out=HRP5&-out=Gmodmean&-out=BPmodmean&-out=RPmodmean&-out=Mratiomin&-out=alpha&-out=Ampl&-out=NfoVTrans&-out=FoVAbbemean&-out=NTimeScale&-out=TimeScale&-out=Variogram&-meta.ucd=2&-meta=1&-meta.foot=1&-usenav=1&-bmark=GET)\n",
    "\n",
    "\n",
    "\n",
    "For reference: \n",
    "- [ASAS-SN Variable entry at the position that describes the contaminat](https://vizier.cds.unistra.fr/viz-bin/VizieR-4?-ref=VIZ67f7039b90a8&-to=-4b&-from=-2&-this=-4&%2F%2Fsource=II%2F366&%2F%2Ftables=II%2F366%2Fcatv2021&-out.max=50&%2F%2FCDSportal=http%3A%2F%2Fcdsportal.u-strasbg.fr%2FStoreVizierData.html&-out.form=HTML+Table&-out.add=_r&-out.add=_p&%2F%2Foutaddvalue=default&-order=I&-oc.form=sexa&-out.src=II%2F366%2Fcatv2021&-nav=cat%3AII%2F366%26tab%3A%7BII%2F366%2Fcatv2021%7D%26key%3Asource%3DII%2F366%26pos%3A124.45501+%2B58.90604%28+15+arcsec+J2000%29%26HTTPPRM%3A&-c=124.45501+%2B58.90604&-c.eq=J2000&-c.r=+15&-c.u=arcsec&-c.geom=r&-source=&-source=II%2F366%2Fcatv2021&-out.orig=standard&-out=ASASSN-V&-out=RAJ2000&-out=DEJ2000&-out=Vmag&-out=Amp&-out=Per&-out=Type&-out=Prob&-out=HJD&-out=Plx&-out=e_Plx&-out=pmRA&-out=e_pmRA&-out=pmDE&-out=e_pmDE&-out=Vt&-out=Dist&-out=WISEA&-out=J-K&-out=W1-W2&-out=APASS&-out=B-V&-out=E%28B-V%29&-out=Ref&-out=GaiaDR3&-out=GALEX&-out=TIC&-out=pm&-out=URL&-out=2M&-meta.ucd=2&-meta=1&-meta.foot=1&-usenav=1&-bmark=GET) at Vizier,\n",
    "- [live latest ASAS-SN entry](https://asas-sn.osu.edu/variables/0c4ae8d9-d28c-5ab3-8011-fa9a442ab02d)"
   ]
  },
  {
   "cell_type": "markdown",
   "id": "a62843fe-0111-4b1d-b17b-321733295d8a",
   "metadata": {},
   "source": [
    "## VSX Report Table"
   ]
  },
  {
   "cell_type": "code",
   "execution_count": 1,
   "id": "cdd31966-6d2a-4151-95b0-160387f9df02",
   "metadata": {},
   "outputs": [],
   "source": [
    "def report_to_df(report):\n",
    "    df = pd.DataFrame()\n",
    "    df[\"Field\"] = report.keys()\n",
    "    df[\"Value\"] = report.values()\n",
    "    return df"
   ]
  },
  {
   "cell_type": "code",
   "execution_count": 10,
   "id": "1863ecb6-f483-42f4-9aa3-d203a6fd548e",
   "metadata": {},
   "outputs": [
    {
     "data": {
      "text/html": [
       "<pre>TIC 81075728 - TESS mag: 14.0768 ; coordinate: 124.456833084808, 58.9065294879708 ; PM: -8.85932, -8.97314 . Gaia DR2 1035639627224864000</pre><div>\n",
       "<table id=\"table2494035838048\" class=\"table-striped table-bordered table-condensed\">\n",
       "<thead><tr><th>flag</th><th>_r</th><th>_p</th><th>Source</th><th>RPmag</th><th>Gmag</th><th>BPmag</th><th>BP-RP</th><th>Vmag</th><th>Teff</th><th>RUWE</th><th>sepsi</th><th>epsi</th><th>NSS</th><th>Plx</th><th>pmRA</th><th>pmDE</th><th>VarFlag</th><th>RV</th><th>e_RV</th><th>IPDfmp</th><th>Dup</th><th>RAJ2000</th><th>DEJ2000</th><th>EpochPh</th><th>EpochRV</th></tr></thead>\n",
       "<thead><tr><th></th><th>arcsec</th><th>deg</th><th></th><th>mag</th><th>mag</th><th>mag</th><th>mag</th><th>mag</th><th>K</th><th></th><th></th><th>mas</th><th></th><th>mas</th><th>mas / yr</th><th>mas / yr</th><th></th><th>km / s</th><th>km / s</th><th></th><th></th><th>deg</th><th>deg</th><th></th><th></th></tr></thead>\n",
       "<thead><tr><th>str2</th><th>float64</th><th>float64</th><th>int64</th><th>float64</th><th>float64</th><th>float64</th><th>float64</th><th>float64</th><th>float64</th><th>float64</th><th>float32</th><th>float64</th><th>str48</th><th>float64</th><th>float64</th><th>float64</th><th>str34</th><th>float64</th><th>float32</th><th>int16</th><th>uint8</th><th>float64</th><th>float64</th><th>uint8</th><th>uint8</th></tr></thead>\n",
       "<tr><td>✓</td><td>0.000</td><td>0.0</td><td><a target='vizier_gaia_dr3' href='https://vizier.cds.unistra.fr/viz-bin/VizieR-4?-ref=VIZ6578bb1b54eda&-to=-4b&-from=-4&-this=-4&%2F%2Fsource=I%2F355%2Fgaiadr3&%2F%2Ftables=I%2F355%2Fgaiadr3&%2F%2Ftables=I%2F355%2Fparamp&-out.max=50&%2F%2FCDSportal=http%3A%2F%2Fcdsportal.u-strasbg.fr%2FStoreVizierData.html&-out.form=HTML+Table&%2F%2Foutaddvalue=default&-order=I&-oc.form=sexa&-out.src=I%2F355%2Fgaiadr3%2CI%2F355%2Fparamp&-nav=cat%3AI%2F355%26tab%3A%7BI%2F355%2Fgaiadr3%7D%26tab%3A%7BI%2F355%2Fparamp%7D%26key%3Asource%3DI%2F355%2Fgaiadr3%26HTTPPRM%3A&-c=&-c.eq=J2000&-c.r=++2&-c.u=arcmin&-c.geom=r&-source=&-x.rs=10&-source=I%2F355%2Fgaiadr3+I%2F355%2Fparamp&-out.orig=standard&-out=RA_ICRS&-out=DE_ICRS&-out=Source&Source=1035639627224864000&-out=Plx&-out=PM&-out=pmRA&-out=pmDE&-out=sepsi&-out=IPDfmp&-out=RUWE&-out=Dup&-out=Gmag&-out=BPmag&-out=RPmag&-out=BP-RP&-out=RV&-out=e_RV&-out=VarFlag&-out=NSS&-out=XPcont&-out=XPsamp&-out=RVS&-out=EpochPh&-out=EpochRV&-out=MCMCGSP&-out=MCMCMSC&-out=Teff&-out=logg&-out=%5BFe%2FH%5D&-out=Dist&-out=A0&-out=HIP&-out=PS1&-out=SDSS13&-out=SKYM2&-out=TYC2&-out=URAT1&-out=AllWISE&-out=APASS9&-out=GSC23&-out=RAVE5&-out=2MASS&-out=RAVE6&-out=RAJ2000&-out=DEJ2000&-out=Pstar&-out=PWD&-out=Pbin&-out=ABP&-out=ARP&-out=GMAG&-out=Rad&-out=SpType-ELS&-out=Rad-Flame&-out=Lum-Flame&-out=Mass-Flame&-out=Age-Flame&-out=Flags-Flame&-out=Evol&-out=z-Flame&-meta.ucd=0&-meta=0&-usenav=1&-bmark=GET'>1035639627224864000</a></td><td>13.995</td><td>14.750</td><td>15.300</td><td>1.305</td><td>15.094</td><td>4835.5</td><td>1.026</td><td>0.0595</td><td>0.014</td><td>0</td><td>1.8823</td><td>-8.863</td><td>-8.908</td><td><a target='vizier_gaia_dr3_var' href='https://vizier.cds.unistra.fr/viz-bin/VizieR-4?-ref=VIZ65ac1f481b91d6&-to=-4b&-from=-3&-this=-4&%2F%2Fsource=%2BI%2F358%2Fvarisum%2BI%2F358%2Fvclassre%2BI%2F358%2Fveb%2BI%2F358%2Fvcc%2BI%2F358%2Fvst&%2F%2Fc=06%3A59%3A36.3+%2B23%3A28%3A51.14&%2F%2Ftables=I%2F358%2Fvarisum&%2F%2Ftables=I%2F358%2Fvclassre&%2F%2Ftables=I%2F358%2Fvcc&%2F%2Ftables=I%2F358%2Fveb&%2F%2Ftables=I%2F358%2Fvst&-out.max=50&%2F%2FCDSportal=http%3A%2F%2Fcdsportal.u-strasbg.fr%2FStoreVizierData.html&-out.form=HTML+Table&-out.add=_r&%2F%2Foutaddvalue=default&-sort=_r&-order=I&-oc.form=sexa&-out.src=I%2F358%2Fvarisum%2CI%2F358%2Fvclassre%2CI%2F358%2Fveb%2CI%2F358%2Fvcc%2CI%2F358%2Fvst&-nav=cat%3AI%2F358%26tab%3A%7BI%2F358%2Fvarisum%7D%26tab%3A%7BI%2F358%2Fvclassre%7D%26tab%3A%7BI%2F358%2Fvcc%7D%26tab%3A%7BI%2F358%2Fveb%7D%26tab%3A%7BI%2F358%2Fvst%7D%26key%3Asource%3D%2BI%2F358%2Fvarisum%2BI%2F358%2Fvclassre%2BI%2F358%2Fveb%2BI%2F358%2Fvcc%2BI%2F358%2Fvst%26key%3Ac%3D06%3A59%3A36.3+%2B23%3A28%3A51.14%26pos%3A06%3A59%3A36.3+%2B23%3A28%3A51.14%28+60+arcsec%29%26HTTPPRM%3A&-c=&-c.eq=J2000&-c.r=+60&-c.u=arcsec&-c.geom=r&-source=&-x.rs=10&-source=I%2F358%2Fvarisum+I%2F358%2Fvclassre+I%2F358%2Fveb+I%2F358%2Fvcc+I%2F358%2Fvst&-out.orig=standard&-out=Source&Source=1035639627224864000&-out=RA_ICRS&-out=DE_ICRS&-out=TimeG&-out=DurG&-out=Gmagmean&-out=TimeBP&-out=DurBP&-out=BPmagmean&-out=TimeRP&-out=DurRP&-out=RPmagmean&-out=VCR&-out=VRRLyr&-out=VCep&-out=VPN&-out=VST&-out=VLPV&-out=VEB&-out=VRM&-out=VMSO&-out=VAGN&-out=Vmicro&-out=VCC&-out=SolID&-out=Classifier&-out=Class&-out=ClassSc&-out=Rank&-out=TimeRef&-out=Freq&-out=magModRef&-out=PhaseGauss1&-out=sigPhaseGauss1&-out=DepthGauss1&-out=PhaseGauss2&-out=sigPhaseGauss2&-out=DepthGauss2&-out=AmpCHP&-out=PhaseCHP&-out=ModelType&-out=Nparam&-out=rchi2&-out=PhaseE1&-out=DurE1&-out=DepthE1&-out=PhaseE2&-out=DurE2&-out=DepthE2&-out=Per&-out=T0G&-out=T0BP&-out=T0RP&-out=HG0&-out=HG1&-out=HG2&-out=HG3&-out=HG4&-out=HG5&-out=HBP0&-out=HBP1&-out=HBP2&-out=HBP3&-out=HBP4&-out=HBP5&-out=HRP0&-out=HRP1&-out=HRP2&-out=HRP3&-out=HRP4&-out=HRP5&-out=Gmodmean&-out=BPmodmean&-out=RPmodmean&-out=Mratiomin&-out=alpha&-out=Ampl&-out=NfoVTrans&-out=FoVAbbemean&-out=NTimeScale&-out=TimeScale&-out=Variogram&-meta.ucd=2&-meta=1&-meta.foot=1&-usenav=1&-bmark=GET' style='background-color: rgba(255, 255, 0, 0.5); font-weight: bold;'>VARIABLE</a></td><td>--</td><td>--</td><td>0</td><td>0</td><td>124.45683313122</td><td>58.90652920274</td><td>1</td><td>0</td></tr>\n",
       "<tr><td>!!</td><td>3.829</td><td>242.3</td><td><a target='vizier_gaia_dr3' href='https://vizier.cds.unistra.fr/viz-bin/VizieR-4?-ref=VIZ6578bb1b54eda&-to=-4b&-from=-4&-this=-4&%2F%2Fsource=I%2F355%2Fgaiadr3&%2F%2Ftables=I%2F355%2Fgaiadr3&%2F%2Ftables=I%2F355%2Fparamp&-out.max=50&%2F%2FCDSportal=http%3A%2F%2Fcdsportal.u-strasbg.fr%2FStoreVizierData.html&-out.form=HTML+Table&%2F%2Foutaddvalue=default&-order=I&-oc.form=sexa&-out.src=I%2F355%2Fgaiadr3%2CI%2F355%2Fparamp&-nav=cat%3AI%2F355%26tab%3A%7BI%2F355%2Fgaiadr3%7D%26tab%3A%7BI%2F355%2Fparamp%7D%26key%3Asource%3DI%2F355%2Fgaiadr3%26HTTPPRM%3A&-c=&-c.eq=J2000&-c.r=++2&-c.u=arcmin&-c.geom=r&-source=&-x.rs=10&-source=I%2F355%2Fgaiadr3+I%2F355%2Fparamp&-out.orig=standard&-out=RA_ICRS&-out=DE_ICRS&-out=Source&Source=1035639627224864128&-out=Plx&-out=PM&-out=pmRA&-out=pmDE&-out=sepsi&-out=IPDfmp&-out=RUWE&-out=Dup&-out=Gmag&-out=BPmag&-out=RPmag&-out=BP-RP&-out=RV&-out=e_RV&-out=VarFlag&-out=NSS&-out=XPcont&-out=XPsamp&-out=RVS&-out=EpochPh&-out=EpochRV&-out=MCMCGSP&-out=MCMCMSC&-out=Teff&-out=logg&-out=%5BFe%2FH%5D&-out=Dist&-out=A0&-out=HIP&-out=PS1&-out=SDSS13&-out=SKYM2&-out=TYC2&-out=URAT1&-out=AllWISE&-out=APASS9&-out=GSC23&-out=RAVE5&-out=2MASS&-out=RAVE6&-out=RAJ2000&-out=DEJ2000&-out=Pstar&-out=PWD&-out=Pbin&-out=ABP&-out=ARP&-out=GMAG&-out=Rad&-out=SpType-ELS&-out=Rad-Flame&-out=Lum-Flame&-out=Mass-Flame&-out=Age-Flame&-out=Flags-Flame&-out=Evol&-out=z-Flame&-meta.ucd=0&-meta=0&-usenav=1&-bmark=GET'>1035639627224864128</a></td><td>12.420</td><td>12.956</td><td>13.321</td><td>0.901</td><td>13.135</td><td>5805.9</td><td>1.002</td><td>8.78</td><td>0.091</td><td>0</td><td>1.8771</td><td>-8.866</td><td>-8.771</td><td><a target='vizier_gaia_dr3_var' href='https://vizier.cds.unistra.fr/viz-bin/VizieR-4?-ref=VIZ65ac1f481b91d6&-to=-4b&-from=-3&-this=-4&%2F%2Fsource=%2BI%2F358%2Fvarisum%2BI%2F358%2Fvclassre%2BI%2F358%2Fveb%2BI%2F358%2Fvcc%2BI%2F358%2Fvst&%2F%2Fc=06%3A59%3A36.3+%2B23%3A28%3A51.14&%2F%2Ftables=I%2F358%2Fvarisum&%2F%2Ftables=I%2F358%2Fvclassre&%2F%2Ftables=I%2F358%2Fvcc&%2F%2Ftables=I%2F358%2Fveb&%2F%2Ftables=I%2F358%2Fvst&-out.max=50&%2F%2FCDSportal=http%3A%2F%2Fcdsportal.u-strasbg.fr%2FStoreVizierData.html&-out.form=HTML+Table&-out.add=_r&%2F%2Foutaddvalue=default&-sort=_r&-order=I&-oc.form=sexa&-out.src=I%2F358%2Fvarisum%2CI%2F358%2Fvclassre%2CI%2F358%2Fveb%2CI%2F358%2Fvcc%2CI%2F358%2Fvst&-nav=cat%3AI%2F358%26tab%3A%7BI%2F358%2Fvarisum%7D%26tab%3A%7BI%2F358%2Fvclassre%7D%26tab%3A%7BI%2F358%2Fvcc%7D%26tab%3A%7BI%2F358%2Fveb%7D%26tab%3A%7BI%2F358%2Fvst%7D%26key%3Asource%3D%2BI%2F358%2Fvarisum%2BI%2F358%2Fvclassre%2BI%2F358%2Fveb%2BI%2F358%2Fvcc%2BI%2F358%2Fvst%26key%3Ac%3D06%3A59%3A36.3+%2B23%3A28%3A51.14%26pos%3A06%3A59%3A36.3+%2B23%3A28%3A51.14%28+60+arcsec%29%26HTTPPRM%3A&-c=&-c.eq=J2000&-c.r=+60&-c.u=arcsec&-c.geom=r&-source=&-x.rs=10&-source=I%2F358%2Fvarisum+I%2F358%2Fvclassre+I%2F358%2Fveb+I%2F358%2Fvcc+I%2F358%2Fvst&-out.orig=standard&-out=Source&Source=1035639627224864128&-out=RA_ICRS&-out=DE_ICRS&-out=TimeG&-out=DurG&-out=Gmagmean&-out=TimeBP&-out=DurBP&-out=BPmagmean&-out=TimeRP&-out=DurRP&-out=RPmagmean&-out=VCR&-out=VRRLyr&-out=VCep&-out=VPN&-out=VST&-out=VLPV&-out=VEB&-out=VRM&-out=VMSO&-out=VAGN&-out=Vmicro&-out=VCC&-out=SolID&-out=Classifier&-out=Class&-out=ClassSc&-out=Rank&-out=TimeRef&-out=Freq&-out=magModRef&-out=PhaseGauss1&-out=sigPhaseGauss1&-out=DepthGauss1&-out=PhaseGauss2&-out=sigPhaseGauss2&-out=DepthGauss2&-out=AmpCHP&-out=PhaseCHP&-out=ModelType&-out=Nparam&-out=rchi2&-out=PhaseE1&-out=DurE1&-out=DepthE1&-out=PhaseE2&-out=DurE2&-out=DepthE2&-out=Per&-out=T0G&-out=T0BP&-out=T0RP&-out=HG0&-out=HG1&-out=HG2&-out=HG3&-out=HG4&-out=HG5&-out=HBP0&-out=HBP1&-out=HBP2&-out=HBP3&-out=HBP4&-out=HBP5&-out=HRP0&-out=HRP1&-out=HRP2&-out=HRP3&-out=HRP4&-out=HRP5&-out=Gmodmean&-out=BPmodmean&-out=RPmodmean&-out=Mratiomin&-out=alpha&-out=Ampl&-out=NfoVTrans&-out=FoVAbbemean&-out=NTimeScale&-out=TimeScale&-out=Variogram&-meta.ucd=2&-meta=1&-meta.foot=1&-usenav=1&-bmark=GET' style='background-color: rgba(255, 255, 0, 0.5); font-weight: bold;'>VARIABLE</a></td><td>-27.58</td><td>3.34</td><td>0</td><td>0</td><td>124.45500910354</td><td>58.90603531886</td><td>1</td><td>0</td></tr>\n",
       "</table></div><div style=\"padding-top: 6px; font-size: 120%;\">Gaia DR3 Astrophysical parameters:<div><div>\n",
       "<table id=\"table2493534240624\" class=\"table-striped table-bordered table-condensed\">\n",
       "<thead><tr><th>_r</th><th>Source</th><th>Pstar</th><th>Pbin</th><th>Teff</th><th>logg</th><th>__Fe_H_</th><th>Dist</th><th>GMAG</th><th>Rad</th><th>SpType-ELS</th><th>ClassELS</th><th>Rad-Flame</th><th>Mass-Flame</th><th>Lum-Flame</th><th>Age-Flame</th><th>Evol</th><th>Flags-Flame</th></tr></thead>\n",
       "<thead><tr><th>arcsec</th><th></th><th></th><th></th><th>K</th><th>log(cm.s**-2)</th><th></th><th>pc</th><th>mag</th><th>solRad</th><th></th><th></th><th>solRad</th><th>solMass</th><th>solLum</th><th>Gyr</th><th></th><th></th></tr></thead>\n",
       "<thead><tr><th>float64</th><th>int64</th><th>float64</th><th>float64</th><th>float64</th><th>float64</th><th>float64</th><th>float64</th><th>float64</th><th>float64</th><th>str7</th><th>str15</th><th>float64</th><th>float32</th><th>float32</th><th>float32</th><th>int16</th><th>int16</th></tr></thead>\n",
       "<tr><td>0.194</td><td>1035639627224864000</td><td>1.00</td><td>0.00</td><td>4835.5100</td><td>4.5621</td><td>0.1638</td><td>466.1784</td><td>6.1619</td><td>0.7586</td><td>K</td><td></td><td>0.8096</td><td>--</td><td>0.316</td><td>--</td><td>370</td><td>20</td></tr>\n",
       "<tr><td>4.018</td><td>1035639627224864128</td><td>1.00</td><td>0.00</td><td>5805.8994</td><td>4.1812</td><td>-0.2896</td><td>511.0568</td><td>4.1543</td><td>1.2490</td><td>G</td><td></td><td>1.2874</td><td>1.002</td><td>1.7</td><td>9.440</td><td>383</td><td>0</td></tr>\n",
       "</table></div>\n",
       "<br>flag - &emsp; !: non single star proxy indicator (RUWE, sepsi, e_RV) ; &emsp; ✓: Gaia source matched with the one in TIC\n",
       "<br>Reference:\n",
       "    <a target =\"_doc_gaiadr3_vizier\" href=\"https://vizier.cds.unistra.fr/viz-bin/VizieR-3?-source=I/355/gaiadr3\">Column description on Vizier</a> &nbsp; | &nbsp;\n",
       "    <a target=\"_doc_gaiadr3_datamodel\" href=\"https://gea.esac.esa.int/archive/documentation/GDR3/Gaia_archive/chap_datamodel/sec_dm_main_source_catalogue/ssec_dm_gaia_source.html\">data model doc on ESA</a>\n",
       "    &ensp;( <a target=\"_doc_gaiadr3_datamodel_astrophysical\" href=\"https://gea.esac.esa.int/archive/documentation/GDR3/Gaia_archive/chap_datamodel/sec_dm_astrophysical_parameter_tables/ssec_dm_astrophysical_parameters.html\">astrophysical params</a>,\n",
       "    <a target=\"_doc_evolstage_basti\" href=\"https://iopscience.iop.org/article/10.3847/1538-4357/aab158#apjaab158s4\" style=\"font-size: 90%;\">evolstage from BASTI</a>\n",
       "    )\n"
      ],
      "text/plain": [
       "<IPython.core.display.HTML object>"
      ]
     },
     "metadata": {},
     "output_type": "display_data"
    }
   ],
   "source": [
    "import lightkurve_ext_tess as lket\n",
    "from IPython.display import display, HTML \n",
    "\n",
    "tic = 81075728\n",
    "rs_all_cols, rs, rs_paramp_all_cols, rs_paramp, rs_html = lket.search_gaiadr3_of_tics(tic, radius_arcsec=15, calc_separation_from_first_row=True, magnitude_range=None,  pm_error_factor=None, pm_range_fraction=None, pm_range_minimum=None, compact_columns=True, also_return_html=True, also_return_astrophysical=True, verbose_html=True, include_nss_summary_in_html=False)  # no magnitude / PM filtering\n",
    "\n",
    "display(HTML(rs_html))"
   ]
  },
  {
   "cell_type": "code",
   "execution_count": null,
   "id": "6e94c764-15ea-43eb-800b-2c02f84fe8dd",
   "metadata": {},
   "outputs": [],
   "source": []
  },
  {
   "cell_type": "code",
   "execution_count": 27,
   "id": "52f8db28-4147-4154-b3cf-ba197c93b904",
   "metadata": {},
   "outputs": [
    {
     "data": {
      "text/plain": [
       "(14.804, 15.404)"
      ]
     },
     "execution_count": 27,
     "metadata": {},
     "output_type": "execute_result"
    }
   ],
   "source": [
    "# Update range from Gaia DR3 photometry\n",
    "\n",
    "# from importlib import reload\n",
    "import lightkurve_ext as lke\n",
    "# reload(lke)\n",
    "\n",
    "bp_minus_rp = 1.305\n",
    "# max / min from Gaia DR3 plot\n",
    "# https://cdsarc.cds.unistra.fr//vizier/vizgraph.gml?-s=I/355&-i=.graph_sql_epphot&Pos=124.45675685354+58.90648961314&Source=1035639627224864000\n",
    "max_gmag, min_gmag = 14.46, 15.06\n",
    "\n",
    "max_vmag, min_vmag = [round(m, 3) for m in lke.gaia_dr3_mag_to_vmag([max_gmag, min_gmag], bp_minus_rp)]\n",
    "max_vmag, min_vmag"
   ]
  },
  {
   "cell_type": "code",
   "execution_count": 29,
   "id": "d9632801-1bd9-4058-abf0-885de5c82914",
   "metadata": {},
   "outputs": [
    {
     "name": "stdout",
     "output_type": "stream",
     "text": [
      "Other Names (1 line each):\n",
      "Gaia DR3 1035639627224864000\n",
      "ASASSN-V J081749.25+585422.0\n",
      "TIC 81075728\n",
      "2MASS J08174962+5854233\n",
      "UCAC4 745-044437\n",
      "\n",
      "ASAS-SN data contaminated by Gaia DR3 1035639627224864128 (V=13.14, 3.8\" to the WSW), a variable (EA).\n",
      "\n",
      "Identification from 2022yCat.1358....0G. Range derived from Gaia DR3 data. Position and spectral type from Gaia DR3.\n"
     ]
    },
    {
     "data": {
      "text/html": [
       "<div>\n",
       "<style scoped>\n",
       "    .dataframe tbody tr th:only-of-type {\n",
       "        vertical-align: middle;\n",
       "    }\n",
       "\n",
       "    .dataframe tbody tr th {\n",
       "        vertical-align: top;\n",
       "    }\n",
       "\n",
       "    .dataframe thead th {\n",
       "        text-align: right;\n",
       "    }\n",
       "</style>\n",
       "<table border=\"1\" class=\"dataframe\">\n",
       "  <thead>\n",
       "    <tr style=\"text-align: right;\">\n",
       "      <th></th>\n",
       "      <th>Field</th>\n",
       "      <th>Value</th>\n",
       "    </tr>\n",
       "  </thead>\n",
       "  <tbody>\n",
       "    <tr>\n",
       "      <th>0</th>\n",
       "      <td>Position</td>\n",
       "      <td>124.45683313122, 58.90652920274</td>\n",
       "    </tr>\n",
       "    <tr>\n",
       "      <th>1</th>\n",
       "      <td>Primary_Name</td>\n",
       "      <td></td>\n",
       "    </tr>\n",
       "    <tr>\n",
       "      <th>2</th>\n",
       "      <td>Other_Names</td>\n",
       "      <td>Gaia DR3 1035639627224864000,ASASSN-V J081749.25+585422.0,TIC 81075728,2MASS J08174962+5854233,UCAC4 745-044437</td>\n",
       "    </tr>\n",
       "    <tr>\n",
       "      <th>3</th>\n",
       "      <td>Spectral_Type</td>\n",
       "      <td>K</td>\n",
       "    </tr>\n",
       "    <tr>\n",
       "      <th>4</th>\n",
       "      <td>Spectral_Type_Uncertain</td>\n",
       "      <td>False</td>\n",
       "    </tr>\n",
       "    <tr>\n",
       "      <th>5</th>\n",
       "      <td>Maximum_Magnitude</td>\n",
       "      <td>14.80</td>\n",
       "    </tr>\n",
       "    <tr>\n",
       "      <th>6</th>\n",
       "      <td>Maximum_Magnitude_band</td>\n",
       "      <td>V</td>\n",
       "    </tr>\n",
       "    <tr>\n",
       "      <th>7</th>\n",
       "      <td>Minimum_Magnitude</td>\n",
       "      <td>15.40</td>\n",
       "    </tr>\n",
       "    <tr>\n",
       "      <th>8</th>\n",
       "      <td>Minimum_Magnitude_band</td>\n",
       "      <td>V</td>\n",
       "    </tr>\n",
       "    <tr>\n",
       "      <th>9</th>\n",
       "      <td>Minimum_Is_Amplitude</td>\n",
       "      <td>False</td>\n",
       "    </tr>\n",
       "    <tr>\n",
       "      <th>10</th>\n",
       "      <td>Remarks</td>\n",
       "      <td>ASAS-SN data contaminated by Gaia DR3 1035639627224864128 (V=13.14, 3.8\" to the WSW), a variable (EA).</td>\n",
       "    </tr>\n",
       "    <tr>\n",
       "      <th>11</th>\n",
       "      <td>Revision_Comment</td>\n",
       "      <td>Identification from 2022yCat.1358....0G. Range derived from Gaia DR3 data. Position and spectral type from Gaia DR3.</td>\n",
       "    </tr>\n",
       "    <tr>\n",
       "      <th>12</th>\n",
       "      <td>Reference0_Name</td>\n",
       "      <td>Gaia collaboration; et al., 2022, Gaia Data Release 3 (Gaia DR3) Part 4 Variability</td>\n",
       "    </tr>\n",
       "    <tr>\n",
       "      <th>13</th>\n",
       "      <td>Reference0_Bib</td>\n",
       "      <td>2022yCat.1358....0G</td>\n",
       "    </tr>\n",
       "  </tbody>\n",
       "</table>\n",
       "</div>"
      ],
      "text/plain": [
       "                      Field  \\\n",
       "0                  Position   \n",
       "1              Primary_Name   \n",
       "2               Other_Names   \n",
       "3             Spectral_Type   \n",
       "4   Spectral_Type_Uncertain   \n",
       "5         Maximum_Magnitude   \n",
       "6    Maximum_Magnitude_band   \n",
       "7         Minimum_Magnitude   \n",
       "8    Minimum_Magnitude_band   \n",
       "9      Minimum_Is_Amplitude   \n",
       "10                  Remarks   \n",
       "11         Revision_Comment   \n",
       "12          Reference0_Name   \n",
       "13           Reference0_Bib   \n",
       "\n",
       "                                                                                                                   Value  \n",
       "0                                                                                        124.45683313122, 58.90652920274  \n",
       "1                                                                                                                         \n",
       "2        Gaia DR3 1035639627224864000,ASASSN-V J081749.25+585422.0,TIC 81075728,2MASS J08174962+5854233,UCAC4 745-044437  \n",
       "3                                                                                                                      K  \n",
       "4                                                                                                                  False  \n",
       "5                                                                                                                  14.80  \n",
       "6                                                                                                                      V  \n",
       "7                                                                                                                  15.40  \n",
       "8                                                                                                                      V  \n",
       "9                                                                                                                  False  \n",
       "10                ASAS-SN data contaminated by Gaia DR3 1035639627224864128 (V=13.14, 3.8\" to the WSW), a variable (EA).  \n",
       "11  Identification from 2022yCat.1358....0G. Range derived from Gaia DR3 data. Position and spectral type from Gaia DR3.  \n",
       "12                                   Gaia collaboration; et al., 2022, Gaia Data Release 3 (Gaia DR3) Part 4 Variability  \n",
       "13                                                                                                   2022yCat.1358....0G  "
      ]
     },
     "metadata": {},
     "output_type": "display_data"
    },
    {
     "name": "stdout",
     "output_type": "stream",
     "text": [
      "\n",
      "\n"
     ]
    }
   ],
   "source": [
    "import bibs_utils\n",
    "# reload(bibs_utils)\n",
    "\n",
    "# ExoFOP + SIMBMAD + ASAS-SN Variable\n",
    "other_names = f\"Gaia DR3 1035639627224864000,ASASSN-V J081749.25+585422.0,TIC 81075728,2MASS J08174962+5854233,UCAC4 745-044437\"  \n",
    "\n",
    "\n",
    "remarks = f\"\"\"ASAS-SN data contaminated by Gaia DR3 1035639627224864128 (V=13.14, 3.8\" to the WSW), a variable (EA).\"\"\"  \n",
    "\n",
    "revision_comment = \"Identification from 2022yCat.1358....0G. Range derived from Gaia DR3 data. Position and spectral type from Gaia DR3.\"\n",
    "\n",
    "\n",
    "BIBS = bibs_utils.BIBS\n",
    "vsx_report = dict(\n",
    "    Position=f\"124.45683313122, 58.90652920274\",\n",
    "    Primary_Name=\"\",    # keep existing Variable   ASASSN-V J081749.20+585421.7\t\n",
    "    Other_Names=other_names,\n",
    "    # Variable_Type=\"EW\",  # no change\n",
    "    Spectral_Type=\"K\",  # from Gaia DR3 astrophysical parameters\n",
    "    Spectral_Type_Uncertain=False,\n",
    "    Maximum_Magnitude=f\"{max_vmag:.2f}\",  \n",
    "    Maximum_Magnitude_band=\"V\",\n",
    "    Minimum_Magnitude=f\"{min_vmag:.2f}\", \n",
    "    Minimum_Magnitude_band=\"V\",  \n",
    "    Minimum_Is_Amplitude=False,\n",
    "    # Period=f\"\",  # \n",
    "    # Epoch=f\"\",   # no change\n",
    "    # Rise_Duration_Pct=f\"\",  # no change\n",
    "    Remarks=remarks,\n",
    "    Revision_Comment=revision_comment,\n",
    "    Reference0_Name=BIBS.GAIA_DR3_VAR_N,\n",
    "    Reference0_Bib=BIBS.GAIA_DR3_VAR_B,\n",
    ")\n",
    "\n",
    "def print_long_fields(report):\n",
    "    other_names_list = report[\"Other_Names\"].split(\",\")\n",
    "    print(\"Other Names (1 line each):\")\n",
    "    print(\"\\n\".join(other_names_list))\n",
    "    print(\"\")\n",
    "    print(report[\"Remarks\"])\n",
    "    print(\"\")\n",
    "    print(report[\"Revision_Comment\"])\n",
    "\n",
    "print_long_fields(vsx_report)\n",
    "with pd.option_context('display.max_colwidth', None):\n",
    "    display(report_to_df(vsx_report))\n",
    "\n",
    "\n",
    "# Combined LC probably not needed for EA with no long term variation\n",
    "# tic61768908_combined_plot.png : Combined light curve - Combined light curve from from TESS and corrected ASAS-SN; shifted to corrected ASAS-SN V.\n",
    "print(\"\"\"\n",
    "\"\"\")\n"
   ]
  }
 ],
 "metadata": {
  "kernelspec": {
   "display_name": "Python 3 (ipykernel)",
   "language": "python",
   "name": "python3"
  },
  "language_info": {
   "codemirror_mode": {
    "name": "ipython",
    "version": 3
   },
   "file_extension": ".py",
   "mimetype": "text/x-python",
   "name": "python",
   "nbconvert_exporter": "python",
   "pygments_lexer": "ipython3",
   "version": "3.10.14"
  }
 },
 "nbformat": 4,
 "nbformat_minor": 5
}
