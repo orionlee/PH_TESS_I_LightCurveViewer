{
 "cells": [
  {
   "cell_type": "markdown",
   "id": "0ec379c6",
   "metadata": {},
   "source": [
    "# Misc. Astronomy Tools"
   ]
  },
  {
   "cell_type": "code",
   "execution_count": 16,
   "id": "60feffc0",
   "metadata": {},
   "outputs": [
    {
     "data": {
      "application/javascript": [
       "\n",
       "document.head.insertAdjacentHTML('beforeend', '<style>.container { width:99% !important; }</style>');\n"
      ],
      "text/plain": [
       "<IPython.core.display.Javascript object>"
      ]
     },
     "metadata": {},
     "output_type": "display_data"
    }
   ],
   "source": [
    "%%javascript\n",
    "\n",
    "document.head.insertAdjacentHTML('beforeend', '<style>.container { width:99% !important; }</style>');"
   ]
  },
  {
   "cell_type": "markdown",
   "id": "3d049396",
   "metadata": {},
   "source": [
    "### Stars around a coordinate"
   ]
  },
  {
   "cell_type": "code",
   "execution_count": 15,
   "id": "40d69988",
   "metadata": {},
   "outputs": [
    {
     "name": "stdout",
     "output_type": "stream",
     "text": [
      "From B/vsx/vsx:\n"
     ]
    },
    {
     "data": {
      "text/html": [
       "<div><i>Table length=2</i>\n",
       "<table id=\"table2298443507312\" class=\"table-striped table-bordered table-condensed\">\n",
       "<thead><tr><th>OID</th><th>n_OID</th><th>Name</th><th>V</th><th>Type</th><th>l_max</th><th>max</th><th>u_max</th><th>n_max</th><th>f_min</th><th>l_min</th><th>min</th><th>u_min</th><th>n_min</th><th>l_Period</th><th>Period</th><th>u_Period</th><th>RAJ2000</th><th>DEJ2000</th></tr></thead>\n",
       "<thead><tr><th></th><th></th><th></th><th></th><th></th><th></th><th>mag</th><th></th><th></th><th></th><th></th><th>mag</th><th></th><th></th><th></th><th>d</th><th></th><th>deg</th><th>deg</th></tr></thead>\n",
       "<thead><tr><th>int32</th><th>str1</th><th>str30</th><th>uint8</th><th>str30</th><th>str1</th><th>float32</th><th>str1</th><th>str6</th><th>str1</th><th>str1</th><th>float32</th><th>str1</th><th>str6</th><th>str1</th><th>float64</th><th>str3</th><th>float64</th><th>float64</th></tr></thead>\n",
       "<tr><td>13812</td><td>B</td><td>DR Dra</td><td>0</td><td>RS</td><td></td><td>6.550</td><td></td><td>V</td><td>(</td><td></td><td>0.120</td><td></td><td>V</td><td></td><td>26.7400000000</td><td></td><td>263.17167</td><td>74.22736</td></tr>\n",
       "<tr><td>1517608</td><td></td><td>ASASSN-V J173604.13+743850.7</td><td>0</td><td>EA</td><td></td><td>15.750</td><td></td><td>V</td><td></td><td></td><td>16.420</td><td></td><td>V</td><td></td><td>5.8263700000</td><td></td><td>264.01721</td><td>74.64741</td></tr>\n",
       "</table></div>"
      ],
      "text/plain": [
       "<Table length=2>\n",
       "  OID   n_OID             Name             ... u_Period  RAJ2000   DEJ2000 \n",
       "                                           ...             deg       deg   \n",
       " int32   str1            str30             ...   str3    float64   float64 \n",
       "------- ----- ---------------------------- ... -------- --------- ---------\n",
       "  13812     B                       DR Dra ...          263.17167  74.22736\n",
       "1517608       ASASSN-V J173604.13+743850.7 ...          264.01721  74.64741"
      ]
     },
     "execution_count": 15,
     "metadata": {},
     "output_type": "execute_result"
    }
   ],
   "source": [
    "# Stars aroudn a coordiante, from GAIA DR2/EDR3\n",
    "import astropy\n",
    "from astropy.coordinates import SkyCoord, Angle\n",
    "from astroquery.vizier import Vizier\n",
    "\n",
    "compact_colnames_map = {\n",
    "    \"I/345/gaia2\": [\n",
    "        \"RA_ICRS\",\n",
    "        \"DE_ICRS\",\n",
    "        \"RPmag\",\n",
    "        \"Gmag\",\n",
    "        \"BPmag\",\n",
    "        \"Tefftemp\",\n",
    "        \"RUWE\",\n",
    "        \"Plx\",\n",
    "        \"pmRA\",\n",
    "        \"pmDE\",\n",
    "        \"Source\",                \n",
    "    ],\n",
    "    \n",
    "    \"I/350/gaiaedr3\": [\n",
    "        \"RAJ2000\",\n",
    "        \"DEJ2000\",\n",
    "        \"RPmag\",\n",
    "        \"Gmag\",\n",
    "        \"BPmag\",\n",
    "        \"Tefftemp\",\n",
    "        \"RUWE\",\n",
    "        \"sepsi\",\n",
    "        \"epsi\",\n",
    "        \"Plx\",\n",
    "        \"pmRA\",\n",
    "        \"pmDE\",\n",
    "        \"Source\",        \n",
    "    ],\n",
    "}\n",
    "\n",
    "def search_nearby(ra, dec, catalog_name=\"I/345/gaia2\", radius_arcsec=30, magnitude_limit=21, compact_columns=True):\n",
    "    \n",
    "    c1 = SkyCoord(ra, dec, frame=\"icrs\", unit=\"deg\")\n",
    "    Vizier.ROW_LIMIT = -1\n",
    "    columns = [\"*\"]\n",
    "    if catalog_name == \"I/350/gaiaedr3\":\n",
    "        columns = [\"*\", \"epsi\", \"sepsi\"]  # add astrometric excess noise to the output (see if a star wobbles)\n",
    "\n",
    "    result = Vizier(columns=columns).query_region(\n",
    "        c1,\n",
    "        catalog=[catalog_name],\n",
    "        radius=Angle(radius_arcsec, \"arcsec\"),\n",
    "    )\n",
    "    if len(result) < 1:\n",
    "        return None\n",
    "    result = result[catalog_name]\n",
    "    if compact_columns:\n",
    "        compact_colnames = compact_colnames_map.get(catalog_name)\n",
    "        if compact_colnames is not None:\n",
    "            # further filter to get the subset available from search result \n",
    "            compact_colnames = [c for c in compact_colnames if c in result.colnames]\n",
    "            result = result[compact_colnames]    \n",
    "    \n",
    "#     result = result.to_pandas()\n",
    "#     if result.get(\"Gmag\") is not None:\n",
    "#         result = result[result.Gmag < magnitude_limit]\n",
    "#     if result.get(\"RUWE\") is not None:\n",
    "#         move_column(result, \"RUWE\", 7)        \n",
    "#     if result.get(\"sepsi\") is not None:\n",
    "#         move_column(result, \"sepsi\", 8)        \n",
    "#     if result.get(\"epsi\") is not None:\n",
    "#         move_column(result, \"epsi\", 9)        \n",
    "    return result\n",
    "\n",
    "\n",
    "catalog_name = \"I/345/gaia2\"      # https://vizier.cds.unistra.fr/viz-bin/VizieR-3?-source=I/345/gaia2\n",
    "catalog_name = \"I/350/gaiaedr3\"   # https://vizier.cds.unistra.fr/viz-bin/VizieR-3?-source=I/350/gaiaedr3\n",
    "\n",
    "radius_arcsec = 30\n",
    "\n",
    "catalog_name, radius_arcsec = \"B/vsx/vsx\", 1200\n",
    "\n",
    "compact_columns = True\n",
    "\n",
    "magnitude_limit = 20\n",
    "ra, dec = 263.59892769, 74.47212807\n",
    "\n",
    "import warnings\n",
    "with warnings.catch_warnings():\n",
    "    # workaround https://github.com/astropy/astroquery/issues/2352\n",
    "    warnings.filterwarnings(\"ignore\", category=astropy.units.UnitsWarning)\n",
    "#     warnings.filterwarnings(\"ignore\", message=\".*Unit 'e' not supported by the VOUnit standard.*\")\n",
    "#     warnings.simplefilter(\"ignore\")\n",
    "    result = search_nearby(ra, dec, catalog_name=catalog_name, radius_arcsec=radius_arcsec, magnitude_limit=magnitude_limit, compact_columns=compact_columns)\n",
    "print(f\"From {catalog_name}:\")\n",
    "result\n"
   ]
  },
  {
   "cell_type": "code",
   "execution_count": 48,
   "id": "30ecb9ed",
   "metadata": {},
   "outputs": [
    {
     "data": {
      "text/html": [
       "<div><i>Table length=6</i>\n",
       "<table id=\"table2281780813392\" class=\"table-striped table-bordered table-condensed\">\n",
       "<thead><tr><th>solution_id</th><th>DESIGNATION</th><th>source_id</th><th>random_index</th><th>ref_epoch</th><th>ra</th><th>ra_error</th><th>dec</th><th>dec_error</th><th>parallax</th><th>parallax_error</th><th>parallax_over_error</th><th>pmra</th><th>pmra_error</th><th>pmdec</th><th>pmdec_error</th><th>ra_dec_corr</th><th>ra_parallax_corr</th><th>ra_pmra_corr</th><th>ra_pmdec_corr</th><th>dec_parallax_corr</th><th>dec_pmra_corr</th><th>dec_pmdec_corr</th><th>parallax_pmra_corr</th><th>parallax_pmdec_corr</th><th>pmra_pmdec_corr</th><th>astrometric_n_obs_al</th><th>astrometric_n_obs_ac</th><th>astrometric_n_good_obs_al</th><th>astrometric_n_bad_obs_al</th><th>astrometric_gof_al</th><th>astrometric_chi2_al</th><th>astrometric_excess_noise</th><th>astrometric_excess_noise_sig</th><th>astrometric_params_solved</th><th>astrometric_primary_flag</th><th>astrometric_weight_al</th><th>astrometric_pseudo_colour</th><th>astrometric_pseudo_colour_error</th><th>mean_varpi_factor_al</th><th>astrometric_matched_observations</th><th>visibility_periods_used</th><th>astrometric_sigma5d_max</th><th>frame_rotator_object_type</th><th>matched_observations</th><th>duplicated_source</th><th>phot_g_n_obs</th><th>phot_g_mean_flux</th><th>phot_g_mean_flux_error</th><th>phot_g_mean_flux_over_error</th><th>phot_g_mean_mag</th><th>phot_bp_n_obs</th><th>phot_bp_mean_flux</th><th>phot_bp_mean_flux_error</th><th>phot_bp_mean_flux_over_error</th><th>phot_bp_mean_mag</th><th>phot_rp_n_obs</th><th>phot_rp_mean_flux</th><th>phot_rp_mean_flux_error</th><th>phot_rp_mean_flux_over_error</th><th>phot_rp_mean_mag</th><th>phot_bp_rp_excess_factor</th><th>phot_proc_mode</th><th>bp_rp</th><th>bp_g</th><th>g_rp</th><th>radial_velocity</th><th>radial_velocity_error</th><th>rv_nb_transits</th><th>rv_template_teff</th><th>rv_template_logg</th><th>rv_template_fe_h</th><th>phot_variable_flag</th><th>l</th><th>b</th><th>ecl_lon</th><th>ecl_lat</th><th>priam_flags</th><th>teff_val</th><th>teff_percentile_lower</th><th>teff_percentile_upper</th><th>a_g_val</th><th>a_g_percentile_lower</th><th>a_g_percentile_upper</th><th>e_bp_min_rp_val</th><th>e_bp_min_rp_percentile_lower</th><th>e_bp_min_rp_percentile_upper</th><th>flame_flags</th><th>radius_val</th><th>radius_percentile_lower</th><th>radius_percentile_upper</th><th>lum_val</th><th>lum_percentile_lower</th><th>lum_percentile_upper</th><th>datalink_url</th><th>dist</th></tr></thead>\n",
       "<thead><tr><th></th><th></th><th></th><th></th><th>yr</th><th>deg</th><th>mas</th><th>deg</th><th>mas</th><th>mas</th><th>mas</th><th></th><th>mas / yr</th><th>mas / yr</th><th>mas / yr</th><th>mas / yr</th><th></th><th></th><th></th><th></th><th></th><th></th><th></th><th></th><th></th><th></th><th></th><th></th><th></th><th></th><th></th><th></th><th>mas</th><th></th><th></th><th></th><th>1 / mas2</th><th>1 / um</th><th>1 / um</th><th></th><th></th><th></th><th>mas</th><th></th><th></th><th></th><th></th><th>electron / s</th><th>electron / s</th><th></th><th>mag</th><th></th><th>electron / s</th><th>electron / s</th><th></th><th>mag</th><th></th><th>electron / s</th><th>electron / s</th><th></th><th>mag</th><th></th><th></th><th>mag</th><th>mag</th><th>mag</th><th>km / s</th><th>km / s</th><th></th><th>K</th><th>log(cm.s**-2)</th><th>dex</th><th></th><th>deg</th><th>deg</th><th>deg</th><th>deg</th><th></th><th>K</th><th>K</th><th>K</th><th>mag</th><th>mag</th><th>mag</th><th>mag</th><th>mag</th><th>mag</th><th></th><th>solRad</th><th>solRad</th><th>solRad</th><th>solLum</th><th>solLum</th><th>solLum</th><th></th><th></th></tr></thead>\n",
       "<thead><tr><th>int64</th><th>object</th><th>int64</th><th>int64</th><th>float64</th><th>float64</th><th>float64</th><th>float64</th><th>float64</th><th>float64</th><th>float64</th><th>float32</th><th>float64</th><th>float64</th><th>float64</th><th>float64</th><th>float32</th><th>float32</th><th>float32</th><th>float32</th><th>float32</th><th>float32</th><th>float32</th><th>float32</th><th>float32</th><th>float32</th><th>int32</th><th>int32</th><th>int32</th><th>int32</th><th>float32</th><th>float32</th><th>float64</th><th>float64</th><th>int16</th><th>bool</th><th>float32</th><th>float64</th><th>float64</th><th>float32</th><th>int16</th><th>int16</th><th>float32</th><th>int32</th><th>int16</th><th>bool</th><th>int32</th><th>float64</th><th>float64</th><th>float32</th><th>float32</th><th>int32</th><th>float64</th><th>float64</th><th>float32</th><th>float32</th><th>int32</th><th>float64</th><th>float64</th><th>float32</th><th>float32</th><th>float32</th><th>int16</th><th>float32</th><th>float32</th><th>float32</th><th>float64</th><th>float64</th><th>int32</th><th>float32</th><th>float32</th><th>float32</th><th>object</th><th>float64</th><th>float64</th><th>float64</th><th>float64</th><th>int64</th><th>float32</th><th>float32</th><th>float32</th><th>float32</th><th>float32</th><th>float32</th><th>float32</th><th>float32</th><th>float32</th><th>int64</th><th>float32</th><th>float32</th><th>float32</th><th>float32</th><th>float32</th><th>float32</th><th>object</th><th>float64</th></tr></thead>\n",
       "<tr><td>1635721458409799680</td><td>Gaia DR2 1655666294396195200</td><td>1655666294396195200</td><td>1358916289</td><td>2015.5</td><td>263.59890403460577</td><td>0.03170163894732282</td><td>74.47216720646641</td><td>0.04892681686518623</td><td>1.108937161662669</td><td>0.04655582626681095</td><td>23.819513</td><td>3.4416501411560043</td><td>0.04967232464463041</td><td>-21.273350405440084</td><td>0.07429961516390249</td><td>-0.2610099</td><td>-0.56073153</td><td>0.09585507</td><td>0.10948105</td><td>0.6266922</td><td>-0.32973415</td><td>-0.62051433</td><td>-0.44896287</td><td>-0.39297086</td><td>0.12271285</td><td>167</td><td>167</td><td>166</td><td>1</td><td>4.6090813</td><td>257.76434</td><td>0.0</td><td>0.0</td><td>31</td><td>True</td><td>247.27481</td><td>1.6407132332405652</td><td>0.008580896601978938</td><td>-0.11661293</td><td>19</td><td>14</td><td>0.054497305</td><td>0</td><td>22</td><td>False</td><td>193</td><td>178932.07109762123</td><td>45.150793732790945</td><td>3962.9883</td><td>12.556645</td><td>21</td><td>101483.92004431318</td><td>208.0702882847174</td><td>487.73865</td><td>12.835395</td><td>21</td><td>114246.63390573513</td><td>114.7918250967366</td><td>995.2506</td><td>12.1173115</td><td>1.2056562</td><td>0</td><td>0.7180834</td><td>0.27874947</td><td>0.43933392</td><td>-25.372872488897567</td><td>6.081422837677936</td><td>5</td><td>5500.0</td><td>3.5</td><td>-1.5</td><td>NOT_AVAILABLE</td><td>105.74822462216561</td><td>31.19368643395216</td><td>102.103825911288</td><td>81.81684407487553</td><td>100001</td><td>6141.0</td><td>5891.0</td><td>6440.0</td><td>--</td><td>--</td><td>--</td><td>--</td><td>--</td><td>--</td><td>200111</td><td>2.1014493</td><td>1.9108446</td><td>2.2835948</td><td>5.6583385</td><td>5.325697</td><td>5.99098</td><td>https://gea.esac.esa.int/data-server/datalink/links?ID=Gaia+DR2+1655666294396195200</td><td>3.429458889269471e-05</td></tr>\n",
       "<tr><td>1635721458409799680</td><td>Gaia DR2 1655666294395083264</td><td>1655666294395083264</td><td>1169295133</td><td>2015.5</td><td>263.5931588177774</td><td>0.35105221587843655</td><td>74.4720050431908</td><td>0.5128539724797229</td><td>0.20724033886954776</td><td>0.502733515321318</td><td>0.41222703</td><td>-0.10580282281298592</td><td>0.5561541770144851</td><td>-13.503158812335148</td><td>0.7791697481634678</td><td>-0.38011193</td><td>-0.5235081</td><td>0.31371337</td><td>0.095853455</td><td>0.62668985</td><td>-0.34428197</td><td>-0.5187503</td><td>-0.4517992</td><td>-0.46174458</td><td>-0.036503438</td><td>159</td><td>0</td><td>159</td><td>0</td><td>3.5200493</td><td>223.54951</td><td>1.4147656076668027</td><td>2.9491086936828457</td><td>31</td><td>False</td><td>0.12246211</td><td>1.297409814809064</td><td>0.09180109731492098</td><td>-0.08269789</td><td>18</td><td>14</td><td>0.8028043</td><td>0</td><td>22</td><td>False</td><td>195</td><td>367.57850555274456</td><td>1.4709427066285288</td><td>249.89314</td><td>19.27499</td><td>17</td><td>204.51002033426622</td><td>30.813941804064655</td><td>6.6369314</td><td>19.574602</td><td>18</td><td>543.8872417538304</td><td>22.265896901769413</td><td>24.426918</td><td>17.923147</td><td>2.0360203</td><td>0</td><td>1.6514549</td><td>0.29961205</td><td>1.3518429</td><td>--</td><td>--</td><td>0</td><td>--</td><td>--</td><td>--</td><td>NOT_AVAILABLE</td><td>105.74837648169382</td><td>31.195227533399002</td><td>102.114448046889</td><td>81.81651875867962</td><td>--</td><td>--</td><td>--</td><td>--</td><td>--</td><td>--</td><td>--</td><td>--</td><td>--</td><td>--</td><td>--</td><td>--</td><td>--</td><td>--</td><td>--</td><td>--</td><td>--</td><td>https://gea.esac.esa.int/data-server/datalink/links?ID=Gaia+DR2+1655666294395083264</td><td>0.0015483821536822187</td></tr>\n",
       "<tr><td>1635721458409799680</td><td>Gaia DR2 1655666290100697856</td><td>1655666290100697856</td><td>161062401</td><td>2015.5</td><td>263.6012759335116</td><td>0.6170386791277965</td><td>74.47693503389534</td><td>0.8024545841798583</td><td>0.42091177552270304</td><td>0.8743528239316654</td><td>0.48139808</td><td>-5.214412944790547</td><td>0.8908240267453772</td><td>0.9220647898210669</td><td>1.1773408515958417</td><td>-0.29375437</td><td>-0.5683678</td><td>0.10399837</td><td>0.14295071</td><td>0.6551484</td><td>-0.37014115</td><td>-0.63925827</td><td>-0.4547942</td><td>-0.50210196</td><td>0.10719067</td><td>160</td><td>0</td><td>159</td><td>1</td><td>0.31665036</td><td>158.94247</td><td>0.0</td><td>0.0</td><td>31</td><td>False</td><td>0.050313324</td><td>1.4109961828410786</td><td>0.15075512977279934</td><td>-0.16155675</td><td>18</td><td>13</td><td>1.3050275</td><td>0</td><td>22</td><td>False</td><td>194</td><td>154.26532153223476</td><td>1.0901232819588493</td><td>141.51181</td><td>20.217695</td><td>17</td><td>74.7719623577423</td><td>4.697239546379537</td><td>15.918278</td><td>20.667042</td><td>18</td><td>160.3475278951832</td><td>7.586716635545628</td><td>21.1353</td><td>19.249264</td><td>1.524124</td><td>0</td><td>1.417778</td><td>0.44934654</td><td>0.9684315</td><td>--</td><td>--</td><td>0</td><td>--</td><td>--</td><td>--</td><td>NOT_AVAILABLE</td><td>105.75355937814825</td><td>31.192166661317547</td><td>102.08915961163044</td><td>81.81251106167805</td><td>--</td><td>--</td><td>--</td><td>--</td><td>--</td><td>--</td><td>--</td><td>--</td><td>--</td><td>--</td><td>--</td><td>--</td><td>--</td><td>--</td><td>--</td><td>--</td><td>--</td><td>https://gea.esac.esa.int/data-server/datalink/links?ID=Gaia+DR2+1655666290100697856</td><td>0.004842886172699238</td></tr>\n",
       "<tr><td>1635721458409799680</td><td>Gaia DR2 1655666290100696320</td><td>1655666290100696320</td><td>1239504680</td><td>2015.5</td><td>263.57197295707897</td><td>0.5588003569022989</td><td>74.47405800370811</td><td>0.683703828092618</td><td>1.0554179336505551</td><td>0.7278606106174984</td><td>1.4500276</td><td>-3.3914630069759335</td><td>0.7696755966399387</td><td>-2.312109198322572</td><td>1.0192936247677122</td><td>-0.20818222</td><td>-0.59029454</td><td>-0.0553373</td><td>0.06828789</td><td>0.5922749</td><td>-0.36945853</td><td>-0.64105535</td><td>-0.3545244</td><td>-0.4470315</td><td>0.11977775</td><td>149</td><td>0</td><td>149</td><td>0</td><td>0.27122265</td><td>147.9721</td><td>0.0</td><td>0.0</td><td>31</td><td>False</td><td>0.074589096</td><td>1.5772197929356433</td><td>0.14420222452219209</td><td>-0.10525544</td><td>17</td><td>13</td><td>1.1019359</td><td>0</td><td>21</td><td>False</td><td>185</td><td>195.63681152930377</td><td>1.088661591514148</td><td>179.70396</td><td>19.95974</td><td>18</td><td>90.82147189559713</td><td>8.413281923301081</td><td>10.7950115</td><td>20.455917</td><td>19</td><td>144.99028737176508</td><td>10.575820058440302</td><td>13.709602</td><td>19.358572</td><td>1.2053547</td><td>0</td><td>1.0973454</td><td>0.49617767</td><td>0.6011677</td><td>--</td><td>--</td><td>0</td><td>--</td><td>--</td><td>--</td><td>NOT_AVAILABLE</td><td>105.75198175763623</td><td>31.200410939097306</td><td>102.14778657337587</td><td>81.81279747817833</td><td>--</td><td>--</td><td>--</td><td>--</td><td>--</td><td>--</td><td>--</td><td>--</td><td>--</td><td>--</td><td>--</td><td>--</td><td>--</td><td>--</td><td>--</td><td>--</td><td>--</td><td>https://gea.esac.esa.int/data-server/datalink/links?ID=Gaia+DR2+1655666290100696320</td><td>0.007466564227036683</td></tr>\n",
       "<tr><td>1635721458409799680</td><td>Gaia DR2 1655666294396195968</td><td>1655666294396195968</td><td>708920866</td><td>2015.5</td><td>263.6022376949817</td><td>0.025079032085812202</td><td>74.47988957150345</td><td>0.04006813023259331</td><td>0.2720762889640743</td><td>0.03787479188100945</td><td>7.183572</td><td>-5.007816834218702</td><td>0.03988982616918792</td><td>14.166597578869911</td><td>0.06049727165553954</td><td>-0.2974929</td><td>-0.5522307</td><td>0.15182845</td><td>0.1438573</td><td>0.6452138</td><td>-0.3247326</td><td>-0.62198174</td><td>-0.4725048</td><td>-0.4247816</td><td>0.09517835</td><td>169</td><td>0</td><td>169</td><td>0</td><td>-4.0430474</td><td>100.65195</td><td>0.0</td><td>0.0</td><td>31</td><td>False</td><td>33.971733</td><td>1.5684634740216465</td><td>0.006846993837770835</td><td>-0.110292494</td><td>19</td><td>14</td><td>0.073352374</td><td>0</td><td>23</td><td>True</td><td>204</td><td>27855.40485256876</td><td>9.499839362742367</td><td>2932.1975</td><td>14.576092</td><td>22</td><td>13987.567557899987</td><td>25.671345280041834</td><td>544.87085</td><td>14.987033</td><td>22</td><td>20198.317332915514</td><td>27.641533604334</td><td>730.72345</td><td>13.998632</td><td>1.2272621</td><td>0</td><td>0.98840046</td><td>0.41094112</td><td>0.57745934</td><td>--</td><td>--</td><td>0</td><td>--</td><td>--</td><td>--</td><td>NOT_AVAILABLE</td><td>105.75689507593758</td><td>31.191358481833507</td><td>102.08098706129365</td><td>81.80978333807784</td><td>100001</td><td>5315.99</td><td>5092.4497</td><td>5363.6665</td><td>--</td><td>--</td><td>--</td><td>--</td><td>--</td><td>--</td><td>--</td><td>--</td><td>--</td><td>--</td><td>--</td><td>--</td><td>--</td><td>https://gea.esac.esa.int/data-server/datalink/links?ID=Gaia+DR2+1655666294396195968</td><td>0.00780686685465612</td></tr>\n",
       "<tr><td>1635721458409799680</td><td>Gaia DR2 1655666290100924672</td><td>1655666290100924672</td><td>1686516051</td><td>2015.5</td><td>263.6098767694123</td><td>0.28062243006058</td><td>74.47967544142998</td><td>0.41518846323035075</td><td>1.2690019989999601</td><td>0.42235586384197493</td><td>3.00458</td><td>-3.431396895984</td><td>0.44560220683537327</td><td>4.620299127263582</td><td>0.6184202108745036</td><td>-0.3282995</td><td>-0.5387903</td><td>0.23525828</td><td>0.14940688</td><td>0.65367675</td><td>-0.34083736</td><td>-0.5877967</td><td>-0.49077585</td><td>-0.47202396</td><td>0.051050793</td><td>169</td><td>0</td><td>169</td><td>0</td><td>3.0724983</td><td>225.35109</td><td>0.8668835576062661</td><td>1.523930252271358</td><td>31</td><td>False</td><td>0.18378758</td><td>1.387263942711123</td><td>0.07196130318109227</td><td>-0.11031463</td><td>19</td><td>14</td><td>0.66121787</td><td>0</td><td>23</td><td>False</td><td>200</td><td>417.65314175892615</td><td>1.267254330398662</td><td>329.57327</td><td>19.136326</td><td>21</td><td>125.84290308628191</td><td>6.291455067892242</td><td>20.002193</td><td>20.101816</td><td>21</td><td>468.93546866002913</td><td>7.377502685810597</td><td>63.5629</td><td>18.084137</td><td>1.4240965</td><td>0</td><td>2.0176792</td><td>0.96549034</td><td>1.0521889</td><td>--</td><td>--</td><td>0</td><td>--</td><td>--</td><td>--</td><td>NOT_AVAILABLE</td><td>105.7562001934831</td><td>31.189391087504767</td><td>102.06781691584494</td><td>81.81062248140474</td><td>--</td><td>--</td><td>--</td><td>--</td><td>--</td><td>--</td><td>--</td><td>--</td><td>--</td><td>--</td><td>--</td><td>--</td><td>--</td><td>--</td><td>--</td><td>--</td><td>--</td><td>https://gea.esac.esa.int/data-server/datalink/links?ID=Gaia+DR2+1655666290100924672</td><td>0.008091934514697545</td></tr>\n",
       "</table></div>"
      ],
      "text/plain": [
       "<Table length=6>\n",
       "    solution_id             DESIGNATION          ...          dist        \n",
       "                                                 ...                      \n",
       "       int64                   object            ...        float64       \n",
       "------------------- ---------------------------- ... ---------------------\n",
       "1635721458409799680 Gaia DR2 1655666294396195200 ... 3.429458889269471e-05\n",
       "1635721458409799680 Gaia DR2 1655666294395083264 ... 0.0015483821536822187\n",
       "1635721458409799680 Gaia DR2 1655666290100697856 ...  0.004842886172699238\n",
       "1635721458409799680 Gaia DR2 1655666290100696320 ...  0.007466564227036683\n",
       "1635721458409799680 Gaia DR2 1655666294396195968 ...   0.00780686685465612\n",
       "1635721458409799680 Gaia DR2 1655666290100924672 ...  0.008091934514697545"
      ]
     },
     "execution_count": 48,
     "metadata": {},
     "output_type": "execute_result"
    }
   ],
   "source": [
    "import astropy.units as u\n",
    "from astropy.coordinates import SkyCoord\n",
    "from astroquery.gaia import Gaia\n",
    "\n",
    "Gaia.ROW_LIMIT = 50  # Ensure the default row limit.\n",
    "ra, dec = 263.59892769, 74.47212807\n",
    "coord = SkyCoord(ra=ra, dec=dec, unit=(u.degree, u.degree), frame='icrs')\n",
    "radius = u.Quantity(30, u.arcsec)\n",
    "job = Gaia.cone_search(coord, radius)\n",
    "res = job.get_results()\n",
    "res"
   ]
  },
  {
   "cell_type": "markdown",
   "id": "b38d907d",
   "metadata": {},
   "source": [
    "### Conversion between heliocentric times and barycentric time"
   ]
  },
  {
   "cell_type": "code",
   "execution_count": 17,
   "id": "77d963f4",
   "metadata": {},
   "outputs": [],
   "source": [
    "# From https://gist.github.com/StuartLittlefair/4ab7bb8cf21862e250be8cb25f72bb7a\n",
    "\n",
    "from astropy.coordinates import SkyCoord, EarthLocation\n",
    "from astropy import units as u\n",
    "from astropy.time import Time\n",
    "\n",
    "def helio_to_bary(coords, hjd, obs_name):\n",
    "    helio = Time(hjd, scale='utc', format='jd')\n",
    "    obs = EarthLocation.of_site(obs_name)\n",
    "    star = SkyCoord(coords, unit=(u.hour, u.deg)) \n",
    "    ltt = helio.light_travel_time(star, 'heliocentric', location=obs)\n",
    "    guess = helio - ltt\n",
    "    # if we assume guess is correct - how far is heliocentric time away from true value?\n",
    "    delta = (guess + guess.light_travel_time(star, 'heliocentric', obs)).jd  - helio.jd\n",
    "    # apply this correction\n",
    "    guess -= delta * u.d\n",
    "\n",
    "    ltt = guess.light_travel_time(star, 'barycentric', obs)\n",
    "    return guess.tdb + ltt\n",
    "\n",
    "\n",
    "def bary_to_helio(coords, bjd, obs_name):\n",
    "    bary = Time(bjd, scale='tdb', format='jd')\n",
    "    obs = EarthLocation.of_site(obs_name)\n",
    "    star = SkyCoord(coords, unit=(u.hour, u.deg))\n",
    "    ltt = bary.light_travel_time(star, 'barycentric', location=obs) \n",
    "    guess = bary - ltt\n",
    "    delta = (guess + guess.light_travel_time(star, 'barycentric', obs)).jd  - bary.jd\n",
    "    guess -= delta * u.d\n",
    "    \n",
    "    ltt = guess.light_travel    \n",
    "    "
   ]
  },
  {
   "cell_type": "markdown",
   "id": "f5eea99e",
   "metadata": {},
   "source": [
    "### Time format conversion"
   ]
  },
  {
   "cell_type": "code",
   "execution_count": 58,
   "id": "299abe7c",
   "metadata": {},
   "outputs": [
    {
     "name": "stdout",
     "output_type": "stream",
     "text": [
      "Source\n",
      "2022-04-23 05:20:10.780813\n",
      "Converted:\n",
      "2022-04-23 05:20:10.780813\n"
     ]
    },
    {
     "data": {
      "text/plain": [
       "<Time object: scale='utc' format='jd' value=2459692.722347>"
      ]
     },
     "execution_count": 58,
     "metadata": {},
     "output_type": "execute_result"
    }
   ],
   "source": [
    "from astropy.time import Time\n",
    "import lightkurve as lk  # for BTJD format\n",
    "\n",
    "# t1 = Time(\"2019-05-01\", format=\"iso\", scale=\"utc\")\n",
    "# t1 = Time(\"58604.4\", format=\"mjd\", scale=\"tdb\") # BMJD, from the paper\n",
    "# t1 = Time(\"2459307.239419309\", format=\"jd\", scale=\"tdb\")  # BJD\n",
    "# t1 = Time(\"2613.135\", format=\"btjd\")  # 2633, 1875.55\n",
    "# t1 = Time(\"2611.240\", format=\"btjd\")  # 2633, 1875.55\n",
    "# t1 = Time(7264.23209 + 2450000, format=\"jd\", scale=\"utc\")  # HJD\n",
    "t1 = Time(2459692.722347, format=\"jd\", scale=\"utc\") \n",
    "\n",
    "print(\"Source\")\n",
    "print(t1.to_datetime())\n",
    "\n",
    "\n",
    "t2 = t1.copy()\n",
    "# t2.format = \"btjd\" \n",
    "t2.format=\"jd\"\n",
    "# potential issue issue: scale is still utc, can't convert to Barycentric\n",
    "\n",
    "print(\"Converted:\")\n",
    "print(t2.to_datetime())\n",
    "t2"
   ]
  },
  {
   "cell_type": "markdown",
   "id": "939b2473",
   "metadata": {},
   "source": [
    "### Time zone conversion"
   ]
  },
  {
   "cell_type": "code",
   "execution_count": 39,
   "id": "872d35b0",
   "metadata": {},
   "outputs": [
    {
     "name": "stdout",
     "output_type": "stream",
     "text": [
      "2015-08-29 17:34:12.576005\n",
      "2015-08-29 10:34:12.576005-07:00\n"
     ]
    }
   ],
   "source": [
    "# adhoc time conversion helper\n",
    "\n",
    "import pytz\n",
    "from astropy.time import Time\n",
    "import lightkurve as lk  # for BTJD format\n",
    "\n",
    "# t1 = Time(\"2019-05-01\", format=\"iso\", scale=\"utc\")\n",
    "# t1 = Time(\"58604.4\", format=\"mjd\", scale=\"tdb\") # BMJD, from the paper\n",
    "t1 = Time(7264.23209 + 2450000, format=\"jd\", scale=\"utc\")  # HJD\n",
    "# t1 = Time(\"2459307.239419309\", format=\"jd\", scale=\"tdb\")  # BJD\n",
    "# t1 = Time(\"2032.093\", format=\"btjd\")  # epoch for TIC 284361752, TOI 2294.01 (long period)\n",
    "dt = t1.to_datetime()\n",
    "print(dt)\n",
    "dt_local = pytz.timezone('US/Pacific').fromutc(dt)\n",
    "print(dt_local)"
   ]
  },
  {
   "cell_type": "code",
   "execution_count": 42,
   "id": "9a70279d",
   "metadata": {},
   "outputs": [
    {
     "data": {
      "text/plain": [
       "10"
      ]
     },
     "execution_count": 42,
     "metadata": {},
     "output_type": "execute_result"
    }
   ],
   "source": [
    "dt_local.hour"
   ]
  },
  {
   "cell_type": "markdown",
   "id": "f0a053bb",
   "metadata": {},
   "source": [
    "### Generate *observable* transit times based from epoch / period\n",
    "- use case: to get actual local time for predicted transits"
   ]
  },
  {
   "cell_type": "code",
   "execution_count": 56,
   "id": "598baa2d",
   "metadata": {},
   "outputs": [
    {
     "name": "stdout",
     "output_type": "stream",
     "text": [
      "TIC 27064468\n",
      "TOI 5126.01\n",
      "Y \t2022-05-20 01:20:40.502400-07:00 \t2719.847691\n",
      "Y \t2022-05-30 23:22:51.081600-07:00 \t2730.765869\n",
      "Y \t2022-06-10 21:25:01.660800-07:00 \t2741.684047\n",
      "TOI 5126.02\n"
     ]
    }
   ],
   "source": [
    "import pytz\n",
    "from astropy.time import Time\n",
    "from astropy import units as u\n",
    "import numpy as np\n",
    "import lightkurve as lk  # for BTJD format\n",
    "\n",
    "title = \"TIC 27064468\"\n",
    "labels = [\"TOI 5126.01\", \"TOI 5126.02\"]\n",
    "epochs = Time([2616.125, 2577.959], format=\"btjd\")\n",
    "periods = [5.459089, 17.9098486, ] * u.day\n",
    "\n",
    "obs_date_start = Time('2022-04-21', format='isot')\n",
    "obs_date_end = Time('2022-07-01', format='isot')\n",
    "\n",
    "# time of day deemed observable, dependent on the target and the obs_date range\n",
    "obs_hr_start, obs_hr_end = 21, 3\n",
    "local_time_zone = 'US/Pacific'\n",
    "\n",
    "list_all = False  # list those in observable hours range only\n",
    "\n",
    "\n",
    "\n",
    "def in_observable_hours_range(dt):\n",
    "    return obs_hr_start <= dt.hour or dt.hour < obs_hr_end\n",
    "    \n",
    "    \n",
    "def list_transit_times_in_range(list_all=True):\n",
    "    for epoch, period, label in zip(epochs, periods, labels):\n",
    "        cycle_start = int(np.ceil((obs_date_start - epoch) / period).value)\n",
    "        cycle_end = int(np.ceil((obs_date_end - epoch) / period).value)  # exclusive end\n",
    "        print(label) \n",
    "        \n",
    "        tt_times  = [epoch + period * n for n in range(cycle_start, cycle_end)]\n",
    "        for t in tt_times:\n",
    "            t_val = t.value\n",
    "            t_local = pytz.timezone(local_time_zone).fromutc(t.to_datetime())\n",
    "            in_obs_hr_range = in_observable_hours_range(t_local)\n",
    "            if list_all or in_obs_hr_range: \n",
    "                in_obs_hr_range_str = 'Y' if in_obs_hr_range else 'N'\n",
    "                print(f\"{in_obs_hr_range_str} \\t{t_local} \\t{t_val}\")\n",
    "    \n",
    " \n",
    "print(title)\n",
    "list_transit_times_in_range(list_all=list_all)"
   ]
  }
 ],
 "metadata": {
  "kernelspec": {
   "display_name": "Python 3 (ipykernel)",
   "language": "python",
   "name": "python3"
  },
  "language_info": {
   "codemirror_mode": {
    "name": "ipython",
    "version": 3
   },
   "file_extension": ".py",
   "mimetype": "text/x-python",
   "name": "python",
   "nbconvert_exporter": "python",
   "pygments_lexer": "ipython3",
   "version": "3.9.10"
  }
 },
 "nbformat": 4,
 "nbformat_minor": 5
}
