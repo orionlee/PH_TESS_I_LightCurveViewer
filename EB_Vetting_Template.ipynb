{
 "cells": [
  {
   "cell_type": "code",
   "execution_count": null,
   "metadata": {},
   "outputs": [],
   "source": [
    "# Setup the dependency for running on gogole colab <https://colab.research.google.com/>\n",
    "#\n",
    "if 'google.colab' in str(get_ipython()):\n",
    "    !pip install lightkurve xmltodict memoization\n",
    "    # ensure we get the latest copy of the dependent scripts\n",
    "    !rm -fr PH_TESS_I_LightCurveViewer\n",
    "    !git clone https://github.com/orionlee/PH_TESS_I_LightCurveViewer.git\n",
    "    \n",
    "    # add the notebook directory so path so that the python files there can be imported\n",
    "    import sys\n",
    "    sys.path.append('./PH_TESS_I_LightCurveViewer')\n",
    "    print('Dependency setup for google colab completed.')"
   ]
  },
  {
   "cell_type": "code",
   "execution_count": 1,
   "metadata": {
    "scrolled": true
   },
   "outputs": [
    {
     "data": {
      "text/html": [
       "<style>.container { width:99% !important; }</style>"
      ],
      "text/plain": [
       "<IPython.core.display.HTML object>"
      ]
     },
     "metadata": {},
     "output_type": "display_data"
    }
   ],
   "source": [
    "import lightkurve as lk\n",
    "from lightkurve_ext import of_sector, of_sectors, of_2min_cadences\n",
    "import lightkurve_ext as lke\n",
    "import tic_plot as tplt\n",
    "from tic_plot import TransitTimeSpec, TransitTimeSpecList\n",
    "\n",
    "import asyncio_compat\n",
    "\n",
    "import math\n",
    "import warnings\n",
    "\n",
    "import numpy as np\n",
    "import matplotlib.pyplot as plt\n",
    "import matplotlib as matplotlib\n",
    "\n",
    "import pandas as pd\n",
    "import astropy as astropy\n",
    "from astropy import units as u\n",
    "from astropy.time import Time\n",
    "from astropy.io import fits\n",
    "\n",
    "from matplotlib.ticker import (FormatStrFormatter, AutoMinorLocator)\n",
    "\n",
    "from importlib import reload # useful during development to reload packages\n",
    "\n",
    "from IPython.core.display import display, HTML\n",
    "display(HTML(\"<style>.container { width:99% !important; }</style>\"))\n",
    "\n",
    "%matplotlib inline\n"
   ]
  },
  {
   "cell_type": "code",
   "execution_count": 3,
   "metadata": {},
   "outputs": [
    {
     "data": {
      "text/html": [
       "\n",
       "<script>\n",
       "function addSideNav() {\n",
       "    let ctr = document.getElementById('nav-ctr');\n",
       "    if (ctr) { ctr.remove(); }\n",
       "    const sections = [\n",
       "        ['#input-tic', 'Enter TIC...'],\n",
       "        ['#tic-metadata', ['TIC Metadata']],\n",
       "        ['#lc-all', 'Lightcurves - all'],\n",
       "        ['#lc-interactive', 'Interactive'],\n",
       "        ['#lc-zoomed-in', 'Zoomed-in'],\n",
       "        ['#centroid-offsets', 'Centroid Offsets'],\n",
       "        ['#lc-transits', 'Transit Times'],\n",
       "        ['#lc-background-sso', 'Bkg / SSO'],\n",
       "        ['#lc-fold', 'Folding'],\n",
       "        ['#lc-period', 'Period / BLS'],\n",
       "        ['#tpf_download', 'TPF Download'],\n",
       "        ['#tpf_zoom_in', 'TPF Zoom in'],\n",
       "    ];\n",
       "    // avoid and arrow functions and string with backslash n \n",
       "    // they cause parsing failure with jupyter's display(HTML())\n",
       "    function toASection(sec) {\n",
       "      return `              <li><a href=\"${sec[0]}\">${sec[1]}</a></li>`;\n",
       "    }\n",
       "    const sectionsHTML = \n",
       "        sections.map(toASection).join(`\n",
       "`);\n",
       "    document.body.insertAdjacentHTML('beforeend', `\n",
       "<div id=\"nav-ctr\">\n",
       "    <style>\n",
       "        #nav-side {\n",
       "            position: fixed; right: 2.5vh; top: 2.5em; z-index: 999;\n",
       "            background-color: #feefc3; border: 1px solid lightgray; border-radius: 10%;\n",
       "            padding: 0.25em 2ch 0.25em 0.5ch;        \n",
       "        }\n",
       "        #nav-side.expand {\n",
       "            padding: 0.25em 2ch;                \n",
       "        }\n",
       "        #nav-side-expand {\n",
       "            display: none;\n",
       "        }\n",
       "        .expand #nav-side-expand {\n",
       "            display: block;\n",
       "        }\n",
       "        #nav-side-ctl-hideshow:before {\n",
       "            content: \"<<\";\n",
       "        }\n",
       "        .expand #nav-side-ctl-hideshow:before {\n",
       "            content: \">>\";\n",
       "        }\n",
       "    </style>\n",
       "    <div id=\"nav-side\" class=\"expand\"\n",
       "         style=\"\">\n",
       "        <div id=\"nav-side-ctl-hideshow\" style=\"float: right; cursor: pointer;\" onclick=\"this.parentElement.classList.toggle('expand');\"></div>\n",
       "        <div id=\"nav-side-expand\">\n",
       "            EB Vetting\n",
       "            <ul>\n",
       "${sectionsHTML}\n",
       "            </ul>\n",
       "        <div id=\"nav-side-expand\">\n",
       "    </div>\n",
       "</div>\n",
       "\n",
       "`);\n",
       "}\n",
       "addSideNav();\n"
      ],
      "text/plain": [
       "<IPython.core.display.HTML object>"
      ]
     },
     "metadata": {},
     "output_type": "display_data"
    }
   ],
   "source": [
    "# a menu to jump to speicific section easily\n",
    "display(HTML(\"\"\"\n",
    "<script>\n",
    "function addSideNav() {\n",
    "    let ctr = document.getElementById('nav-ctr');\n",
    "    if (ctr) { ctr.remove(); }\n",
    "    const sections = [\n",
    "        ['#input-tic', 'Enter TIC...'],\n",
    "        ['#tic-metadata', ['TIC Metadata']],\n",
    "        ['#lc-all', 'Lightcurves - all'],\n",
    "        ['#lc-interactive', 'Interactive'],\n",
    "        ['#lc-zoomed-in', 'Zoomed-in'],\n",
    "        ['#centroid-offsets', 'Centroid Offsets'],\n",
    "        ['#lc-transits', 'Transit Times'],\n",
    "        ['#lc-background-sso', 'Bkg / SSO'],\n",
    "        ['#lc-fold', 'Folding'],\n",
    "        ['#lc-period', 'Period / BLS'],\n",
    "        ['#tpf_download', 'TPF Download'],\n",
    "        ['#tpf_zoom_in', 'TPF Zoom in'],\n",
    "    ];\n",
    "    // avoid and arrow functions and string with backslash n \n",
    "    // they cause parsing failure with jupyter's display(HTML())\n",
    "    function toASection(sec) {\n",
    "      return `              <li><a href=\"${sec[0]}\">${sec[1]}</a></li>`;\n",
    "    }\n",
    "    const sectionsHTML = \n",
    "        sections.map(toASection).join(`\n",
    "`);\n",
    "    document.body.insertAdjacentHTML('beforeend', `\n",
    "<div id=\"nav-ctr\">\n",
    "    <style>\n",
    "        #nav-side {\n",
    "            position: fixed; right: 2.5vh; top: 2.5em; z-index: 999;\n",
    "            background-color: #feefc3; border: 1px solid lightgray; border-radius: 10%;\n",
    "            padding: 0.25em 2ch 0.25em 0.5ch;        \n",
    "        }\n",
    "        #nav-side.expand {\n",
    "            padding: 0.25em 2ch;                \n",
    "        }\n",
    "        #nav-side-expand {\n",
    "            display: none;\n",
    "        }\n",
    "        .expand #nav-side-expand {\n",
    "            display: block;\n",
    "        }\n",
    "        #nav-side-ctl-hideshow:before {\n",
    "            content: \"<<\";\n",
    "        }\n",
    "        .expand #nav-side-ctl-hideshow:before {\n",
    "            content: \">>\";\n",
    "        }\n",
    "    </style>\n",
    "    <div id=\"nav-side\" class=\"expand\"\n",
    "         style=\"\">\n",
    "        <div id=\"nav-side-ctl-hideshow\" style=\"float: right; cursor: pointer;\" onclick=\"this.parentElement.classList.toggle('expand');\"></div>\n",
    "        <div id=\"nav-side-expand\">\n",
    "            EB Vetting\n",
    "            <ul>\n",
    "${sectionsHTML}\n",
    "            </ul>\n",
    "        <div id=\"nav-side-expand\">\n",
    "    </div>\n",
    "</div>\n",
    "\n",
    "`);\n",
    "}\n",
    "addSideNav();\n",
    "\"\"\"));\n"
   ]
  },
  {
   "cell_type": "markdown",
   "metadata": {},
   "source": [
    "## Enter TIC, sector, subject\n",
    "<a name=\"input-tic\">"
   ]
  },
  {
   "cell_type": "code",
   "execution_count": null,
   "metadata": {
    "scrolled": false,
    "tags": []
   },
   "outputs": [],
   "source": [
    "# Run All Above and this cell to start\n",
    "#\n",
    "# TIC   : Subject metadata\n",
    "# sector: the sector that the notebook would use by default as the focus,\n",
    "#         the lightcurves from all other sectors would be downloaded as well.\n",
    "# subject: Subject number on Planet Hunters TESS for the TIC-sector lightcurve\n",
    "\n",
    "tic, sector, subject = 233060434, 25, 48227121\n",
    "\n",
    "max_num_sectors_to_download = 3  #  None to download all sectors. Otherwise set it to a number to cap it, with the supplied sector as the centor of the slice to donwload\n",
    "to_download_tpf_async = True\n",
    "to_show_tic_meta = True\n",
    "\n",
    "\n",
    "def limit_sr_to_download(sr):\n",
    "    # use primary mission data only for this vetting\n",
    "    sr = lk.SearchResult(sr.table[sr.table[\"sequence_number\"] <= 26])\n",
    "    if max_num_sectors_to_download is None:\n",
    "            return sr\n",
    "    return lke.of_sector_n_around(sr, sector, num_additions=max_num_sectors_to_download-1)\n",
    "\n",
    "if hasattr(lk.search, \"sr_cache\"):\n",
    "    lk.search.sr_cache.cache_dir = 'data'\n",
    "    lk.search.sr_cache.expire_seconds = 86400 * 7\n",
    "\n",
    "try:    \n",
    "    lcf_coll, sr, sr_unfiltered = lke.download_lightcurves_of_tic_with_priority(tic, download_filter_func=limit_sr_to_download, download_dir=\"./data\")\n",
    "finally:\n",
    "    tplt.beep()  # a beep to remind the users that the data has been downloaded\n",
    "\n",
    "\n",
    "# Start downloading TPF asycnhronously while the user inspects the lightcurve\n",
    "# Users can jump to \"TPF Download\" section to access the result\n",
    "tpf_task = None\n",
    "if to_download_tpf_async:\n",
    "    tpf_task = lke.create_download_tpf_task(f\"TIC{tic}\", sector=sector, exptime=\"short\", author='SPOC', mission=\"TESS\", download_dir=\"data\")\n",
    "\n",
    "\n",
    "metadata_html_task = None  # load TCEs asycnhronously  while the user inspects the lightcurve\n",
    "if to_show_tic_meta:\n",
    "    metadata_html_task = asyncio_compat.create_background_task(tplt.get_tic_meta_in_html, of_sector(lcf_coll, sector), a_subject_id=subject, download_dir=\"data\")"
   ]
  },
  {
   "cell_type": "code",
   "execution_count": null,
   "metadata": {},
   "outputs": [],
   "source": [
    "# when needed, run this cell to download all sectors from primary mission, \n",
    "lcf_coll = lk.SearchResult(sr.table[sr.table[\"sequence_number\"] <= 26]).download_all(download_dir=\"data\")\n",
    "lcf_coll"
   ]
  },
  {
   "cell_type": "markdown",
   "metadata": {},
   "source": [
    "## TIC Metadata\n",
    "<a name=\"tic-metadata\">"
   ]
  },
  {
   "cell_type": "code",
   "execution_count": null,
   "metadata": {},
   "outputs": [],
   "source": [
    "# reload(tplt)\n",
    "# metadata_html_task = asyncio_compat.create_background_task(tplt.get_tic_meta_in_html, of_sector(lcf_coll, sector), a_subject_id=subject, download_dir=\"data\")\n",
    "display(HTML(await metadata_html_task))"
   ]
  },
  {
   "cell_type": "markdown",
   "metadata": {},
   "source": [
    "## Lightcurves - all sectors\n",
    "<a name=\"lc-all\">"
   ]
  },
  {
   "cell_type": "code",
   "execution_count": null,
   "metadata": {
    "scrolled": false,
    "tags": []
   },
   "outputs": [],
   "source": [
    "%matplotlib inline\n",
    "\n",
    "tplt.print_data_range(lcf_coll)\n",
    "\n",
    "figsize=(15,6)\n",
    "axs = tplt.plot_all(\n",
    "#                     of_sectors(lcf_coll, 1)   \n",
    "                    lke.of_sector_n_around(lcf_coll, sector, num_additions=8)\n",
    "#                     , flux_col = 'sap_flux'  \n",
    "                    , moving_avg_window='20min' # None # '30min'\n",
    "#                     , lc_tweak_fn=lambda lc: lc.remove_outliers(sigma=7) \n",
    "#                     , lc_tweak_fn=lambda lc: lc[:3000]\n",
    "              , ax_fn=lambda: plt.figure(figsize=figsize).gca()\n",
    "#                   , use_relative_time=True\n",
    "                    , mark_quality_issues=False\n",
    "#                     , mark_momentum_dumps=False\n",
    "#               , set_title=False\n",
    "              , ax_tweak_fn=lambda ax: [\n",
    "#                                             ax.set_ylim(97, 101.5),\n",
    "                                       ]\n",
    "             )\n",
    "\n",
    "# as a sanity check, in case PDCSAP_FLUX has some anomaly (e.g., remvoing a good dip)\n",
    "ax_flux_cmp = tplt.plot_flux_sap_flux_comparison(of_sector(lcf_coll, sector), ax=plt.figure(figsize=figsize).gca(),\n",
    "                                                 offset=None)\n",
    "\n",
    "# axs[-1].set_ylim(96, 104);\n",
    "# axs[0].set_xlim(1604.4, 1605.4)\n",
    "# axs[0].vlines(1604.9, 95.0, 98.0, color='r', linestyle='--', label=\"flare\")\n",
    "# axs[0].legend()"
   ]
  },
  {
   "cell_type": "code",
   "execution_count": null,
   "metadata": {},
   "outputs": [],
   "source": [
    "# Help to understand the quality issues marked by dotted red line in plot_all()\n",
    "for lcf in of_sectors(lcf_coll, sector):\n",
    "    qual_time, qual_flags = lke.list_times_w_quality_issues(lcf)  # check PDCSAP_FLUX\n",
    "    print(f\"Sector {lcf.meta['SECTOR']}: \", [(tplt.as_4decimal(t), lk.utils.TessQualityFlags.decode(f)) for t, f in zip(qual_time, qual_flags)])"
   ]
  },
  {
   "cell_type": "markdown",
   "metadata": {},
   "source": [
    "## Lightcurve - interactive\n",
    "<a name=\"lc-interactive\">"
   ]
  },
  {
   "cell_type": "code",
   "execution_count": null,
   "metadata": {
    "scrolled": false
   },
   "outputs": [],
   "source": [
    "%matplotlib inline\n",
    "\n",
    "# interactively view a lightcurve \n",
    "lcf = of_sector(lcf_coll, sector)\n",
    "\n",
    "sector = lcf.sector # override the sector in case I want to check some other ones\n",
    "\n",
    "\n",
    "#  From section 4.1.2 of the paper TOI catalog from TESS primary mission\n",
    "#  https://arxiv.org/pdf/2103.12538.pdf\n",
    "# less reliable when it is < 0.8\n",
    "if lcf.meta.get(\"CROWDSAP\") is not None:\n",
    "    display(HTML(f\"\"\"Fraction of flux in aperture attributed to the target: \n",
    "    <span style=\"background-color: {'red' if lcf.meta.get(\"CROWDSAP\") < 0.8 else 'transparent'}; padding: 2px;\">{lcf.meta.get(\"CROWDSAP\")}</span>\"\"\"));\n",
    "\n",
    "display(HTML(f\"TSTART: {lcf.meta.get('TSTART')}\"))  # To aid relative time conversion\n",
    "\n",
    "\n",
    "# make zoom in to a specific dip eaiser\n",
    "tplt.plot_transit_interactive(lcf, figsize=(30, 10)\n",
    "#                               ,flux_col='sap_flux'\n",
    "                             );"
   ]
  },
  {
   "cell_type": "markdown",
   "metadata": {},
   "source": [
    "## Lightcurve - zoomed in\n",
    "<a name=\"lc-zoomed-in\">"
   ]
  },
  {
   "cell_type": "code",
   "execution_count": null,
   "metadata": {
    "scrolled": false
   },
   "outputs": [],
   "source": [
    "# Plots, zoomed-in around selected dips / transits\n",
    "%matplotlib inline\n",
    "\n",
    "# (Also useful in many subsequent cells as the default zoom-in point)\n",
    "# transit_specs for calling plot_transits()\n",
    "transit_specs = TransitTimeSpecList(\n",
    "    dict(epoch=2010.4337,  duration_hr=3.9965, period=1.646121, label=\"TCE1\",\n",
    "         sector=sector, steps_to_show=[1, 3, 9], \n",
    "        ),\n",
    "    dict(epoch=2011.2578, duration_hr=4.4780, period=1.646121, label=\"TCE2\",\n",
    "         sector=sector, steps_to_show=[1, 3, 9],\n",
    "        ),\n",
    "    defaults=dict(surround_time=4.0)\n",
    "    )\n",
    "\n",
    "\n",
    "def custom_lc_tweak(lc):\n",
    "    res = lc\n",
    "    res = res.remove_outliers(sigma=7)\n",
    "    res = res.bin(time_bin_size=20 * u.min)\n",
    "    res.meta.update(lc.meta)  #compensate LCv2 bug in bin\n",
    "    return res\n",
    "\n",
    "figsize = (15, 5) # (12,6)  # (15, 9)  \n",
    "axs = tplt.plot_transits(    \n",
    "                         lcf_coll # [of_sectors(lcf_coll, 27)[1], of_sectors(lcf_coll, 28)[1]]\n",
    "                         , transit_specs\n",
    "#                          , flux_col = \"sap_flux\"\n",
    "                         , ax_fn=lambda: plt.figure(figsize=figsize).gca()    \n",
    "                         , t0mark_ymax=0.05\n",
    "#                          , lc_tweak_fn=lambda lc: lc.remove_outliers(sigma=7)\n",
    "#                          , lc_tweak_fn=custom_lc_tweak\n",
    "                         , moving_avg_window='20min' # None # '30min' # '10min' # None, '20min' #  '30min'\n",
    "#                          , set_title=False\n",
    "                        , ax_tweak_fn=lambda ax: [\n",
    "#                        , ax.axvline(2002.8274702863073, c='r', linestyle='--')\n",
    "                        ]\n",
    "                        )\n",
    "# axs[0].set_ylim(None, 100.15)\n",
    "print('Transits, zoomed-in');\n",
    "display(transit_specs.to_table());"
   ]
  },
  {
   "cell_type": "markdown",
   "metadata": {},
   "source": [
    "## Centroid offsets\n",
    "<a name=\"centroid-offsets\">"
   ]
  },
  {
   "cell_type": "code",
   "execution_count": null,
   "metadata": {},
   "outputs": [],
   "source": [
    "specs_idx, step_idx = 0, 0\n",
    "surround_time = 1.0\n",
    "\n",
    "t0 = transit_specs[specs_idx][\"epoch\"]\n",
    "period = transit_specs[specs_idx][\"period\"]\n",
    "steps_to_show = transit_specs[specs_idx][\"steps_to_show\"]\n",
    "t0 = t0 + period *  steps_to_show[step_idx]\n",
    "\n",
    "lc_trunc = of_sector(lcf_coll, transit_specs[specs_idx][\"sector\"]).truncate(t0 - surround_time /2, t0 + surround_time /2)\n",
    "lc_trunc.scatter();\n",
    "lc_trunc.scatter(column=\"centroid_col\", c=\"red\", label=f\"{lc_trunc.label} centroid column\");  # mom_centr1\n",
    "lc_trunc.scatter(column=\"centroid_row\", c=\"blue\", label=f\"{lc_trunc.label} centroid row\");  # mom_centr2\n"
   ]
  },
  {
   "cell_type": "code",
   "execution_count": null,
   "metadata": {},
   "outputs": [],
   "source": [
    "# highlight the middle of the dip (middle 70%) to see if the distribution of the centroid is different\n",
    "highlight_time_range = (transit_specs[0][\"epoch\"] - transit_specs[0][\"duration_hr\"] / 24 * 0.35, transit_specs[0][\"epoch\"] + transit_specs[0][\"duration_hr\"] / 24 * 0.35)\n",
    "tplt.scatter_centroids(lc_trunc, highlight_time_range=highlight_time_range);\n",
    "# tplt.animate_centroids(lc_trunc, num_obs_per_frame=15, accumulative=False);\n",
    "\"Centroid movement\";"
   ]
  },
  {
   "cell_type": "markdown",
   "metadata": {},
   "source": [
    "# Transit Times\n",
    "<a name=\"lc-transits\">"
   ]
  },
  {
   "cell_type": "code",
   "execution_count": null,
   "metadata": {
    "scrolled": false
   },
   "outputs": [],
   "source": [
    "# plot transit times for a list of sectors, not just one\n",
    "%matplotlib inline\n",
    "\n",
    "red_marks = dict(linestyle='--', color=\"red\")\n",
    "blue_marks = dict(linestyle='--', color=\"blue\")\n",
    "\n",
    "# customize these parameters if needed\n",
    "lcf_coll_to_use = lcf_coll\n",
    "# lcf_coll_to_use = of_sectors(lcf_coll, 30, 31, 32, 33, 34, 35, 36)\n",
    "# lcf_coll_to_use = lcf_coll[(lcf_coll.sector >= 1) & (lcf_coll.sector <= 13)]\n",
    "tt_specs = transit_specs\n",
    "axvline_kwargs_specs = [\n",
    "    red_marks,\n",
    "    blue_marks\n",
    "]\n",
    "skip_no_transit_plot = True\n",
    "\n",
    "# Now do the marking\n",
    "axs, tt_lists = [], []\n",
    "for lc_to_use in lcf_coll_to_use :\n",
    "    with warnings.catch_warnings():\n",
    "        # avoid warnings about repeated normalization\n",
    "        warnings.filterwarnings(\"ignore\", category=lk.LightkurveWarning, message=\".*in relative units.*\")\n",
    "#         lc_to_use = tplt._to_lc_with_flux(lc_to_use, \"sap_flux\")\n",
    "        lc_to_use = lc_to_use.normalize(unit=\"percent\")  # .remove_outliers(sigma=7)\n",
    "    ax = plt.figure(figsize=(25, 5)).gca()\n",
    "    ax1, tt_list = tplt.mark_transit_times(lc_to_use, tt_specs,\n",
    "                                           axvline_kwargs_specs=axvline_kwargs_specs,\n",
    "                                           ax=ax,\n",
    "                                           skip_no_transit_plot=skip_no_transit_plot,\n",
    "#                                            lc_plot_func_name=\"plot\",\n",
    "                                          )\n",
    "    if ax1 is not None:\n",
    "        axs.append(ax1), tt_lists.append(tt_list)\n",
    "    else:\n",
    "        plt.close(ax.figure)\n",
    "\n",
    "print(tt_specs);\n",
    "print(tt_lists);\n",
    "# axs[-1].set_ylim(None, 100.5)"
   ]
  },
  {
   "cell_type": "markdown",
   "metadata": {},
   "source": [
    "# Fold\n",
    "<a name=\"lc-fold\">"
   ]
  },
  {
   "cell_type": "code",
   "execution_count": null,
   "metadata": {
    "scrolled": false
   },
   "outputs": [],
   "source": [
    "# Fold lightcurves\n",
    "\n",
    "# optionally use only specific sectors\n",
    "# lc = of_sectors(lcf_coll, 8,9,10,11,12,13,27).stitch(corrector_func=tplt.normalize_percent)\n",
    "# lc = lcf_coll[lcf_coll.sector == sector].stitch(corrector_func=tplt.normalize_percent)\n",
    "# lc = of_sectors(lcf_coll, *sr[[sr.author == \"SPOC\"]].table[\"sequence_number\"]).stitch(corrector_func=tplt.normalize_percent)\n",
    "lc = lke.of_sector_n_around(lcf_coll, sector, num_additions=8).stitch(corrector_func=tplt.normalize_percent)\n",
    "# lc = lcf_coll[(lcf_coll.sector >= 27) & (lcf_coll.sector < 36)].stitch(corrector_func=tplt.normalize_percent)\n",
    "\n",
    "t0 = transit_specs[0][\"epoch\"]\n",
    "period = transit_specs[0][\"period\"]\n",
    "\n",
    "figsize = (12, 6)\n",
    "time_bin_size = 20 * u.minute\n",
    "\n",
    "# pre-rocess the specified the LC before folding\n",
    "\n",
    "lc = lc.remove_outliers(sigma=7)\n",
    "# lc[\"flux_mavg\"] = tplt.add_flux_moving_average(lc, \"60min\")[\"flux_mavg\"]\n",
    "\n",
    "lc_b = lc.bin(time_bin_size = time_bin_size)\n",
    "lc_b.meta.update(lc.meta)\n",
    "\n",
    "\n",
    "# ax1, lc_f1 = tplt.fold_and_plot_odd_even(lc_b, period, t0,\n",
    "#                                          figsize=figsize, title_extra=f\", binned with {time_bin_size}\");\n",
    "# ax1.set_ylim(0.975, 1.01);\n",
    "# ax1.set_xlim(-0.1, 0.1);\n",
    "\n",
    "ax2, lc_f2 = tplt.fold_2x_periods_and_plot(lc_b, period, t0,\n",
    "                                           figsize=figsize, title_extra=f\", binned with {time_bin_size}\");\n",
    "# ax2.set_title(ax2.get_title() + \"\\n more info\")\n",
    "# ax2.plot(lc_f2.time.value, lc_f2.flux_mavg, label=\"moving average 1 hour\", c=\"black\", linewidth=1);  # add moving average\n",
    "# ax2.legend();"
   ]
  },
  {
   "cell_type": "code",
   "execution_count": null,
   "metadata": {},
   "outputs": [],
   "source": [
    "# Detrend then fold\n",
    "\n",
    "window_length_days = 12 / 24\n",
    "lc_flattened = lc.flatten(window_length=lke.to_window_length_for_2min_cadence(window_length_days))\n",
    "\n",
    "# lc.scatter()\n",
    "ax = lc_flattened.scatter()  # ax=ax, c='b'\n",
    "ax.set_title(f'{lc.label}, flattened with a window {window_length_days} days')\n",
    "\n",
    "fold_and_plot(lc_flattened, ', flattened');\n",
    "\n",
    "fold_2periods_and_plot(lc_flattened, ', flattened');\n"
   ]
  },
  {
   "cell_type": "markdown",
   "metadata": {},
   "source": [
    "### Mask out eclipses\n",
    "to visualize the remaining fluctuations"
   ]
  },
  {
   "cell_type": "code",
   "execution_count": null,
   "metadata": {},
   "outputs": [],
   "source": [
    "t_mask = lc_b.create_transit_mask(transit_time=transit_specs.epoch, period=transit_specs.period, duration=transit_specs.duration)\n",
    "lc_masked = lc_b[~t_mask]\n",
    "\n",
    "with plt.style.context(lk.MPLSTYLE):\n",
    "    ax1 = plt.figure(figsize=(25, 5)).gca()    \n",
    "    ax1 = lc_masked.scatter(ax=ax1);\n",
    "#     lc_masked.fold(epoch_time=2026, period=3.2263899).scatter();"
   ]
  },
  {
   "cell_type": "markdown",
   "metadata": {},
   "source": [
    "# Period / BLS\n",
    "<a name=\"lc-period\">"
   ]
  },
  {
   "cell_type": "code",
   "execution_count": null,
   "metadata": {
    "scrolled": false
   },
   "outputs": [],
   "source": [
    "# run BLS against all / subset of data \n",
    "\n",
    "# lc = of_sectors(lcf_coll).PDCSAP_FLUX.stitch()\n",
    "# lc = lcf_coll[0].PDCSAP_FLUX\n",
    "lc = of_sector(lcf_coll, sector)\n",
    "lc = lc.normalize()\n",
    "\n",
    "print('Num of observations:', len(lc))\n",
    "print('Observation elapsed time:', lc.time.max()  - lc.time.min())\n",
    "\n",
    "# use the interactive transit period detection\n",
    "#   caveat: un-sure if combining observations over time make sense for the algorithm\n",
    "lc.interact_bls()\n",
    "\n",
    "# if False: \n",
    "if False: \n",
    "    x_min = 1\n",
    "    x_max = 20\n",
    "    # Box Least Square assumes U-shaped transit model (rapid dips)\n",
    "    pdg_bls = lc.remove_nans().to_periodogram(method='bls')\n",
    "    print('BLS')\n",
    "    pdg_bls.show_properties()\n",
    "    ax = pdg_bls.plot()\n",
    "    ax.set_title('BLS Periodogram, in period')\n",
    "    ax.set_xlim(x_min, x_max)\n",
    "\n",
    "    # Lomb Scargle better for general vairable curves with sin-like shape (gradual flucutation)\n",
    "    pdg_ls = lc.remove_nans().to_periodogram(method='lombscargle')\n",
    "    print('Lomb Scargle')\n",
    "    pdg_ls.show_properties()\n",
    "    ax = pdg_ls.plot(view='period')\n",
    "    ax.set_title('Lomb Scargle Periodogram, in period')    \n",
    "    ax.set_xlim(x_min, x_max)\n",
    "    \n",
    "    "
   ]
  },
  {
   "cell_type": "markdown",
   "metadata": {},
   "source": [
    "# Lightcurve - background / SSO\n",
    "<a name=\"lc-background-sso\">\n",
    "\n",
    "    "
   ]
  },
  {
   "cell_type": "code",
   "execution_count": null,
   "metadata": {},
   "outputs": [],
   "source": [
    "# reload(lke)\n",
    "\n",
    "# lcf = lcf_coll[-1]\n",
    "lc = of_sector(lcf_coll, sector)\n",
    "lc = lc.normalize(unit='percent')\n",
    "\n",
    "specs_idx, step_idx = 0, 0\n",
    "\n",
    "# Check the background flux for the duration in question\n",
    "t0 = transit_specs[specs_idx][\"epoch\"]\n",
    "period = transit_specs[specs_idx][\"period\"]\n",
    "search_period = transit_specs[specs_idx][\"duration_hr\"] * 1.3 / 24\n",
    "plot_period = search_period * 1.5 \n",
    "\n",
    "steps_to_show = transit_specs[specs_idx][\"steps_to_show\"]\n",
    "t0 = t0 + period *  steps_to_show[step_idx]\n",
    "\n",
    "search_start, search_end = t0 - search_period /2, t0 + search_period /2\n",
    "plot_start, plot_end = t0 - plot_period /2, t0 + plot_period /2\n",
    "\n",
    "plot_binned = False\n",
    "plot_sap_flux = False\n",
    "\n",
    "fig, axs = plt.subplots(3 if plot_binned else 2, 1, sharex=True, figsize=(12, 10.5 if plot_binned else 7))\n",
    "fig.subplots_adjust(hspace=0)\n",
    "\n",
    "time_mask = (lc.time.value >= plot_start) & (lc.time.value <= plot_end)\n",
    "if plot_binned:\n",
    "    lc_b = lc.bin(time_bin_size = 20 * u.minute)  # bin it to speed up SSO search\n",
    "    if len(lc_b.meta) < 1: # to compensate lkv2 bugs in .bin() ; needed for query SSO\n",
    "        lc_b.meta.update(lc.meta)  \n",
    "    lc_b[(lc_b.time.value >= plot_start) & (lc_b.time.value <= plot_end)].scatter(ax=axs[0], label=lc.label + ' binned')\n",
    "\n",
    "if plot_sap_flux:\n",
    "    lc_sap[time_mask].scatter(column='sap_flux', ax=axs[-2], c='orange', label=lc.label + 'SAP')\n",
    "else:\n",
    "    lc[time_mask].scatter(ax=axs[-2], label=lc.label + ' PDCSAP')\n",
    "    \n",
    "lc_bkg = lke.get_bkg_lightcurve(lc)\n",
    "lc_bkg[time_mask].scatter(ax=axs[-1], color='gray')\n",
    "\n",
    "if True and search_start is not None:\n",
    "    for ax in axs:\n",
    "        ax.axvline(search_start, linestyle='--', c='r')\n",
    "        ax.axvline(search_end, linestyle='--', c='r')\n",
    "\n",
    "print('t0=', t0);"
   ]
  },
  {
   "cell_type": "code",
   "execution_count": null,
   "metadata": {
    "scrolled": true
   },
   "outputs": [],
   "source": [
    "lc_to_search = lc_b # use the binned one to speed up search\n",
    "radius_in_arcsec = 168 # 315 # 168 ~= 8 pixels, should cover the range of entire Target Pixel file (11x11 pixels, with the target at center)\n",
    "cadence_mask = (lc_to_search .time.value >= search_start) & (lc_to_search .time.value <= search_end)\n",
    "# t_epoch = 2016.1330800000578\n",
    "# duration_hr = 21.3918\n",
    "# surround_time = 1\n",
    "# duration = duration_hr / 24\n",
    "# t0 = t_epoch\n",
    "# df_sso = lc_to_search.query_solar_system_objects(cadence_mask=(lc.time >= t0 - (duration + surround_time)/2) & (lc.time <= t0 + (duration + surround_time)/2))\n",
    "\n",
    "try:\n",
    "    df_sso = lc_to_search.query_solar_system_objects(cadence_mask=cadence_mask, radius=radius_in_arcsec/60/60)\n",
    "    df_sso['epoch_btjd'] = df_sso['epoch'] - 2457000\n",
    "    df_sso['epoch_relative'] = df_sso['epoch_btjd'] - lc_to_search.meta.get('TSTART')\n",
    "    display(df_sso)\n",
    "finally: \n",
    "    tplt.beep();\n"
   ]
  },
  {
   "cell_type": "markdown",
   "metadata": {},
   "source": [
    "# TPF Download\n",
    "<a name=\"tpf_download\">"
   ]
  },
  {
   "cell_type": "code",
   "execution_count": null,
   "metadata": {},
   "outputs": [],
   "source": [
    "# Google colab user: this cell will fail with SyntaxError in await\n",
    "# use the next cell instead.\n",
    "\n",
    "global tpf_task  # need to define it as global, otherwise UnboundLocalError would occur\n",
    "if tpf_task is None:\n",
    "    tpf_task = lke.create_download_tpf_task(f\"TIC{tic}\", sector=sector, exptime=\"short\", author='SPOC', mission=\"TESS\", download_dir=\"data\")\n",
    "# else the download has been previoulsy initiated (in \"Enter TIC\" section, no need to do it),\n",
    "#      no need to do it again\n",
    "\n",
    "try:\n",
    "    tpf_coll, sr_tpf = await tpf_task\n",
    "    display(sr_tpf)\n",
    "    \n",
    "    if tpf_coll is not None and len(tpf_coll) > 0: \n",
    "        tpf =  tpf_coll[0]\n",
    "\n",
    "        print(tpf, \" , sector\", tpf.sector)\n",
    "        print(\"     time:\", tpf.time.min() , \"-\", tpf.time.max())\n",
    "        print(\"cadenceno:\", tpf.cadenceno.min() , \"-\", tpf.cadenceno.max())\n",
    "\n",
    "        lc = tpf.to_lightcurve().remove_outliers(sigma=7)\n",
    "        ax = lc.scatter();\n",
    "#         ax.set_ylim(3800, None)\n",
    "finally: \n",
    "    tplt.beep()\n",
    "    tpf_task = None  # once task result is conusmed, reset it so that one can run it again in the next run"
   ]
  },
  {
   "cell_type": "code",
   "execution_count": null,
   "metadata": {},
   "outputs": [],
   "source": [
    "# For use in google colab, where await syntax is not supported (in the older IPython)\n",
    "if tpf_task.done():\n",
    "    tpf_coll, sr_tpf = tpf_task.result()\n",
    "    display(sr_tpf)\n",
    "    tpf =  tpf_coll[0]\n",
    "\n",
    "    print(tpf, \" , sector\", tpf.sector)\n",
    "    lc = tpf.to_lightcurve().remove_outliers(sigma=7)\n",
    "    ax = lc.scatter();\n",
    "else:\n",
    "    print(\"Background downloading TPF is not complete yet. Try again later.\")\n"
   ]
  },
  {
   "cell_type": "markdown",
   "metadata": {},
   "source": [
    "# TPF Zoom in\n",
    "<a name=\"tpf_zoom_in\">"
   ]
  },
  {
   "cell_type": "code",
   "execution_count": null,
   "metadata": {},
   "outputs": [],
   "source": [
    "ylim_func = lambda lc: (np.nanmin(lc.flux), np.nanmax(lc.flux))\n",
    "# ylim_func = lambda lc: (np.nanpercentile(lc.flux, 0.1), np.nanpercentile(lc.flux, 99.9))\n",
    "\n",
    "specs_idx, step_idx = 0, 0\n",
    "t0 = transit_specs[specs_idx][\"epoch\"]\n",
    "duration = transit_specs[specs_idx][\"duration_hr\"] / 24\n",
    "period = transit_specs[specs_idx][\"period\"]\n",
    "steps_to_show = transit_specs[specs_idx][\"steps_to_show\"]\n",
    "t0 = t0 + period *  steps_to_show[step_idx]\n",
    "surround_time = 0.50\n",
    "\n",
    "plot_start, plot_end = t0 - duration / 2 - surround_time / 2,  t0 + duration /2 + surround_time / 2\n",
    "\n",
    "\n",
    "print('t0 =', t0);\n",
    "\n",
    "# zommed in to the time around the dip \n",
    "tpf_trunc = tpf[(tpf.time.value >= plot_start) & (tpf.time.value <= plot_end)]  # for Lightkurve 2 API\n",
    "\n",
    "# zoom to arbitrary date range\n",
    "# tpf_trunc = tpf[(tpf.time >= tpf.time.min() + 3) & (tpf.time <= tpf.time.min() + 12)]\n",
    "\n",
    "if len(tpf_trunc) < 1:\n",
    "    display(HTML(\"\"\"<font style=\"background-color: red;\">WARNGING:</font> the truncated TPF is zero length. Sunsequent operations would fail.\"\"\"))\n",
    "\n",
    "\n",
    "if (tpf_trunc.time.max() - tpf_trunc.time.min()) > 3 * u.day:\n",
    "    display(HTML(('<span style=\"background-color: yellow\">Note:</span> The TPF spans over a long time. Consider to zoom in. Duration: '\n",
    "                  f'{(tpf_trunc.time.max() -tpf_trunc.time.min()).to(u.day)}')))\n",
    "\n",
    "if 'google.colab' in str(get_ipython()):\n",
    "    tpf_trunc.to_lightcurve().scatter();\n",
    "else: \n",
    "    tpf_trunc.interact(ylim_func=ylim_func\n",
    "#                        , aperture_mask=tpf.background_mask\n",
    "                       , transform_func=tplt.normalize_percent\n",
    "                      );"
   ]
  },
  {
   "cell_type": "code",
   "execution_count": null,
   "metadata": {},
   "outputs": [],
   "source": [
    "tpf_mag = tpf_trunc.meta.get(\"TESSMAG\")\n",
    "print('Target magnitude: ', tpf_mag)\n",
    "magnitude_limit = tpf_mag + 8 if tpf_mag is not None else 18\n",
    "\n",
    "tplt.show_tpf_orientation(tpf)\n",
    "tplt.interact_sky(tpf_trunc, aperture_mask=\"pipeline\", magnitude_limit = magnitude_limit);\n",
    "tplt.show_nearby_tic_summary_form();"
   ]
  },
  {
   "cell_type": "code",
   "execution_count": null,
   "metadata": {},
   "outputs": [],
   "source": [
    "pixel_size_inches = 1.0\n",
    "fig = plt.figure(figsize=(tpf.flux[0].shape[1] * pixel_size_inches, tpf.flux[0].shape[0] * pixel_size_inches))\n",
    "ax = tpf_trunc.plot_pixels(ax=fig.gca(), aperture_mask=tpf_trunc.pipeline_mask, show_flux=True, markersize=1.5);\n",
    "tplt.beep();"
   ]
  },
  {
   "cell_type": "code",
   "execution_count": null,
   "metadata": {},
   "outputs": [],
   "source": [
    "ax = tpf_trunc.plot(aperture_mask='pipeline', mask_color='red');\n",
    "ax = tpf_trunc.plot(ax=ax, aperture_mask=tpf_trunc.background_mask, mask_color='lightgray');"
   ]
  },
  {
   "cell_type": "code",
   "execution_count": null,
   "metadata": {},
   "outputs": [],
   "source": [
    "tpf_trunc.animate(aperture_mask='pipeline', mask_color='red')  # , scale=\"log\", scale=\"sqrt\" "
   ]
  }
 ],
 "metadata": {
  "kernelspec": {
   "display_name": "Python 3",
   "language": "python",
   "name": "python3"
  },
  "language_info": {
   "codemirror_mode": {
    "name": "ipython",
    "version": 3
   },
   "file_extension": ".py",
   "mimetype": "text/x-python",
   "name": "python",
   "nbconvert_exporter": "python",
   "pygments_lexer": "ipython3",
   "version": "3.7.10"
  }
 },
 "nbformat": 4,
 "nbformat_minor": 2
}
