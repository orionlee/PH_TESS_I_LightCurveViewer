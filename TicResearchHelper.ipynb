{
 "cells": [
  {
   "cell_type": "code",
   "execution_count": 1,
   "metadata": {},
   "outputs": [],
   "source": [
    "import urllib\n",
    "import json\n",
    "import re\n",
    "from ipywidgets import interact, interactive\n",
    "import ipywidgets as widgets\n",
    "from IPython.core.display import display, HTML"
   ]
  },
  {
   "cell_type": "code",
   "execution_count": 2,
   "metadata": {},
   "outputs": [],
   "source": [
    "def getExoMastTCEsForTIC(tessId):\n",
    "    url = f'https://exo.mast.stsci.edu/api/v0.1/dvdata/tess/{tessId}/tces/'\n",
    "    response = urllib.request.urlopen(url)\n",
    "    data = response.read()      # a `bytes` object\n",
    "    text = data.decode('utf-8') # a `str`; this step can't be used if data is binary\n",
    "    respObj = json.loads(text)\n",
    "    return respObj['TCE']\n",
    "\n",
    "def getExoMastUrlsForTIC(tessId):\n",
    "    tces = getExoMastTCEsForTIC(tessId)\n",
    "    tces.sort()\n",
    "    urlPrefix = 'https://exo.mast.stsci.edu/exomast_planet.html'\n",
    "    return list(map(lambda x: (x, f\"{urlPrefix}?planet=TIC{tessId}\" + re.sub(r\"[-:_]\", \"\", x.upper()))\n",
    "                    , tces))\n",
    "\n",
    "def showExoMastUrlsForTIC(tessId):\n",
    "    res = getExoMastUrlsForTIC(tessId)\n",
    "    \n",
    "    display(HTML(f'<h3>TCEs for {tessId}</h3>'))\n",
    "    \n",
    "    if len(res) < 1:\n",
    "        display(HTML('&nbsp;&nbsp; none found.'))\n",
    "        return 0\n",
    "    # normal case\n",
    "    out = '<ul>'\n",
    "    for aRes in res:\n",
    "        out += f'\\n  <li><a href=\"{aRes[1]}\" target=\"_exomast\">{aRes[0]}</a>'\n",
    "    out += '\\n</ul>'\n",
    "    display(HTML(out))    \n",
    "    display(HTML('<p><em>Tips:</em> On ExoMAST, <code>Related Links > Vetting Summary Page</code> (pdf) is a useful summary.</p>'))\n",
    "    return len(res)\n",
    "\n",
    "def showExoFOPUrlsForTIC(tessId):\n",
    "    out = f'''<hr>\n",
    "    <div>\n",
    "      <p><a href=\"https://exofop.ipac.caltech.edu/tess/target.php?id={tessId}\" target=\"_exofop\">Status on ExoFOP</a> - if there are follow-ups of the target</p>\n",
    "      <br><em>Tips:</em>Check the follow up status to see if the target has potential exoplanets:\n",
    "      <ul>\n",
    "        <li>TESS Disposition ,\n",
    "        <li>TFOPWG Disposition\n",
    "      </ul>\n",
    "      Example: \n",
    "      <ul>\n",
    "        <li>TESS = <code>PC</code>: Planet Candidate \n",
    "        <li>TFOPWG = <code>CP</code>: Confirmed Planet\n",
    "      </ul>\n",
    "    </div>'''\n",
    "    display(HTML(out))\n",
    "    return\n",
    "\n",
    "def showLinksForMoreInfo(tic):\n",
    "    tic = re.sub(r'^tic\\s*', '', tic, flags=re.IGNORECASE)\n",
    "    display('')\n",
    "    showExoMastUrlsForTIC(tic)\n",
    "    showExoFOPUrlsForTIC(tic)\n",
    "    display(HTML('<hr>More tips on <a href=\"https://www.zooniverse.org/projects/nora-dot-eisner/planet-hunters-tess/talk/2108/812359\" target=\"_talk\">Planet Hunters TESS Talk</a>'))\n",
    "    return\n",
    "\n"
   ]
  },
  {
   "cell_type": "code",
   "execution_count": 3,
   "metadata": {},
   "outputs": [
    {
     "data": {
      "application/vnd.jupyter.widget-view+json": {
       "model_id": "2743ec4f5179454ebbabaf98f9b826cc",
       "version_major": 2,
       "version_minor": 0
      },
      "text/plain": [
       "interactive(children=(Text(value='388104525', description='TIC id'), Output()), _dom_classes=('widget-interact…"
      ]
     },
     "metadata": {},
     "output_type": "display_data"
    }
   ],
   "source": [
    "# shwo a widget to let user enters an ID\n",
    "interactive(showLinksForMoreInfo, tic = widgets.Text(description=\"TIC id\", value =\"388104525\"))\n"
   ]
  }
 ],
 "metadata": {
  "kernelspec": {
   "display_name": "Python 3",
   "language": "python",
   "name": "python3"
  },
  "language_info": {
   "codemirror_mode": {
    "name": "ipython",
    "version": 3
   },
   "file_extension": ".py",
   "mimetype": "text/x-python",
   "name": "python",
   "nbconvert_exporter": "python",
   "pygments_lexer": "ipython3",
   "version": "3.7.3"
  }
 },
 "nbformat": 4,
 "nbformat_minor": 2
}
