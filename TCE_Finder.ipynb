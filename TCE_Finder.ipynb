{
 "cells": [
  {
   "cell_type": "markdown",
   "id": "8884dcd6",
   "metadata": {},
   "source": [
    "# TESS TCE Finder"
   ]
  },
  {
   "cell_type": "code",
   "execution_count": 1,
   "id": "e9128700",
   "metadata": {},
   "outputs": [],
   "source": [
    "if 'google.colab' in str(get_ipython()):\n",
    "    !pip install astroquery"
   ]
  },
  {
   "cell_type": "code",
   "execution_count": 2,
   "id": "38c3cf6d",
   "metadata": {},
   "outputs": [],
   "source": [
    "from functools import lru_cache\n",
    "import re\n",
    "import warnings\n",
    "\n",
    "import numpy as np\n",
    "\n",
    "from astropy.table import Table\n",
    "\n",
    "from astroquery.exceptions import NoResultsWarning\n",
    "from astroquery.mast import Observations\n",
    "\n",
    "from ipywidgets import interact, interactive\n",
    "import ipywidgets as widgets\n",
    "from IPython.core.display import display, HTML"
   ]
  },
  {
   "cell_type": "code",
   "execution_count": 3,
   "id": "f2510589",
   "metadata": {},
   "outputs": [],
   "source": [
    "def parse_dvs_filename(filename):\n",
    "    # e.g.: tess2020267090513-s0030-s0030-0000000142087638-01-00394_dvs.pdf\n",
    "    match = re.match(r\"^tess\\d+-(s\\d+-s\\d+)-(\\d+)-(\\d+)-.+_dvs[.]pdf\", filename)\n",
    "    if not match:\n",
    "        return {}\n",
    "    sector_range, tic_id_padded, tce_num_padded = (\n",
    "        match.group(1),\n",
    "        match.group(2),\n",
    "        match.group(3),\n",
    "    )\n",
    "    tic_id = re.sub(r\"^0+\", \"\", tic_id_padded)\n",
    "    tce_num = re.sub(r\"^0+\", \"\", tce_num_padded)\n",
    "    # sufficient to identify one for a given TIC, less visually busy\n",
    "    tce_id_short = f\"{sector_range}:TCE{tce_num}\"\n",
    "\n",
    "    # tce_id is the format used on ExoMAT, e.g,  TIC142087638S0030S0030TCE1\n",
    "    tce_id = f\"\"\"TIC{tic_id}{re.sub(\"-\", \"\", sector_range.upper())}TCE{tce_num}\"\"\"\n",
    "\n",
    "    return dict(\n",
    "        tce_id=tce_id,\n",
    "        tce_id_short=tce_id_short,\n",
    "        sector_range=sector_range,\n",
    "        tic_id=tic_id,\n",
    "        tce_num=tce_num,\n",
    "    )\n",
    "\n",
    "\n",
    "def parse_dvr_filename(filename):\n",
    "    match = re.match(r\"^tess\\d+-(s\\d+-s\\d+)-(\\d+)-.+_dvr[.](pdf|xml)\", filename)\n",
    "    if not match:\n",
    "        return {}\n",
    "    sector_range, tic_id_padded, file_type = (\n",
    "        match.group(1),\n",
    "        match.group(2),\n",
    "        match.group(3),\n",
    "    )\n",
    "    tic_id = re.sub(r\"^0+\", \"\", tic_id_padded)\n",
    "\n",
    "    return dict(sector_range=sector_range, tic_id=tic_id, file_type=file_type)\n",
    "\n",
    "\n",
    "\n",
    "def get_dv_products_of_tic(tic_id, productSubGroupDescription, download_dir=None):\n",
    "    # Based on:\n",
    "    # - https://outerspace.stsci.edu/display/TESS/7.0+-+Tips+and+Tricks+to+Getting+TESS+Data+At+MAST\n",
    "    # https://github.com/spacetelescope/notebooks/blob/master/notebooks/MAST/TESS/beginner_astroquery_dv/beginner_astroquery_dv.ipynb\n",
    "\n",
    "    # Note: for TESS, tic_id (the number without TIC) is what an exact match works\n",
    "    # Kepler / K2 ids will need some additional processing for exact match to work.\n",
    "    exact_target_name = tic_id\n",
    "    with warnings.catch_warnings():\n",
    "        warnings.filterwarnings(\"ignore\", category=NoResultsWarning)\n",
    "        obs_wanted = Observations.query_criteria(\n",
    "            target_name=exact_target_name,\n",
    "            dataproduct_type=\"timeseries\",\n",
    "            obs_collection=\"TESS\",\n",
    "        )\n",
    "        data_products = Observations.get_product_list(obs_wanted)\n",
    "        return Observations.filter_products(data_products, productSubGroupDescription=productSubGroupDescription)\n",
    "\n",
    "\n",
    "\n",
    "@lru_cache(maxsize=100)\n",
    "def get_tce_infos_of_tic(tic_id):\n",
    "    def filter_by_dataURI_suffix(products, suffix):\n",
    "        # Helper to filter products into summary, full report, full report xml using suffix.\n",
    "        # It replaces the logic to filter by \"description\" column, as description is sometimes unreliable\n",
    "        # E.g., for the TCE for TIC 43843023 sector 5, the dvr xml has incorrect description\n",
    "        # so that the entry is treated as a dvr pdf\n",
    "        return products[np.char.endswith(products[\"dataURI\"], suffix)]\n",
    "\n",
    "    products_wanted = get_dv_products_of_tic(tic_id, [\"DVS\", \"DVR\"])\n",
    "\n",
    "    res = []\n",
    "    # basic info\n",
    "    for p in filter_by_dataURI_suffix(products_wanted, \"_dvs.pdf\"):\n",
    "        tce_info = parse_dvs_filename(p[\"productFilename\"])\n",
    "        entry = dict(\n",
    "            obsID=p[\"obsID\"],\n",
    "            tic_id=tce_info.get(\"tic_id\"),\n",
    "            sector_range=tce_info.get(\"sector_range\"),\n",
    "            tce_num=tce_info.get(\"tce_num\"),\n",
    "            tce_id=tce_info.get(\"tce_id\"),\n",
    "            tce_id_short=tce_info.get(\"tce_id_short\"),\n",
    "            dvs_dataURI=p[\"dataURI\"],\n",
    "        )\n",
    "        res.append(entry)\n",
    "\n",
    "    # DVR pdf link\n",
    "    for p in filter_by_dataURI_suffix(products_wanted, \"_dvr.pdf\"):\n",
    "        # find TCEs for the same observation (sometimes there are multiple TCEs for the same observation)\n",
    "        for entry in [e for e in res if e[\"obsID\"] == p[\"obsID\"]]:\n",
    "            entry[\"dvr_dataURI\"] = p[\"dataURI\"]\n",
    "    \n",
    "    return res\n",
    "\n",
    "def to_html(tce_info_list):\n",
    "    if len(tce_info_list) < 1:\n",
    "        return \"No TCE found\"\n",
    "\n",
    "    def link(link_text, url):\n",
    "        return f\"\"\"<a href=\"{url}\" target=\"_blank\">{link_text}</a>\"\"\"\n",
    "\n",
    "    def row(*args):\n",
    "        return \"<tr>\" + \"\".join(f\"<td>{v}</td>\" for v in args) + \"</tr>\"\n",
    "\n",
    "    html = \"\"\n",
    "    header = [\n",
    "        (\"TCE\", \"\"),\n",
    "        (\"summary pdf\", \"\"),\n",
    "        (\"full pdf\", \"\"),\n",
    "    ]\n",
    "    html += \"\"\"<table>\n",
    "<thead>\"\"\"\n",
    "    html += \"<tr>\"\n",
    "    html += \" \".join([f\"<th>{h[0]}</th>\" for h in header])\n",
    "    html += \"</tr>\\n\"\n",
    "    html += \"\"\"\n",
    "</thead>\n",
    "<tbody>\n",
    "\"\"\"\n",
    "    for info in tce_info_list:\n",
    "        exomast_url = f'https://exo.mast.stsci.edu/exomast_planet.html?planet={info.get(\"tce_id\")}'\n",
    "        dvs_url = f'https://exo.mast.stsci.edu/api/v0.1/Download/file?uri={info.get(\"dvs_dataURI\")}'\n",
    "        dvr_url = f'https://exo.mast.stsci.edu/api/v0.1/Download/file?uri={info.get(\"dvr_dataURI\")}'\n",
    "        html += row(\n",
    "            link(info.get(\"tce_id_short\"), exomast_url),\n",
    "            link(\"dvs\", dvs_url),\n",
    "            link(\"full\", dvr_url)\n",
    "        )\n",
    "    html += \"\"\"\n",
    "</tbody>\n",
    "</table>\n",
    "<br>\n",
    "<p>Note: The TCE links might not work, if the given TCE is not yet available on exo.mast. The pdf report links should always work.</p>\n",
    "\"\"\"\n",
    "    return html\n",
    "\n",
    "def show_tce_infos_of_tic(tic):\n",
    "    if tic == \"\":\n",
    "        return \"\"    \n",
    "    return display(HTML(to_html(get_tce_infos_of_tic(tic))))\n"
   ]
  },
  {
   "cell_type": "code",
   "execution_count": 4,
   "id": "232eaa04",
   "metadata": {},
   "outputs": [
    {
     "data": {
      "text/html": [
       "\n",
       "<h2 id=\"tce_lookup_header\">Enter TIC to lookup its TCEs</h2>\n",
       "<script>document.getElementById('tce_lookup_header').scrollIntoView();</script>\n"
      ],
      "text/plain": [
       "<IPython.core.display.HTML object>"
      ]
     },
     "metadata": {},
     "output_type": "display_data"
    },
    {
     "data": {
      "application/vnd.jupyter.widget-view+json": {
       "model_id": "dbef7c769d3840ab8542ac07a71c9653",
       "version_major": 2,
       "version_minor": 0
      },
      "text/plain": [
       "interactive(children=(Text(value='', description='TIC id'), Output()), _dom_classes=('widget-interact',))"
      ]
     },
     "metadata": {},
     "output_type": "display_data"
    }
   ],
   "source": [
    "display(HTML(\"\"\"\n",
    "<h2 id=\"tce_lookup_header\">Enter TIC to lookup its TCEs</h2>\n",
    "<script>document.getElementById('tce_lookup_header').scrollIntoView();</script>\n",
    "\"\"\"))\n",
    "interactive(show_tce_infos_of_tic, tic = widgets.Text(description=\"TIC id\", value =\"\"))"
   ]
  },
  {
   "attachments": {
    "image.png": {
     "image/png": "[encoded data removed]"
    }
   },
   "cell_type": "markdown",
   "id": "ae0f9e16",
   "metadata": {},
   "source": [
    "### Notes\n",
    "\n",
    "- alternative to https://exo.mast.stsci.edu/ \n",
    "- useful when the TCES are available in MAST databases, but not yet on exo.mast\n",
    "- Data availability can be found at: https://outerspace.stsci.edu/display/TESS/TESS+Holdings+Available+by+MAST+Service\n",
    "   - For a given sector, if the box for `TP/LC/DV` in Portal/Astroquery row is checked, then the TCEs can be found using this tool.\n",
    "   \n",
    "![image.png](attachment:image.png)\n"
   ]
  }
 ],
 "metadata": {
  "kernelspec": {
   "display_name": "Python 3",
   "language": "python",
   "name": "python3"
  },
  "language_info": {
   "codemirror_mode": {
    "name": "ipython",
    "version": 3
   },
   "file_extension": ".py",
   "mimetype": "text/x-python",
   "name": "python",
   "nbconvert_exporter": "python",
   "pygments_lexer": "ipython3",
   "version": "3.7.10"
  }
 },
 "nbformat": 4,
 "nbformat_minor": 5
}
