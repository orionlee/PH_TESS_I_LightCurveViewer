{
 "cells": [
  {
   "cell_type": "code",
   "execution_count": 3,
   "metadata": {},
   "outputs": [],
   "source": [
    "%matplotlib inline\n",
    "import numpy as np\n",
    "import matplotlib.pyplot as plt\n",
    "\n",
    "import pandas as pd\n",
    "from astropy.io import fits"
   ]
  },
  {
   "cell_type": "code",
   "execution_count": 4,
   "metadata": {},
   "outputs": [
    {
     "name": "stdout",
     "output_type": "stream",
     "text": [
      "Filename: data/tess2019169103026-s0013-0000000055525572-0146-s_tp.fits\n",
      "No.    Name      Ver    Type      Cards   Dimensions   Format\n",
      "  0  PRIMARY       1 PrimaryHDU      44   ()      \n",
      "  1  PIXELS        1 BinTableHDU    248   20479R x 11C   [D, E, J, 121J, 121E, 121E, 121E, 121E, J, E, E]   \n",
      "  2  APERTURE      1 ImageHDU        49   (11, 11)   int32   \n",
      "  3  TARGET COSMIC RAY    1 BinTableHDU     27   0R x 4C   [J, I, I, E]   \n"
     ]
    }
   ],
   "source": [
    "# data from TIC 55525572 : 1st validated planet from Planet Hunters TESS\n",
    "# Data format - see:\n",
    "#  https://exoplanetarchive.ipac.caltech.edu/docs/DVTimeSeries-Description.pdf\n",
    "imfile = 'data/tess2019169103026-s0013-0000000055525572-0146-s_tp.fits'\n",
    "hdulist = fits.open(imfile)\n",
    "\n",
    "hdulist.info()"
   ]
  },
  {
   "cell_type": "code",
   "execution_count": 5,
   "metadata": {},
   "outputs": [],
   "source": [
    "hdu0 = hdulist[0]\n",
    "hdu1 = hdulist[1]\n",
    "hdu2 = hdulist[2]\n",
    "hdu3 = hdulist[3]\n",
    "\n"
   ]
  },
  {
   "cell_type": "code",
   "execution_count": 6,
   "metadata": {
    "scrolled": true
   },
   "outputs": [
    {
     "name": "stdout",
     "output_type": "stream",
     "text": [
      "ColDefs(\n",
      "    name = 'TIME'; format = 'D'; unit = 'BJD - 2457000, days'; disp = 'D14.7'\n",
      "    name = 'TIMECORR'; format = 'E'; unit = 'd'; disp = 'E14.7'\n",
      "    name = 'CADENCENO'; format = 'J'; disp = 'I10'\n",
      "    name = 'RAW_CNTS'; format = '121J'; unit = 'count'; null = -1; disp = 'I8'; dim = '(11,11)'\n",
      "    name = 'FLUX'; format = '121E'; unit = 'e-/s'; disp = 'E14.7'; dim = '(11,11)'\n",
      "    name = 'FLUX_ERR'; format = '121E'; unit = 'e-/s'; disp = 'E14.7'; dim = '(11,11)'\n",
      "    name = 'FLUX_BKG'; format = '121E'; unit = 'e-/s'; disp = 'E14.7'; dim = '(11,11)'\n",
      "    name = 'FLUX_BKG_ERR'; format = '121E'; unit = 'e-/s'; disp = 'E14.7'; dim = '(11,11)'\n",
      "    name = 'QUALITY'; format = 'J'; disp = 'B16.16'\n",
      "    name = 'POS_CORR1'; format = 'E'; unit = 'pixel'; disp = 'E14.7'\n",
      "    name = 'POS_CORR2'; format = 'E'; unit = 'pixel'; disp = 'E14.7'\n",
      ")\n"
     ]
    },
    {
     "data": {
      "text/plain": [
       "XTENSION= 'BINTABLE'           / marks the beginning of a new HDU               \n",
       "BITPIX  =                    8 / array data type                                \n",
       "NAXIS   =                    2 / number of array dimensions                     \n",
       "NAXIS1  =                 2448 / length of first array dimension                \n",
       "NAXIS2  =                20479 / length of second array dimension               \n",
       "PCOUNT  =                    0 / group parameter count (not used)               \n",
       "GCOUNT  =                    1 / group count (not used)                         \n",
       "TFIELDS =                   11 / number of table fields                         \n",
       "TTYPE1  = 'TIME    '           / column title: data time stamps                 \n",
       "TFORM1  = 'D       '           / column format: 64-bit floating point           \n",
       "TUNIT1  = 'BJD - 2457000, days' / column units: Barycenter corrected TESS Julian\n",
       "TDISP1  = 'D14.7   '           / column display format                          \n",
       "TTYPE2  = 'TIMECORR'           / column title: barycentric correction           \n",
       "TFORM2  = 'E       '           / column format: 32-bit floating point           \n",
       "TUNIT2  = 'd       '           / column units: Days                             \n",
       "TDISP2  = 'E14.7   '           / column display format                          \n",
       "TTYPE3  = 'CADENCENO'          / column title: unique cadence number            \n",
       "TFORM3  = 'J       '           / column format: signed 32-bit integer           \n",
       "TDISP3  = 'I10     '           / column display format                          \n",
       "TTYPE4  = 'RAW_CNTS'           / column title: raw pixel counts                 \n",
       "TFORM4  = '121J    '           / column format: image of signed 32-bit integers \n",
       "TUNIT4  = 'count   '           / column units: count                            \n",
       "TDISP4  = 'I8      '           / column display format                          \n",
       "TDIM4   = '(11,11) '           / column dimensions: pixel aperture array        \n",
       "TNULL4  =                   -1 / column null value indicator                    \n",
       "WCSN4P  = 'PHYSICAL'           / table column WCS name                          \n",
       "WCAX4P  =                    2 / table column physical WCS dimensions           \n",
       "1CTY4P  = 'RAWX    '           / table column physical WCS axis 1 type, CCD col \n",
       "2CTY4P  = 'RAWY    '           / table column physical WCS axis 2 type, CCD row \n",
       "1CUN4P  = 'PIXEL   '           / table column physical WCS axis 1 unit          \n",
       "2CUN4P  = 'PIXEL   '           / table column physical WCS axis 2 unit          \n",
       "1CRV4P  =                 1542 / table column physical WCS ax 1 ref value       \n",
       "2CRV4P  =                 1619 / table column physical WCS ax 2 ref value       \n",
       "1CDL4P  =                  1.0 / table column physical WCS a1 step              \n",
       "2CDL4P  =                  1.0 / table column physical WCS a2 step              \n",
       "1CRP4P  =                    1 / table column physical WCS a1 reference         \n",
       "2CRP4P  =                    1 / table column physical WCS a2 reference         \n",
       "WCAX4   =                    2 / number of WCS axes                             \n",
       "1CTYP4  = 'RA---TAN'           / right ascension coordinate type                \n",
       "2CTYP4  = 'DEC--TAN'           / declination coordinate type                    \n",
       "1CRPX4  =   6.6615771181814125 / [pixel] reference pixel along image axis 1     \n",
       "2CRPX4  =   6.3753191791356585 / [pixel] reference pixel along image axis 2     \n",
       "1CRVL4  =  72.6940498364845100 / [deg] right ascension at reference pixel       \n",
       "2CRVL4  = -60.9054717932506300 / [deg] declination at reference pixel           \n",
       "1CUNI4  = 'deg     '           / physical unit in column dimension              \n",
       "2CUNI4  = 'deg     '           / physical unit in row dimension                 \n",
       "1CDLT4  =   -0.005685310330966 / [deg] pixel scale in RA dimension              \n",
       "2CDLT4  = 0.005685310330966358 / [deg] pixel scale in DEC dimension             \n",
       "11PC4   =   0.8871175584101578 / linear transformation matrix element cos(th)   \n",
       "12PC4   =  0.46113085355030403 / linear transformation matrix element -sin(th)  \n",
       "21PC4   =   0.4365851793953082 / linear transformation matrix element sin(th)   \n",
       "22PC4   =  -0.9003058230629242 / linear transformation matrix element cos(th)   \n",
       "TTYPE5  = 'FLUX    '           / column title: calibrated pixel flux            \n",
       "TFORM5  = '121E    '           / column format: image of 32-bit floating point  \n",
       "TUNIT5  = 'e-/s    '           / column units: electrons per second             \n",
       "TDISP5  = 'E14.7   '           / column display format                          \n",
       "TDIM5   = '(11,11) '           / column dimensions: pixel aperture array        \n",
       "WCSN5P  = 'PHYSICAL'           / table column WCS name                          \n",
       "WCAX5P  =                    2 / table column physical WCS dimensions           \n",
       "1CTY5P  = 'RAWX    '           / table column physical WCS axis 1 type, CCD col \n",
       "2CTY5P  = 'RAWY    '           / table column physical WCS axis 2 type, CCD row \n",
       "1CUN5P  = 'PIXEL   '           / table column physical WCS axis 1 unit          \n",
       "2CUN5P  = 'PIXEL   '           / table column physical WCS axis 2 unit          \n",
       "1CRV5P  =                 1542 / table column physical WCS ax 1 ref value       \n",
       "2CRV5P  =                 1619 / table column physical WCS ax 2 ref value       \n",
       "1CDL5P  =                  1.0 / table column physical WCS a1 step              \n",
       "2CDL5P  =                  1.0 / table column physical WCS a2 step              \n",
       "1CRP5P  =                    1 / table column physical WCS a1 reference         \n",
       "2CRP5P  =                    1 / table column physical WCS a2 reference         \n",
       "WCAX5   =                    2 / number of WCS axes                             \n",
       "1CTYP5  = 'RA---TAN'           / right ascension coordinate type                \n",
       "2CTYP5  = 'DEC--TAN'           / declination coordinate type                    \n",
       "1CRPX5  =   6.6615771181814125 / [pixel] reference pixel along image axis 1     \n",
       "2CRPX5  =   6.3753191791356585 / [pixel] reference pixel along image axis 2     \n",
       "1CRVL5  =  72.6940498364845100 / [deg] right ascension at reference pixel       \n",
       "2CRVL5  = -60.9054717932506300 / [deg] declination at reference pixel           \n",
       "1CUNI5  = 'deg     '           / physical unit in column dimension              \n",
       "2CUNI5  = 'deg     '           / physical unit in row dimension                 \n",
       "1CDLT5  =   -0.005685310330966 / [deg] pixel scale in RA dimension              \n",
       "2CDLT5  = 0.005685310330966358 / [deg] pixel scale in DEC dimension             \n",
       "11PC5   =   0.8871175584101578 / linear transformation matrix element cos(th)   \n",
       "12PC5   =  0.46113085355030403 / linear transformation matrix element -sin(th)  \n",
       "21PC5   =   0.4365851793953082 / linear transformation matrix element sin(th)   \n",
       "22PC5   =  -0.9003058230629242 / linear transformation matrix element cos(th)   \n",
       "TTYPE6  = 'FLUX_ERR'           / column title: 1-sigma calibrated uncertainty   \n",
       "TFORM6  = '121E    '           / column format: image of 32-bit floating point  \n",
       "TUNIT6  = 'e-/s    '           / column units: electrons per second (1-sigma)   \n",
       "TDISP6  = 'E14.7   '           / column display format                          \n",
       "TDIM6   = '(11,11) '           / column dimensions: pixel aperture array        \n",
       "WCSN6P  = 'PHYSICAL'           / table column WCS name                          \n",
       "WCAX6P  =                    2 / table column physical WCS dimensions           \n",
       "1CTY6P  = 'RAWX    '           / table column physical WCS axis 1 type, CCD col \n",
       "2CTY6P  = 'RAWY    '           / table column physical WCS axis 2 type, CCD row \n",
       "1CUN6P  = 'PIXEL   '           / table column physical WCS axis 1 unit          \n",
       "2CUN6P  = 'PIXEL   '           / table column physical WCS axis 2 unit          \n",
       "1CRV6P  =                 1542 / table column physical WCS ax 1 ref value       \n",
       "2CRV6P  =                 1619 / table column physical WCS ax 2 ref value       \n",
       "1CDL6P  =                  1.0 / table column physical WCS a1 step              \n",
       "2CDL6P  =                  1.0 / table column physical WCS a2 step              \n",
       "1CRP6P  =                    1 / table column physical WCS a1 reference         \n",
       "2CRP6P  =                    1 / table column physical WCS a2 reference         \n",
       "WCAX6   =                    2 / number of WCS axes                             \n",
       "1CTYP6  = 'RA---TAN'           / right ascension coordinate type                \n",
       "2CTYP6  = 'DEC--TAN'           / declination coordinate type                    \n",
       "1CRPX6  =   6.6615771181814125 / [pixel] reference pixel along image axis 1     \n",
       "2CRPX6  =   6.3753191791356585 / [pixel] reference pixel along image axis 2     \n",
       "1CRVL6  =  72.6940498364845100 / [deg] right ascension at reference pixel       \n",
       "2CRVL6  = -60.9054717932506300 / [deg] declination at reference pixel           \n",
       "1CUNI6  = 'deg     '           / physical unit in column dimension              \n",
       "2CUNI6  = 'deg     '           / physical unit in row dimension                 \n",
       "1CDLT6  =   -0.005685310330966 / [deg] pixel scale in RA dimension              \n",
       "2CDLT6  = 0.005685310330966358 / [deg] pixel scale in DEC dimension             \n",
       "11PC6   =   0.8871175584101578 / linear transformation matrix element cos(th)   \n",
       "12PC6   =  0.46113085355030403 / linear transformation matrix element -sin(th)  \n",
       "21PC6   =   0.4365851793953082 / linear transformation matrix element sin(th)   \n",
       "22PC6   =  -0.9003058230629242 / linear transformation matrix element cos(th)   \n",
       "TTYPE7  = 'FLUX_BKG'           / column title: calibrated background flux       \n",
       "TFORM7  = '121E    '           / column format: image of 32-bit floating point  \n",
       "TUNIT7  = 'e-/s    '           / column units: electrons per second             \n",
       "TDISP7  = 'E14.7   '           / column display format                          \n",
       "TDIM7   = '(11,11) '           / column dimensions: pixel aperture array        \n",
       "WCSN7P  = 'PHYSICAL'           / table column WCS name                          \n",
       "WCAX7P  =                    2 / table column physical WCS dimensions           \n",
       "1CTY7P  = 'RAWX    '           / table column physical WCS axis 1 type, CCD col \n",
       "2CTY7P  = 'RAWY    '           / table column physical WCS axis 2 type, CCD row \n",
       "1CUN7P  = 'PIXEL   '           / table column physical WCS axis 1 unit          \n",
       "2CUN7P  = 'PIXEL   '           / table column physical WCS axis 2 unit          \n",
       "1CRV7P  =                 1542 / table column physical WCS ax 1 ref value       \n",
       "2CRV7P  =                 1619 / table column physical WCS ax 2 ref value       \n",
       "1CDL7P  =                  1.0 / table column physical WCS a1 step              \n",
       "2CDL7P  =                  1.0 / table column physical WCS a2 step              \n",
       "1CRP7P  =                    1 / table column physical WCS a1 reference         \n",
       "2CRP7P  =                    1 / table column physical WCS a2 reference         \n",
       "WCAX7   =                    2 / number of WCS axes                             \n",
       "1CTYP7  = 'RA---TAN'           / right ascension coordinate type                \n",
       "2CTYP7  = 'DEC--TAN'           / declination coordinate type                    \n",
       "1CRPX7  =   6.6615771181814125 / [pixel] reference pixel along image axis 1     \n",
       "2CRPX7  =   6.3753191791356585 / [pixel] reference pixel along image axis 2     \n",
       "1CRVL7  =  72.6940498364845100 / [deg] right ascension at reference pixel       \n",
       "2CRVL7  = -60.9054717932506300 / [deg] declination at reference pixel           \n",
       "1CUNI7  = 'deg     '           / physical unit in column dimension              \n",
       "2CUNI7  = 'deg     '           / physical unit in row dimension                 \n",
       "1CDLT7  =   -0.005685310330966 / [deg] pixel scale in RA dimension              \n",
       "2CDLT7  = 0.005685310330966358 / [deg] pixel scale in DEC dimension             \n",
       "11PC7   =   0.8871175584101578 / linear transformation matrix element cos(th)   \n",
       "12PC7   =  0.46113085355030403 / linear transformation matrix element -sin(th)  \n",
       "21PC7   =   0.4365851793953082 / linear transformation matrix element sin(th)   \n",
       "22PC7   =  -0.9003058230629242 / linear transformation matrix element cos(th)   \n",
       "TTYPE8  = 'FLUX_BKG_ERR'       / column title: 1-sigma cal. background uncertain\n",
       "TFORM8  = '121E    '           / column format: image of 32-bit floating point  \n",
       "TUNIT8  = 'e-/s    '           / column units: electrons per second (1-sigma)   \n",
       "TDISP8  = 'E14.7   '           / column display format                          \n",
       "TDIM8   = '(11,11) '           / column dimensions: pixel aperture array        \n",
       "WCSN8P  = 'PHYSICAL'           / table column WCS name                          \n",
       "WCAX8P  =                    2 / table column physical WCS dimensions           \n",
       "1CTY8P  = 'RAWX    '           / table column physical WCS axis 1 type, CCD col \n",
       "2CTY8P  = 'RAWY    '           / table column physical WCS axis 2 type, CCD row \n",
       "1CUN8P  = 'PIXEL   '           / table column physical WCS axis 1 unit          \n",
       "2CUN8P  = 'PIXEL   '           / table column physical WCS axis 2 unit          \n",
       "1CRV8P  =                 1542 / table column physical WCS ax 1 ref value       \n",
       "2CRV8P  =                 1619 / table column physical WCS ax 2 ref value       \n",
       "1CDL8P  =                  1.0 / table column physical WCS a1 step              \n",
       "2CDL8P  =                  1.0 / table column physical WCS a2 step              \n",
       "1CRP8P  =                    1 / table column physical WCS a1 reference         \n",
       "2CRP8P  =                    1 / table column physical WCS a2 reference         \n",
       "WCAX8   =                    2 / number of WCS axes                             \n",
       "1CTYP8  = 'RA---TAN'           / right ascension coordinate type                \n",
       "2CTYP8  = 'DEC--TAN'           / declination coordinate type                    \n",
       "1CRPX8  =   6.6615771181814125 / [pixel] reference pixel along image axis 1     \n",
       "2CRPX8  =   6.3753191791356585 / [pixel] reference pixel along image axis 2     \n",
       "1CRVL8  =  72.6940498364845100 / [deg] right ascension at reference pixel       \n",
       "2CRVL8  = -60.9054717932506300 / [deg] declination at reference pixel           \n",
       "1CUNI8  = 'deg     '           / physical unit in column dimension              \n",
       "2CUNI8  = 'deg     '           / physical unit in row dimension                 \n",
       "1CDLT8  =   -0.005685310330966 / [deg] pixel scale in RA dimension              \n",
       "2CDLT8  = 0.005685310330966358 / [deg] pixel scale in DEC dimension             \n",
       "11PC8   =   0.8871175584101578 / linear transformation matrix element cos(th)   \n",
       "12PC8   =  0.46113085355030403 / linear transformation matrix element -sin(th)  \n",
       "21PC8   =   0.4365851793953082 / linear transformation matrix element sin(th)   \n",
       "22PC8   =  -0.9003058230629242 / linear transformation matrix element cos(th)   \n",
       "TTYPE9  = 'QUALITY '           / column title: pixel quality flags              \n",
       "TFORM9  = 'J       '           / column format: signed 32-bit integer           \n",
       "TDISP9  = 'B16.16  '           / column display format                          \n",
       "TTYPE10 = 'POS_CORR1'          / column title: column position correction       \n",
       "TFORM10 = 'E       '           / column format: 32-bit floating point           \n",
       "TUNIT10 = 'pixel   '           / column units: pixel                            \n",
       "TDISP10 = 'E14.7   '           / column display format                          \n",
       "TTYPE11 = 'POS_CORR2'          / column title: row position correction          \n",
       "TFORM11 = 'E       '           / column format: 32-bit floating point           \n",
       "TUNIT11 = 'pixel   '           / column units: pixel                            \n",
       "TDISP11 = 'E14.7   '           / column display format                          \n",
       "INHERIT =                    T / inherit the primary header                     \n",
       "EXTNAME = 'PIXELS  '           / name of extension                              \n",
       "EXTVER  =                    1 / extension version number (not format version)  \n",
       "SIMDATA =                    F / file is based on simulated data                \n",
       "TELESCOP= 'TESS    '           / telescope                                      \n",
       "INSTRUME= 'TESS Photometer'    / detector type                                  \n",
       "OBJECT  = 'TIC 55525572'       / string version of target id                    \n",
       "TICID   =             55525572 / unique tess target identifier                  \n",
       "RADESYS = 'ICRS    '           / reference frame of celestial coordinates       \n",
       "RA_OBJ  =  72.6940498364845100 / [deg] right ascension                          \n",
       "DEC_OBJ = -60.9054717932506300 / [deg] declination                              \n",
       "EQUINOX =               2000.0 / equinox of celestial coordinate system         \n",
       "EXPOSURE=      21.792422045048 / [d] time on source                             \n",
       "TIMEREF = 'SOLARSYSTEM'        / barycentric correction applied to times        \n",
       "TASSIGN = 'SPACECRAFT'         / where time is assigned                         \n",
       "TIMESYS = 'TDB     '           / time system is Barycentric Dynamical Time (TDB)\n",
       "BJDREFI =              2457000 / integer part of BTJD reference date            \n",
       "BJDREFF =           0.00000000 / fraction of the day in BTJD reference date     \n",
       "TIMEUNIT= 'd       '           / time unit for TIME, TSTART and TSTOP           \n",
       "TELAPSE =      28.443475888850 / [d] TSTOP - TSTART                             \n",
       "LIVETIME=  22.5272329039694730 / [d] TELAPSE multiplied by DEADC                \n",
       "TSTART  =    1653.913871473442 / observation start time in BTJD                 \n",
       "TSTOP   =    1682.357347362292 / observation stop time in BTJD                  \n",
       "DATE-OBS= '2019-06-19T09:54:49.311Z' / TSTART as UTC calendar date              \n",
       "DATE-END= '2019-07-17T20:33:25.628Z' / TSTOP as UTC calendar date               \n",
       "DEADC   =   0.7920000000000000 / deadtime correction                            \n",
       "TIMEPIXR=                  0.5 / bin time beginning=0 middle=0.5 end=1          \n",
       "TIERRELA=             1.16E-05 / [d] relative time error                        \n",
       "INT_TIME=       1.980000000000 / [s] photon accumulation time per frame         \n",
       "READTIME=       0.020000000000 / [s] readout time per frame                     \n",
       "FRAMETIM=       2.000000000000 / [s] frame time (INT_TIME + READTIME)           \n",
       "NUM_FRM =                   60 / number of frames per time stamp                \n",
       "TIMEDEL = 0.001388888888888889 / [d] time resolution of data                    \n",
       "BACKAPP =                    T / background is subtracted                       \n",
       "DEADAPP =                    T / deadtime applied                               \n",
       "VIGNAPP =                    T / vignetting or collimator correction applied    \n",
       "GAINA   =    5.239999771118164 / [electrons/count] CCD output A gain            \n",
       "GAINB   =    5.119999885559082 / [electrons/count] CCD output B gain            \n",
       "GAINC   =    5.159999847412109 / [electrons/count] CCD output C gain            \n",
       "GAIND   =    5.159999847412109 / [electrons/count] CCD output D gain            \n",
       "READNOIA=   10.270400047302246 / [electrons] read noise CCD output A            \n",
       "READNOIB=    7.424000263214111 / [electrons] read noise CCD output B            \n",
       "READNOIC=    7.327199459075928 / [electrons] read noise CCD output C            \n",
       "READNOID=    9.391200065612793 / [electrons] read noise CCD output D            \n",
       "NREADOUT=                   48 / number of read per cadence                     \n",
       "FXDOFF  =               209700 / compression fixed offset                       \n",
       "CDPP0_5 =         284.62225342 / RMS CDPP on 0.5-hr time scales                 \n",
       "CDPP1_0 =         208.55677795 / RMS CDPP on 1.0-hr time scales                 \n",
       "CDPP2_0 =         155.13093567 / RMS CDPP on 2.0-hr time scales                 \n",
       "CROWDSAP=           0.98227268 / Ratio of target flux to total flux in op. ap.  \n",
       "FLFRCSAP=           0.87678993 / Frac. of target flux w/in the op. aperture     \n",
       "CHECKSUM= 'GUE4HUC3GUC3GUC3'   / HDU checksum updated 2019-07-29T06:59:38Z      \n",
       "TMOFST44=    1.059999942779541 / (s) readout delay for camera 4 and ccd 4       \n",
       "MEANBLCA=                 6689 / [count] FSW mean black level CCD output A      \n",
       "MEANBLCB=                 6826 / [count] FSW mean black level CCD output B      \n",
       "MEANBLCC=                 6751 / [count] FSW mean black level CCD output C      \n",
       "MEANBLCD=                 6503 / [count] FSW mean black level CCD output D      "
      ]
     },
     "execution_count": 6,
     "metadata": {},
     "output_type": "execute_result"
    }
   ],
   "source": [
    "print(hdu1.columns)\n",
    "hdu1.header\n"
   ]
  },
  {
   "cell_type": "code",
   "execution_count": 7,
   "metadata": {},
   "outputs": [
    {
     "name": "stdout",
     "output_type": "stream",
     "text": [
      "668 records filtered out - no TIME data\n"
     ]
    }
   ],
   "source": [
    "data1 = hdu1.data\n",
    "\n",
    "# filter out incomplete data that would cause processing error\n",
    "_tmp = data1[~np.isnan(data1['TIME'])]\n",
    "print(f\"{len(data1) - len(_tmp)} records filtered out - no TIME data\")\n",
    "data1 = _tmp\n"
   ]
  },
  {
   "cell_type": "code",
   "execution_count": 19,
   "metadata": {},
   "outputs": [
    {
     "data": {
      "text/plain": [
       "<matplotlib.image.AxesImage at 0x1c433eb9470>"
      ]
     },
     "execution_count": 19,
     "metadata": {},
     "output_type": "execute_result"
    },
    {
     "data": {
      "image/png": "[encoded data removed]",
      "text/plain": [
       "<Figure size 432x288 with 1 Axes>"
      ]
     },
     "metadata": {
      "needs_background": "light"
     },
     "output_type": "display_data"
    }
   ],
   "source": [
    "plt.imshow(data1[10000]['RAW_CNTS'], origin='lower')"
   ]
  },
  {
   "cell_type": "code",
   "execution_count": 24,
   "metadata": {},
   "outputs": [
    {
     "name": "stdout",
     "output_type": "stream",
     "text": [
      "ColDefs(\n",
      "    name = 'CADENCENO'; format = 'J'; disp = 'I10'\n",
      "    name = 'RAWX'; format = 'I'; unit = 'pixel'; disp = 'I4'\n",
      "    name = 'RAWY'; format = 'I'; unit = 'pixel'; disp = 'I4'\n",
      "    name = 'COSMIC_RAY'; format = 'E'; unit = 'e-/s'; disp = 'E14.7'\n",
      ")\n"
     ]
    },
    {
     "data": {
      "text/plain": [
       "XTENSION= 'BINTABLE'           / marks the beginning of a new HDU               \n",
       "BITPIX  =                    8 / array data type                                \n",
       "NAXIS   =                    2 / number of array dimensions                     \n",
       "NAXIS1  =                   12 / length of first array dimension                \n",
       "NAXIS2  =                    0 / length of second array dimension               \n",
       "PCOUNT  =                    0 / group parameter count (not used)               \n",
       "GCOUNT  =                    1 / group count (not used)                         \n",
       "TFIELDS =                    4 / number of table fields                         \n",
       "TTYPE1  = 'CADENCENO'          / column title: unique cadence number            \n",
       "TFORM1  = 'J       '           / column format: signed 32-bit integer           \n",
       "TDISP1  = 'I10     '           / column display format                          \n",
       "TTYPE2  = 'RAWX    '           / column title: CCD column                       \n",
       "TFORM2  = 'I       '           / column format: signed 16-bit integer           \n",
       "TUNIT2  = 'pixel   '           / column units: null                             \n",
       "TDISP2  = 'I4      '           / column display format                          \n",
       "TTYPE3  = 'RAWY    '           / column title: CCD row                          \n",
       "TFORM3  = 'I       '           / column format: signed 16-bit integer           \n",
       "TUNIT3  = 'pixel   '           / column units: null                             \n",
       "TDISP3  = 'I4      '           / column display format                          \n",
       "TTYPE4  = 'COSMIC_RAY'         / column title: cosmic ray correction            \n",
       "TFORM4  = 'E       '           / column format: 32-bit floating point           \n",
       "TUNIT4  = 'e-/s    '           / column units: electrons per second             \n",
       "TDISP4  = 'E14.7   '           / column display format                          \n",
       "INHERIT =                    T / inherit the primary header                     \n",
       "EXTNAME = 'TARGET COSMIC RAY'  / name of extension                              \n",
       "EXTVER  =                    1 / extension version number (not format version)  \n",
       "SIMDATA =                    F / file is based on simulated data                "
      ]
     },
     "execution_count": 24,
     "metadata": {},
     "output_type": "execute_result"
    }
   ],
   "source": [
    "print(hdu3.columns)\n",
    "hdu3.header\n"
   ]
  },
  {
   "cell_type": "code",
   "execution_count": 25,
   "metadata": {},
   "outputs": [
    {
     "data": {
      "text/plain": [
       "0"
      ]
     },
     "execution_count": 25,
     "metadata": {},
     "output_type": "execute_result"
    }
   ],
   "source": [
    "data3 = hdu3.data\n",
    "len(data3)"
   ]
  },
  {
   "cell_type": "code",
   "execution_count": 8,
   "metadata": {},
   "outputs": [],
   "source": [
    "# close the file\n",
    "hdulist.close()"
   ]
  },
  {
   "cell_type": "code",
   "execution_count": 9,
   "metadata": {},
   "outputs": [
    {
     "data": {
      "text/plain": [
       "113454"
      ]
     },
     "execution_count": 9,
     "metadata": {},
     "output_type": "execute_result"
    }
   ],
   "source": []
  }
 ],
 "metadata": {
  "kernelspec": {
   "display_name": "Python 3",
   "language": "python",
   "name": "python3"
  },
  "language_info": {
   "codemirror_mode": {
    "name": "ipython",
    "version": 3
   },
   "file_extension": ".py",
   "mimetype": "text/x-python",
   "name": "python",
   "nbconvert_exporter": "python",
   "pygments_lexer": "ipython3",
   "version": "3.7.3"
  }
 },
 "nbformat": 4,
 "nbformat_minor": 2
}
